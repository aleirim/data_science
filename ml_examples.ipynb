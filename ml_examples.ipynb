{
 "cells": [
  {
   "cell_type": "markdown",
   "id": "0b0118e7",
   "metadata": {},
   "source": [
    "#### Goal\n",
    " \n",
    "Using the cleaned and preprocessed version of the Titanic dataset:\n",
    "1.\tBuild and evaluate the set of nine classifiers to predict whether the passengers survived the sinking of the Titanic.\n",
    "    - Models: logistic regression, support vector machines, k-nearest neighbors, naive Bayes and artificial neural network with two hidden layers\n",
    "2.\tCompare the performance of all the nine classifiers using ROC-AUC as well as confusion-matrix based performance evaluation measures. Select the “best performer” on the hold-out testset."
   ]
  },
  {
   "cell_type": "code",
   "execution_count": 1,
   "id": "a22cb9ad",
   "metadata": {},
   "outputs": [],
   "source": [
    "import pandas as pd\n",
    "import seaborn as sns\n",
    "import matplotlib.pyplot as plt\n",
    "import numpy as np\n",
    "import re\n",
    "import warnings\n",
    "\n",
    "from sklearn.tree import DecisionTreeClassifier, plot_tree, export_graphviz\n",
    "from sklearn.ensemble import RandomForestClassifier, AdaBoostClassifier, GradientBoostingClassifier\n",
    "from sklearn.inspection import DecisionBoundaryDisplay\n",
    "from sklearn.model_selection import train_test_split\n",
    "from sklearn.model_selection import KFold\n",
    "from sklearn.preprocessing import StandardScaler\n",
    "from sklearn.linear_model import LogisticRegression\n",
    "from sklearn.neighbors import KNeighborsClassifier\n",
    "from sklearn.neural_network import MLPClassifier\n",
    "from sklearn.naive_bayes import CategoricalNB\n",
    "from sklearn.model_selection import GridSearchCV\n",
    "from sklearn.svm import SVC\n",
    "from sklearn import metrics\n",
    "from IPython.display import Markdown, Image\n",
    "\n",
    "warnings.filterwarnings('ignore')\n",
    "\n",
    "%matplotlib inline"
   ]
  },
  {
   "cell_type": "code",
   "execution_count": 2,
   "id": "751bea04",
   "metadata": {},
   "outputs": [
    {
     "data": {
      "text/html": [
       "<style>\n",
       "table {float:left; border-style: solid;}\n",
       "</style>\n"
      ],
      "text/plain": [
       "<IPython.core.display.HTML object>"
      ]
     },
     "metadata": {},
     "output_type": "display_data"
    }
   ],
   "source": [
    "%%html \n",
    "<style>\n",
    "table {float:left; border-style: solid;}\n",
    "</style>"
   ]
  },
  {
   "cell_type": "markdown",
   "id": "893b2314",
   "metadata": {},
   "source": [
    "Utils"
   ]
  },
  {
   "cell_type": "code",
   "execution_count": 3,
   "id": "68b270b4",
   "metadata": {},
   "outputs": [],
   "source": [
    "def get_cm_based_measures(conf_matrix):\n",
    "    TN = conf_matrix[0][0]\n",
    "    FN = conf_matrix[1][0]\n",
    "    TP = conf_matrix[1][1]\n",
    "    FP = conf_matrix[0][1]\n",
    "    \n",
    "    # TPR = TP / TP + FN\n",
    "    TPR = round(TP / (TP + FN), 6)\n",
    "    # TNR = TN / TN + FP\n",
    "    TNR = round(TN / (TN + FP), 6)\n",
    "    # FPR = FP / TN + FP\n",
    "    FPR = round(FP / (TN + FP), 6)\n",
    "    # FNR = FN / TP + FN\n",
    "    FNR = round(FN / (TP + FN), 6)\n",
    "    # accuracy (TP + TN) / (TP + TN + FP + FN)\n",
    "    accuracy = (TP + TN) / (TP + TN + FP + FN)\n",
    "    \n",
    "    # precision = TP / TP + FP\n",
    "    precision = TP / (TP + FP)\n",
    "    # recall = TP / TP + FN\n",
    "    recall_pos = round(TP / (TP + FN), 6)\n",
    "    recall_neg = round(TN / (TN + FP), 6)\n",
    "    # avg class accuracy\n",
    "    avg_acc = 1/2*(recall_pos+recall_neg)\n",
    "    \n",
    "    print( f'TPR: {TPR}   TNR: {TNR}   FPR: {FPR}   FNR: {FNR}   Accuracy: {accuracy}   Avg. Class Acc: {avg_acc}')"
   ]
  },
  {
   "cell_type": "markdown",
   "id": "0b02c0f9",
   "metadata": {},
   "source": [
    "### Dataset"
   ]
  },
  {
   "cell_type": "code",
   "execution_count": 4,
   "id": "d5ef24a4",
   "metadata": {},
   "outputs": [
    {
     "data": {
      "text/plain": [
       "(891, 6)"
      ]
     },
     "metadata": {},
     "output_type": "display_data"
    },
    {
     "name": "stdout",
     "output_type": "stream",
     "text": [
      "<class 'pandas.core.frame.DataFrame'>\n",
      "RangeIndex: 891 entries, 0 to 890\n",
      "Data columns (total 6 columns):\n",
      " #   Column      Non-Null Count  Dtype\n",
      "---  ------      --------------  -----\n",
      " 0   Survived    891 non-null    int64\n",
      " 1   Pclass      891 non-null    int64\n",
      " 2   Salutation  891 non-null    int64\n",
      " 3   FareBand    891 non-null    int64\n",
      " 4   AgeBand     891 non-null    int64\n",
      " 5   FSizeBand   891 non-null    int64\n",
      "dtypes: int64(6)\n",
      "memory usage: 41.9 KB\n"
     ]
    },
    {
     "data": {
      "text/html": [
       "<div>\n",
       "<style scoped>\n",
       "    .dataframe tbody tr th:only-of-type {\n",
       "        vertical-align: middle;\n",
       "    }\n",
       "\n",
       "    .dataframe tbody tr th {\n",
       "        vertical-align: top;\n",
       "    }\n",
       "\n",
       "    .dataframe thead th {\n",
       "        text-align: right;\n",
       "    }\n",
       "</style>\n",
       "<table border=\"1\" class=\"dataframe\">\n",
       "  <thead>\n",
       "    <tr style=\"text-align: right;\">\n",
       "      <th></th>\n",
       "      <th>Survived</th>\n",
       "      <th>Pclass</th>\n",
       "      <th>Salutation</th>\n",
       "      <th>FareBand</th>\n",
       "      <th>AgeBand</th>\n",
       "      <th>FSizeBand</th>\n",
       "    </tr>\n",
       "  </thead>\n",
       "  <tbody>\n",
       "    <tr>\n",
       "      <th>0</th>\n",
       "      <td>0</td>\n",
       "      <td>3</td>\n",
       "      <td>0</td>\n",
       "      <td>1</td>\n",
       "      <td>2</td>\n",
       "      <td>2</td>\n",
       "    </tr>\n",
       "    <tr>\n",
       "      <th>1</th>\n",
       "      <td>1</td>\n",
       "      <td>1</td>\n",
       "      <td>3</td>\n",
       "      <td>4</td>\n",
       "      <td>4</td>\n",
       "      <td>2</td>\n",
       "    </tr>\n",
       "    <tr>\n",
       "      <th>2</th>\n",
       "      <td>1</td>\n",
       "      <td>3</td>\n",
       "      <td>4</td>\n",
       "      <td>2</td>\n",
       "      <td>2</td>\n",
       "      <td>1</td>\n",
       "    </tr>\n",
       "    <tr>\n",
       "      <th>3</th>\n",
       "      <td>1</td>\n",
       "      <td>1</td>\n",
       "      <td>3</td>\n",
       "      <td>4</td>\n",
       "      <td>3</td>\n",
       "      <td>2</td>\n",
       "    </tr>\n",
       "    <tr>\n",
       "      <th>4</th>\n",
       "      <td>0</td>\n",
       "      <td>3</td>\n",
       "      <td>0</td>\n",
       "      <td>2</td>\n",
       "      <td>3</td>\n",
       "      <td>1</td>\n",
       "    </tr>\n",
       "  </tbody>\n",
       "</table>\n",
       "</div>"
      ],
      "text/plain": [
       "   Survived  Pclass  Salutation  FareBand  AgeBand  FSizeBand\n",
       "0         0       3           0         1        2          2\n",
       "1         1       1           3         4        4          2\n",
       "2         1       3           4         2        2          1\n",
       "3         1       1           3         4        3          2\n",
       "4         0       3           0         2        3          1"
      ]
     },
     "execution_count": 4,
     "metadata": {},
     "output_type": "execute_result"
    }
   ],
   "source": [
    "# importing the dataset\n",
    "data_path = 'data/'\n",
    "file_name = 'titanic_preproc_df.csv'\n",
    "titanic_df = pd.read_csv(data_path+file_name)\n",
    "display(titanic_df.shape)\n",
    "titanic_df.info()\n",
    "titanic_df.head()"
   ]
  },
  {
   "cell_type": "markdown",
   "id": "80d388be",
   "metadata": {},
   "source": [
    "___\n",
    "### Models"
   ]
  },
  {
   "cell_type": "markdown",
   "id": "b925a549",
   "metadata": {},
   "source": [
    "#### Models with default parameters"
   ]
  },
  {
   "cell_type": "markdown",
   "id": "4f4be81b",
   "metadata": {},
   "source": [
    "**1. Decision Trees**"
   ]
  },
  {
   "cell_type": "code",
   "execution_count": 5,
   "id": "074a55d1",
   "metadata": {},
   "outputs": [
    {
     "data": {
      "text/markdown": [
       "#### Training"
      ],
      "text/plain": [
       "<IPython.core.display.Markdown object>"
      ]
     },
     "metadata": {},
     "output_type": "display_data"
    },
    {
     "name": "stdout",
     "output_type": "stream",
     "text": [
      "CPU times: user 1.76 ms, sys: 334 µs, total: 2.09 ms\n",
      "Wall time: 1.86 ms\n"
     ]
    },
    {
     "data": {
      "text/markdown": [
       "#### Execution Time - Classification"
      ],
      "text/plain": [
       "<IPython.core.display.Markdown object>"
      ]
     },
     "metadata": {},
     "output_type": "display_data"
    },
    {
     "name": "stdout",
     "output_type": "stream",
     "text": [
      "CPU times: user 906 µs, sys: 123 µs, total: 1.03 ms\n",
      "Wall time: 985 µs\n"
     ]
    },
    {
     "data": {
      "text/markdown": [
       "#### Model in Test Data"
      ],
      "text/plain": [
       "<IPython.core.display.Markdown object>"
      ]
     },
     "metadata": {},
     "output_type": "display_data"
    },
    {
     "name": "stdout",
     "output_type": "stream",
     "text": [
      "Accuracy: 0.8095\n",
      "Average class accuracy: 0.7823\n",
      "TPR: 0.652482   TNR: 0.912037   FPR: 0.087963   FNR: 0.347518   Accuracy: 0.8095238095238095   Avg. Class Acc: 0.7822595\n"
     ]
    },
    {
     "data": {
      "image/png": "[encoded data removed]",
      "text/plain": [
       "<Figure size 864x360 with 3 Axes>"
      ]
     },
     "metadata": {
      "needs_background": "light"
     },
     "output_type": "display_data"
    },
    {
     "data": {
      "text/markdown": [
       "#### Classification Report"
      ],
      "text/plain": [
       "<IPython.core.display.Markdown object>"
      ]
     },
     "metadata": {},
     "output_type": "display_data"
    },
    {
     "name": "stdout",
     "output_type": "stream",
     "text": [
      "              precision    recall  f1-score   support\n",
      "\n",
      "           0       0.80      0.91      0.85       216\n",
      "           1       0.83      0.65      0.73       141\n",
      "\n",
      "    accuracy                           0.81       357\n",
      "   macro avg       0.81      0.78      0.79       357\n",
      "weighted avg       0.81      0.81      0.80       357\n",
      "\n"
     ]
    }
   ],
   "source": [
    "# split into training and test part\n",
    "features = ['Pclass', 'Salutation', 'FareBand', 'AgeBand', 'FSizeBand']\n",
    "X, y = titanic_df[features], titanic_df['Survived']\n",
    "\n",
    "X_train, X_test, y_train, y_test = train_test_split(X, y, test_size=0.4, random_state=42)\n",
    "\n",
    "# training\n",
    "display(Markdown(\"#### Training\"))\n",
    "dtc = DecisionTreeClassifier() # criterion=gini by default\n",
    "%time dtc.fit(X_train, y_train)\n",
    "\n",
    "# predictions of label classes for the unseen test data\n",
    "display(Markdown(\"#### Execution Time - Classification\"))\n",
    "%time predicted_Y_test = dtc.predict(X_test) # timing classification process\n",
    "\n",
    "display(Markdown(\"#### Model in Test Data\"))\n",
    "# accuracy score\n",
    "accuracy_test = metrics.accuracy_score(y_test, predicted_Y_test)\n",
    "print('Accuracy:', '{:.4f}'.format(accuracy_test))\n",
    "\n",
    "# average class accuracy score\n",
    "avg_acc_test = metrics.balanced_accuracy_score(y_test, predicted_Y_test)\n",
    "print('Average class accuracy:', '{:.4f}'.format(avg_acc_test))\n",
    "\n",
    "# confusion matrix-based performance measures\n",
    "label_class_set = dtc.classes_\n",
    "CM = metrics.confusion_matrix(y_test, predicted_Y_test, labels=label_class_set)\n",
    "get_cm_based_measures(CM)\n",
    "\n",
    "# plotting results -----------------------------------------------------------------------\n",
    "fig, ax = plt.subplots(1,2, figsize=(12,5), gridspec_kw={'wspace': 0.5})\n",
    "\n",
    "# confusion matrix\n",
    "cm_disp = metrics.ConfusionMatrixDisplay.from_predictions(y_test, predicted_Y_test, labels=label_class_set, cmap='Blues', ax=ax[0])\n",
    "ax[0].set_title(\"Confusion Matrix\")\n",
    "\n",
    "# calculate and plot ROC AUC curve\n",
    "roc_disp = metrics.RocCurveDisplay.from_predictions(y_test, predicted_Y_test, ax=ax[1])\n",
    "ax[1].set_title(\"AUC ROC Curve\")\n",
    "plt.show()\n",
    "\n",
    "# classification report\n",
    "display(Markdown(\"#### Classification Report\"))\n",
    "print(metrics.classification_report(y_test, predicted_Y_test))"
   ]
  },
  {
   "cell_type": "markdown",
   "id": "0cc29460",
   "metadata": {},
   "source": [
    "**2. Random Forest**"
   ]
  },
  {
   "cell_type": "code",
   "execution_count": 6,
   "id": "ee37303f",
   "metadata": {},
   "outputs": [
    {
     "data": {
      "text/markdown": [
       "#### Training"
      ],
      "text/plain": [
       "<IPython.core.display.Markdown object>"
      ]
     },
     "metadata": {},
     "output_type": "display_data"
    },
    {
     "name": "stdout",
     "output_type": "stream",
     "text": [
      "CPU times: user 74.1 ms, sys: 1.48 ms, total: 75.6 ms\n",
      "Wall time: 75.4 ms\n"
     ]
    },
    {
     "data": {
      "text/markdown": [
       "#### Execution Time - Classification"
      ],
      "text/plain": [
       "<IPython.core.display.Markdown object>"
      ]
     },
     "metadata": {},
     "output_type": "display_data"
    },
    {
     "name": "stdout",
     "output_type": "stream",
     "text": [
      "CPU times: user 9.18 ms, sys: 469 µs, total: 9.65 ms\n",
      "Wall time: 9.57 ms\n"
     ]
    },
    {
     "data": {
      "text/markdown": [
       "#### Model in Test Data"
      ],
      "text/plain": [
       "<IPython.core.display.Markdown object>"
      ]
     },
     "metadata": {},
     "output_type": "display_data"
    },
    {
     "name": "stdout",
     "output_type": "stream",
     "text": [
      "Accuracy: 0.8179\n",
      "Average class accuracy: 0.7966\n",
      "TPR: 0.695035   TNR: 0.898148   FPR: 0.101852   FNR: 0.304965   Accuracy: 0.8179271708683473   Avg. Class Acc: 0.7965914999999999\n"
     ]
    },
    {
     "data": {
      "image/png": "[encoded data removed]",
      "text/plain": [
       "<Figure size 864x360 with 3 Axes>"
      ]
     },
     "metadata": {
      "needs_background": "light"
     },
     "output_type": "display_data"
    },
    {
     "data": {
      "text/markdown": [
       "#### Classification Report"
      ],
      "text/plain": [
       "<IPython.core.display.Markdown object>"
      ]
     },
     "metadata": {},
     "output_type": "display_data"
    },
    {
     "name": "stdout",
     "output_type": "stream",
     "text": [
      "              precision    recall  f1-score   support\n",
      "\n",
      "           0       0.82      0.90      0.86       216\n",
      "           1       0.82      0.70      0.75       141\n",
      "\n",
      "    accuracy                           0.82       357\n",
      "   macro avg       0.82      0.80      0.80       357\n",
      "weighted avg       0.82      0.82      0.81       357\n",
      "\n"
     ]
    }
   ],
   "source": [
    "# split into training and test part\n",
    "features = ['Pclass', 'Salutation', 'FareBand', 'AgeBand', 'FSizeBand']\n",
    "X, y = titanic_df[features], titanic_df['Survived']\n",
    "\n",
    "X_train, X_test, y_train, y_test = train_test_split(X, y, test_size=0.4, random_state=42)\n",
    "\n",
    "# training\n",
    "display(Markdown(\"#### Training\"))\n",
    "rfc =  RandomForestClassifier() # criterion=gini by default\n",
    "%time rfc.fit(X_train, y_train)\n",
    "\n",
    "# predictions of label classes for the unseen test data\n",
    "display(Markdown(\"#### Execution Time - Classification\"))\n",
    "%time predicted_Y_test = rfc.predict(X_test) # timing classification process\n",
    "\n",
    "display(Markdown(\"#### Model in Test Data\"))\n",
    "# accuracy score\n",
    "accuracy_test = metrics.accuracy_score(y_test, predicted_Y_test)\n",
    "print('Accuracy:', '{:.4f}'.format(accuracy_test))\n",
    "\n",
    "# average class accuracy score\n",
    "avg_acc_test = metrics.balanced_accuracy_score(y_test, predicted_Y_test)\n",
    "print('Average class accuracy:', '{:.4f}'.format(avg_acc_test))\n",
    "\n",
    "# confusion matrix-based performance measures\n",
    "CM = metrics.confusion_matrix(y_test, predicted_Y_test, labels=label_class_set)\n",
    "get_cm_based_measures(CM)\n",
    "\n",
    "# plotting results -----------------------------------------------------------------------\n",
    "fig, ax = plt.subplots(1,2, figsize=(12,5), gridspec_kw={'wspace': 0.5})\n",
    "label_class_set = rfc.classes_\n",
    "\n",
    "# confusion matrix\n",
    "cm_disp = metrics.ConfusionMatrixDisplay.from_predictions(y_test, predicted_Y_test, labels=label_class_set, cmap='Blues', ax=ax[0])\n",
    "ax[0].set_title(\"Confusion Matrix\")\n",
    "\n",
    "# calculate and plot ROC AUC curve\n",
    "roc_disp = metrics.RocCurveDisplay.from_predictions(y_test, predicted_Y_test, ax=ax[1])\n",
    "ax[1].set_title(\"AUC ROC Curve\")\n",
    "plt.show()\n",
    "\n",
    "# classification report\n",
    "display(Markdown(\"#### Classification Report\"))\n",
    "print(metrics.classification_report(y_test, predicted_Y_test))"
   ]
  },
  {
   "cell_type": "markdown",
   "id": "a6bb2d4b",
   "metadata": {},
   "source": [
    "**3. AdaBoost**"
   ]
  },
  {
   "cell_type": "code",
   "execution_count": 7,
   "id": "1330f0ec",
   "metadata": {},
   "outputs": [
    {
     "data": {
      "text/markdown": [
       "#### Training"
      ],
      "text/plain": [
       "<IPython.core.display.Markdown object>"
      ]
     },
     "metadata": {},
     "output_type": "display_data"
    },
    {
     "name": "stdout",
     "output_type": "stream",
     "text": [
      "CPU times: user 40.1 ms, sys: 1.1 ms, total: 41.2 ms\n",
      "Wall time: 40.9 ms\n"
     ]
    },
    {
     "data": {
      "text/markdown": [
       "#### Execution Time - Classification"
      ],
      "text/plain": [
       "<IPython.core.display.Markdown object>"
      ]
     },
     "metadata": {},
     "output_type": "display_data"
    },
    {
     "name": "stdout",
     "output_type": "stream",
     "text": [
      "CPU times: user 5.98 ms, sys: 545 µs, total: 6.52 ms\n",
      "Wall time: 6.36 ms\n"
     ]
    },
    {
     "data": {
      "text/markdown": [
       "#### Model in Test Data"
      ],
      "text/plain": [
       "<IPython.core.display.Markdown object>"
      ]
     },
     "metadata": {},
     "output_type": "display_data"
    },
    {
     "name": "stdout",
     "output_type": "stream",
     "text": [
      "Accuracy: 0.8263\n",
      "Average class accuracy: 0.8085\n",
      "TPR: 0.723404   TNR: 0.893519   FPR: 0.106481   FNR: 0.276596   Accuracy: 0.8263305322128851   Avg. Class Acc: 0.8084614999999999\n"
     ]
    },
    {
     "data": {
      "image/png": "[encoded data removed]",
      "text/plain": [
       "<Figure size 864x360 with 3 Axes>"
      ]
     },
     "metadata": {
      "needs_background": "light"
     },
     "output_type": "display_data"
    },
    {
     "data": {
      "text/markdown": [
       "#### Classification Report"
      ],
      "text/plain": [
       "<IPython.core.display.Markdown object>"
      ]
     },
     "metadata": {},
     "output_type": "display_data"
    },
    {
     "name": "stdout",
     "output_type": "stream",
     "text": [
      "              precision    recall  f1-score   support\n",
      "\n",
      "           0       0.83      0.89      0.86       216\n",
      "           1       0.82      0.72      0.77       141\n",
      "\n",
      "    accuracy                           0.83       357\n",
      "   macro avg       0.82      0.81      0.81       357\n",
      "weighted avg       0.83      0.83      0.82       357\n",
      "\n"
     ]
    }
   ],
   "source": [
    "# split into training and test part\n",
    "features = ['Pclass', 'Salutation', 'FareBand', 'AgeBand', 'FSizeBand']\n",
    "X, y = titanic_df[features], titanic_df['Survived']\n",
    "\n",
    "X_train, X_test, y_train, y_test = train_test_split(X, y, test_size=0.4, random_state=42)\n",
    "\n",
    "# training\n",
    "display(Markdown(\"#### Training\"))\n",
    "abc =  AdaBoostClassifier() # the estimator is DecisionTreeClassifier initialized with max_depth=1 by default\n",
    "%time abc.fit(X_train, y_train)\n",
    "\n",
    "# predictions of label classes for the unseen test data\n",
    "display(Markdown(\"#### Execution Time - Classification\"))\n",
    "%time predicted_Y_test = abc.predict(X_test) # timing classification process\n",
    "\n",
    "display(Markdown(\"#### Model in Test Data\"))\n",
    "# accuracy score\n",
    "accuracy_test = metrics.accuracy_score(y_test, predicted_Y_test)\n",
    "print('Accuracy:', '{:.4f}'.format(accuracy_test))\n",
    "\n",
    "# average class accuracy score\n",
    "avg_acc_test = metrics.balanced_accuracy_score(y_test, predicted_Y_test)\n",
    "print('Average class accuracy:', '{:.4f}'.format(avg_acc_test))\n",
    "\n",
    "# confusion matrix-based performance measures\n",
    "CM = metrics.confusion_matrix(y_test, predicted_Y_test, labels=label_class_set)\n",
    "get_cm_based_measures(CM)\n",
    "\n",
    "# plotting results -----------------------------------------------------------------------\n",
    "fig, ax = plt.subplots(1,2, figsize=(12,5), gridspec_kw={'wspace': 0.5})\n",
    "label_class_set = abc.classes_\n",
    "\n",
    "# confusion matrix\n",
    "cm_disp = metrics.ConfusionMatrixDisplay.from_predictions(y_test, predicted_Y_test, labels=label_class_set, cmap='Blues', ax=ax[0])\n",
    "ax[0].set_title(\"Confusion Matrix\")\n",
    "\n",
    "# calculate and plot ROC AUC curve\n",
    "roc_disp = metrics.RocCurveDisplay.from_predictions(y_test, predicted_Y_test, ax=ax[1])\n",
    "ax[1].set_title(\"AUC ROC Curve\")\n",
    "plt.show()\n",
    "\n",
    "# classification report\n",
    "display(Markdown(\"#### Classification Report\"))\n",
    "print(metrics.classification_report(y_test, predicted_Y_test))"
   ]
  },
  {
   "cell_type": "markdown",
   "id": "c76915cd",
   "metadata": {},
   "source": [
    "**4. Gradient Boosting**"
   ]
  },
  {
   "cell_type": "code",
   "execution_count": 8,
   "id": "5b4a288b",
   "metadata": {},
   "outputs": [
    {
     "data": {
      "text/markdown": [
       "#### Training"
      ],
      "text/plain": [
       "<IPython.core.display.Markdown object>"
      ]
     },
     "metadata": {},
     "output_type": "display_data"
    },
    {
     "name": "stdout",
     "output_type": "stream",
     "text": [
      "CPU times: user 40.9 ms, sys: 836 µs, total: 41.8 ms\n",
      "Wall time: 41.8 ms\n"
     ]
    },
    {
     "data": {
      "text/markdown": [
       "#### Execution Time - Classification"
      ],
      "text/plain": [
       "<IPython.core.display.Markdown object>"
      ]
     },
     "metadata": {},
     "output_type": "display_data"
    },
    {
     "name": "stdout",
     "output_type": "stream",
     "text": [
      "CPU times: user 1.42 ms, sys: 83 µs, total: 1.5 ms\n",
      "Wall time: 1.45 ms\n"
     ]
    },
    {
     "data": {
      "text/markdown": [
       "#### Model in Test Data"
      ],
      "text/plain": [
       "<IPython.core.display.Markdown object>"
      ]
     },
     "metadata": {},
     "output_type": "display_data"
    },
    {
     "name": "stdout",
     "output_type": "stream",
     "text": [
      "Accuracy: 0.8235\n",
      "Average class accuracy: 0.7975\n",
      "TPR: 0.673759   TNR: 0.921296   FPR: 0.078704   FNR: 0.326241   Accuracy: 0.8235294117647058   Avg. Class Acc: 0.7975275\n"
     ]
    },
    {
     "data": {
      "image/png": "[encoded data removed]",
      "text/plain": [
       "<Figure size 864x360 with 3 Axes>"
      ]
     },
     "metadata": {
      "needs_background": "light"
     },
     "output_type": "display_data"
    },
    {
     "data": {
      "text/markdown": [
       "#### Classification Report"
      ],
      "text/plain": [
       "<IPython.core.display.Markdown object>"
      ]
     },
     "metadata": {},
     "output_type": "display_data"
    },
    {
     "name": "stdout",
     "output_type": "stream",
     "text": [
      "              precision    recall  f1-score   support\n",
      "\n",
      "           0       0.81      0.92      0.86       216\n",
      "           1       0.85      0.67      0.75       141\n",
      "\n",
      "    accuracy                           0.82       357\n",
      "   macro avg       0.83      0.80      0.81       357\n",
      "weighted avg       0.83      0.82      0.82       357\n",
      "\n"
     ]
    }
   ],
   "source": [
    "# split into training and test part\n",
    "features = ['Pclass', 'Salutation', 'FareBand', 'AgeBand', 'FSizeBand']\n",
    "X, y = titanic_df[features], titanic_df['Survived']\n",
    "\n",
    "X_train, X_test, y_train, y_test = train_test_split(X, y, test_size=0.4, random_state=42)\n",
    "\n",
    "# training\n",
    "display(Markdown(\"#### Training\"))\n",
    "gbc =  GradientBoostingClassifier() # criterion=friedman_mse by default\n",
    "%time gbc.fit(X_train, y_train)\n",
    "\n",
    "# predictions of label classes for the unseen test data\n",
    "display(Markdown(\"#### Execution Time - Classification\"))\n",
    "%time predicted_Y_test = gbc.predict(X_test) # timing classification process\n",
    "\n",
    "display(Markdown(\"#### Model in Test Data\"))\n",
    "# accuracy score\n",
    "accuracy_test = metrics.accuracy_score(y_test, predicted_Y_test)\n",
    "print('Accuracy:', '{:.4f}'.format(accuracy_test))\n",
    "\n",
    "# average class accuracy score\n",
    "avg_acc_test = metrics.balanced_accuracy_score(y_test, predicted_Y_test)\n",
    "print('Average class accuracy:', '{:.4f}'.format(avg_acc_test))\n",
    "\n",
    "# confusion matrix-based performance measures\n",
    "label_class_set = gbc.classes_\n",
    "CM = metrics.confusion_matrix(y_test, predicted_Y_test, labels=label_class_set)\n",
    "get_cm_based_measures(CM)\n",
    "\n",
    "# plotting results -----------------------------------------------------------------------\n",
    "fig, ax = plt.subplots(1,2, figsize=(12,5), gridspec_kw={'wspace': 0.5})\n",
    "\n",
    "# confusion matrix\n",
    "cm_disp = metrics.ConfusionMatrixDisplay.from_predictions(y_test, predicted_Y_test, labels=label_class_set, cmap='Blues', ax=ax[0])\n",
    "ax[0].set_title(\"Confusion Matrix\")\n",
    "\n",
    "# calculate and plot ROC AUC curve\n",
    "roc_disp = metrics.RocCurveDisplay.from_predictions(y_test, predicted_Y_test, ax=ax[1])\n",
    "ax[1].set_title(\"AUC ROC Curve\")\n",
    "plt.show()\n",
    "\n",
    "# classification report\n",
    "display(Markdown(\"#### Classification Report\"))\n",
    "print(metrics.classification_report(y_test, predicted_Y_test))"
   ]
  },
  {
   "cell_type": "markdown",
   "id": "9d494aae",
   "metadata": {},
   "source": [
    "**5. Logistic Regression**"
   ]
  },
  {
   "cell_type": "code",
   "execution_count": 9,
   "id": "fd312db1",
   "metadata": {},
   "outputs": [
    {
     "data": {
      "text/markdown": [
       "#### Execution Time - Training"
      ],
      "text/plain": [
       "<IPython.core.display.Markdown object>"
      ]
     },
     "metadata": {},
     "output_type": "display_data"
    },
    {
     "name": "stdout",
     "output_type": "stream",
     "text": [
      "CPU times: user 14.7 ms, sys: 5.84 ms, total: 20.6 ms\n",
      "Wall time: 5.79 ms\n"
     ]
    },
    {
     "data": {
      "text/markdown": [
       "#### Execution Time - Classification"
      ],
      "text/plain": [
       "<IPython.core.display.Markdown object>"
      ]
     },
     "metadata": {},
     "output_type": "display_data"
    },
    {
     "name": "stdout",
     "output_type": "stream",
     "text": [
      "CPU times: user 350 µs, sys: 99 µs, total: 449 µs\n",
      "Wall time: 157 µs\n"
     ]
    },
    {
     "data": {
      "text/markdown": [
       "#### Model in Test Data"
      ],
      "text/plain": [
       "<IPython.core.display.Markdown object>"
      ]
     },
     "metadata": {},
     "output_type": "display_data"
    },
    {
     "name": "stdout",
     "output_type": "stream",
     "text": [
      "Simple accuracy: 0.7787\n",
      "Average class accuracy: 0.7580\n",
      "TPR: 0.659574   TNR: 0.856481   FPR: 0.143519   FNR: 0.340426   Accuracy: 0.7787114845938375   Avg. Class Acc: 0.7580275000000001\n"
     ]
    },
    {
     "data": {
      "image/png": "[encoded data removed]",
      "text/plain": [
       "<Figure size 864x360 with 3 Axes>"
      ]
     },
     "metadata": {
      "needs_background": "light"
     },
     "output_type": "display_data"
    },
    {
     "data": {
      "text/markdown": [
       "#### Classification Report"
      ],
      "text/plain": [
       "<IPython.core.display.Markdown object>"
      ]
     },
     "metadata": {},
     "output_type": "display_data"
    },
    {
     "name": "stdout",
     "output_type": "stream",
     "text": [
      "              precision    recall  f1-score   support\n",
      "\n",
      "           0       0.79      0.86      0.82       216\n",
      "           1       0.75      0.66      0.70       141\n",
      "\n",
      "    accuracy                           0.78       357\n",
      "   macro avg       0.77      0.76      0.76       357\n",
      "weighted avg       0.78      0.78      0.78       357\n",
      "\n"
     ]
    }
   ],
   "source": [
    "# preprocess dataset, split into training and test part\n",
    "features = ['Pclass', 'Salutation', 'FareBand', 'AgeBand', 'FSizeBand']\n",
    "X, y = titanic_df[features], titanic_df['Survived']\n",
    "X = StandardScaler().fit_transform(X)\n",
    "X_train, X_test, y_train, y_test = train_test_split(X, y, test_size=0.4, random_state=42)\n",
    "\n",
    "# model: logistic regression\n",
    "lg = LogisticRegression()\n",
    "\n",
    "# training \n",
    "display(Markdown(\"#### Execution Time - Training\"))\n",
    "%time lg.fit(X_train, y_train) # timing training process\n",
    "\n",
    "# predictions of label classes for the unseen test data ----------------------------------\n",
    "display(Markdown(\"#### Execution Time - Classification\"))\n",
    "%time predicted_Y_test = lg.predict(X_test) # timing classification process\n",
    "\n",
    "display(Markdown(\"#### Model in Test Data\"))\n",
    "# metrics\n",
    "# accuracy score\n",
    "accuracy_test = metrics.accuracy_score(y_test, predicted_Y_test)\n",
    "print('Simple accuracy:', '{:.4f}'.format(accuracy_test))\n",
    "\n",
    "# average class accuracy score\n",
    "avg_acc_test = metrics.balanced_accuracy_score(y_test, predicted_Y_test)\n",
    "print('Average class accuracy:', '{:.4f}'.format(avg_acc_test))\n",
    "\n",
    "# confusion matrix-based performance measures\n",
    "label_class_set = gbc.classes_\n",
    "CM = metrics.confusion_matrix(y_test, predicted_Y_test, labels=label_class_set)\n",
    "get_cm_based_measures(CM)\n",
    "\n",
    "# plotting results -----------------------------------------------------------------------\n",
    "label_class_set = lg.classes_\n",
    "fig, ax = plt.subplots(1,2, figsize=(12,5), gridspec_kw={'hspace': 0.3})\n",
    "\n",
    "# calculate and plot confusion matrix\n",
    "cm_disp = metrics.ConfusionMatrixDisplay.from_predictions(y_test, predicted_Y_test, labels=label_class_set, cmap='Blues', ax=ax[0])\n",
    "ax[0].set_title(\"Confusion Matrix\")\n",
    "\n",
    "# calculate and plot ROC AUC curve\n",
    "roc_disp = metrics.RocCurveDisplay.from_predictions(y_test, predicted_Y_test, ax=ax[1])\n",
    "ax[1].set_title(\"AUC ROC Curve\")\n",
    "\n",
    "plt.show()\n",
    "\n",
    "# classification report\n",
    "display(Markdown(\"#### Classification Report\"))\n",
    "print(metrics.classification_report(y_test, predicted_Y_test))"
   ]
  },
  {
   "cell_type": "markdown",
   "id": "5ea539f6",
   "metadata": {},
   "source": [
    "**6. SVM**"
   ]
  },
  {
   "cell_type": "code",
   "execution_count": 10,
   "id": "d8c63b8b",
   "metadata": {
    "scrolled": false
   },
   "outputs": [
    {
     "data": {
      "text/markdown": [
       "#### Execution Time - Training"
      ],
      "text/plain": [
       "<IPython.core.display.Markdown object>"
      ]
     },
     "metadata": {},
     "output_type": "display_data"
    },
    {
     "name": "stdout",
     "output_type": "stream",
     "text": [
      "CPU times: user 9.01 ms, sys: 392 µs, total: 9.4 ms\n",
      "Wall time: 9.14 ms\n"
     ]
    },
    {
     "data": {
      "text/markdown": [
       "#### Execution Time - Classification"
      ],
      "text/plain": [
       "<IPython.core.display.Markdown object>"
      ]
     },
     "metadata": {},
     "output_type": "display_data"
    },
    {
     "name": "stdout",
     "output_type": "stream",
     "text": [
      "CPU times: user 8.75 ms, sys: 267 µs, total: 9.02 ms\n",
      "Wall time: 8.34 ms\n"
     ]
    },
    {
     "data": {
      "text/markdown": [
       "#### Model in Test Data"
      ],
      "text/plain": [
       "<IPython.core.display.Markdown object>"
      ]
     },
     "metadata": {},
     "output_type": "display_data"
    },
    {
     "name": "stdout",
     "output_type": "stream",
     "text": [
      "Accuracy: 0.8095\n",
      "Average class accuracy: 0.7921\n",
      "TPR: 0.70922   TNR: 0.875   FPR: 0.125   FNR: 0.29078   Accuracy: 0.8095238095238095   Avg. Class Acc: 0.79211\n"
     ]
    },
    {
     "data": {
      "image/png": "[encoded data removed]",
      "text/plain": [
       "<Figure size 864x360 with 3 Axes>"
      ]
     },
     "metadata": {
      "needs_background": "light"
     },
     "output_type": "display_data"
    },
    {
     "data": {
      "text/markdown": [
       "#### Classification Report"
      ],
      "text/plain": [
       "<IPython.core.display.Markdown object>"
      ]
     },
     "metadata": {},
     "output_type": "display_data"
    },
    {
     "name": "stdout",
     "output_type": "stream",
     "text": [
      "              precision    recall  f1-score   support\n",
      "\n",
      "           0       0.82      0.88      0.85       216\n",
      "           1       0.79      0.71      0.75       141\n",
      "\n",
      "    accuracy                           0.81       357\n",
      "   macro avg       0.80      0.79      0.80       357\n",
      "weighted avg       0.81      0.81      0.81       357\n",
      "\n"
     ]
    }
   ],
   "source": [
    "# preprocess dataset, split into training and test part\n",
    "features = ['Pclass', 'Salutation', 'FareBand', 'AgeBand', 'FSizeBand']\n",
    "X, y = titanic_df[features], titanic_df['Survived']\n",
    "X = StandardScaler().fit_transform(X)\n",
    "X_train, X_test, y_train, y_test = train_test_split(X, y, test_size=0.4, random_state=42)\n",
    "\n",
    "# model: SVC with default parameters\n",
    "svc_ln = SVC()\n",
    "\n",
    "# training \n",
    "display(Markdown(\"#### Execution Time - Training\"))\n",
    "%time svc_ln.fit(X_train, y_train) # timing training\n",
    "\n",
    "# predictions of label classes for the unseen test data -----------------------------------\n",
    "display(Markdown(\"#### Execution Time - Classification\"))\n",
    "%time predicted_Y_test = svc_ln.predict(X_test)\n",
    "\n",
    "display(Markdown(\"#### Model in Test Data\"))\n",
    "# metrics\n",
    "# accuracy score\n",
    "accuracy_test = metrics.accuracy_score(y_test, predicted_Y_test)\n",
    "print('Accuracy:', '{:.4f}'.format(accuracy_test))\n",
    "\n",
    "# average class accuracy score\n",
    "avg_acc_test = metrics.balanced_accuracy_score(y_test, predicted_Y_test)\n",
    "print('Average class accuracy:', '{:.4f}'.format(avg_acc_test))\n",
    "\n",
    "# confusion matrix-based performance measures\n",
    "label_class_set = svc_ln.classes_\n",
    "CM = metrics.confusion_matrix(y_test, predicted_Y_test, labels=label_class_set)\n",
    "get_cm_based_measures(CM)\n",
    "\n",
    "# plotting results -----------------------------------------------------------------------\n",
    "fig, ax = plt.subplots(1,2, figsize=(12,5), gridspec_kw={'hspace': 0.3})\n",
    "\n",
    "# plot confusion matrix\n",
    "cm_disp = metrics.ConfusionMatrixDisplay(CM).plot(cmap='Blues', ax=ax[0])\n",
    "ax[0].set_title(\"Confusion Matrix\")\n",
    "\n",
    "# calculate and plot ROC AUC curve\n",
    "roc_disp = metrics.RocCurveDisplay.from_predictions(y_test, predicted_Y_test, ax=ax[1])\n",
    "ax[1].set_title(\" AUC ROC Curve\")\n",
    "\n",
    "plt.show()\n",
    "\n",
    "# classification report\n",
    "display(Markdown(\"#### Classification Report\"))\n",
    "print(metrics.classification_report(y_test, predicted_Y_test))"
   ]
  },
  {
   "cell_type": "markdown",
   "id": "458b8ffc",
   "metadata": {},
   "source": [
    "**7. k-nearest neighbors**"
   ]
  },
  {
   "cell_type": "code",
   "execution_count": 11,
   "id": "db42f188",
   "metadata": {},
   "outputs": [
    {
     "data": {
      "text/markdown": [
       "#### Execution Time - Training"
      ],
      "text/plain": [
       "<IPython.core.display.Markdown object>"
      ]
     },
     "metadata": {},
     "output_type": "display_data"
    },
    {
     "name": "stdout",
     "output_type": "stream",
     "text": [
      "CPU times: user 572 µs, sys: 140 µs, total: 712 µs\n",
      "Wall time: 694 µs\n"
     ]
    },
    {
     "data": {
      "text/markdown": [
       "#### Execution Time - Classification"
      ],
      "text/plain": [
       "<IPython.core.display.Markdown object>"
      ]
     },
     "metadata": {},
     "output_type": "display_data"
    },
    {
     "name": "stdout",
     "output_type": "stream",
     "text": [
      "CPU times: user 8.42 ms, sys: 1.09 ms, total: 9.51 ms\n",
      "Wall time: 8.47 ms\n"
     ]
    },
    {
     "data": {
      "text/markdown": [
       "#### Model in Test Data"
      ],
      "text/plain": [
       "<IPython.core.display.Markdown object>"
      ]
     },
     "metadata": {},
     "output_type": "display_data"
    },
    {
     "name": "stdout",
     "output_type": "stream",
     "text": [
      "Accuracy: 0.7927\n",
      "Average class accuracy: 0.7721\n",
      "TPR: 0.673759   TNR: 0.87037   FPR: 0.12963   FNR: 0.326241   Accuracy: 0.7927170868347339   Avg. Class Acc: 0.7720644999999999\n"
     ]
    },
    {
     "data": {
      "image/png": "[encoded data removed]",
      "text/plain": [
       "<Figure size 864x360 with 3 Axes>"
      ]
     },
     "metadata": {
      "needs_background": "light"
     },
     "output_type": "display_data"
    },
    {
     "data": {
      "text/markdown": [
       "#### Classification Report"
      ],
      "text/plain": [
       "<IPython.core.display.Markdown object>"
      ]
     },
     "metadata": {},
     "output_type": "display_data"
    },
    {
     "name": "stdout",
     "output_type": "stream",
     "text": [
      "              precision    recall  f1-score   support\n",
      "\n",
      "           0       0.80      0.87      0.84       216\n",
      "           1       0.77      0.67      0.72       141\n",
      "\n",
      "    accuracy                           0.79       357\n",
      "   macro avg       0.79      0.77      0.78       357\n",
      "weighted avg       0.79      0.79      0.79       357\n",
      "\n"
     ]
    }
   ],
   "source": [
    "# preprocess dataset, split into training and test part\n",
    "features = ['Pclass', 'Salutation', 'FareBand', 'AgeBand', 'FSizeBand']\n",
    "X, y = titanic_df[features], titanic_df['Survived']\n",
    "X = StandardScaler().fit_transform(X)\n",
    "X_train, X_test, y_train, y_test = train_test_split(X, y, test_size=0.4, random_state=42)\n",
    "\n",
    "# model: k-neighbors\n",
    "neigh = KNeighborsClassifier()\n",
    "\n",
    "# training \n",
    "display(Markdown(\"#### Execution Time - Training\"))\n",
    "%time neigh.fit(X_train, y_train) # timing training\n",
    "\n",
    "# predictions of label classes for the unseen test data -----------------------------------\n",
    "display(Markdown(\"#### Execution Time - Classification\"))\n",
    "%time predicted_Y_test = neigh.predict(X_test)\n",
    "\n",
    "display(Markdown(\"#### Model in Test Data\"))\n",
    "# metrics\n",
    "# accuracy score\n",
    "accuracy_test = metrics.accuracy_score(y_test, predicted_Y_test)\n",
    "print('Accuracy:', '{:.4f}'.format(accuracy_test))\n",
    "\n",
    "# average class accuracy score\n",
    "avg_acc_test = metrics.balanced_accuracy_score(y_test, predicted_Y_test)\n",
    "print('Average class accuracy:', '{:.4f}'.format(avg_acc_test))\n",
    "\n",
    "# confusion matrix-based performance measures\n",
    "label_class_set = neigh.classes_\n",
    "CM = metrics.confusion_matrix(y_test, predicted_Y_test, labels=label_class_set)\n",
    "get_cm_based_measures(CM)\n",
    "\n",
    "# plotting results -----------------------------------------------------------------------\n",
    "fig, ax = plt.subplots(1,2, figsize=(12,5), gridspec_kw={'hspace': 0.3})\n",
    "\n",
    "# plot confusion matrix\n",
    "cm_disp = metrics.ConfusionMatrixDisplay(CM).plot(cmap='Blues', ax=ax[0])\n",
    "ax[0].set_title(\"Confusion Matrix\")\n",
    "\n",
    "# calculate and plot ROC AUC curve\n",
    "roc_disp = metrics.RocCurveDisplay.from_predictions(y_test, predicted_Y_test, ax=ax[1])\n",
    "ax[1].set_title(\" AUC ROC Curve\")\n",
    "\n",
    "plt.show()\n",
    "\n",
    "# classification report\n",
    "display(Markdown(\"#### Classification Report\"))\n",
    "print(metrics.classification_report(y_test, predicted_Y_test))"
   ]
  },
  {
   "cell_type": "markdown",
   "id": "a9020810",
   "metadata": {},
   "source": [
    "**8. Naive Bayes**"
   ]
  },
  {
   "cell_type": "code",
   "execution_count": 12,
   "id": "b307902f",
   "metadata": {},
   "outputs": [
    {
     "data": {
      "text/markdown": [
       "#### Execution Time - Training"
      ],
      "text/plain": [
       "<IPython.core.display.Markdown object>"
      ]
     },
     "metadata": {},
     "output_type": "display_data"
    },
    {
     "name": "stdout",
     "output_type": "stream",
     "text": [
      "CPU times: user 2.49 ms, sys: 812 µs, total: 3.3 ms\n",
      "Wall time: 2.97 ms\n"
     ]
    },
    {
     "data": {
      "text/markdown": [
       "#### Execution Time - Classification"
      ],
      "text/plain": [
       "<IPython.core.display.Markdown object>"
      ]
     },
     "metadata": {},
     "output_type": "display_data"
    },
    {
     "name": "stdout",
     "output_type": "stream",
     "text": [
      "CPU times: user 992 µs, sys: 165 µs, total: 1.16 ms\n",
      "Wall time: 1.1 ms\n"
     ]
    },
    {
     "data": {
      "text/markdown": [
       "#### Model in Test Data"
      ],
      "text/plain": [
       "<IPython.core.display.Markdown object>"
      ]
     },
     "metadata": {},
     "output_type": "display_data"
    },
    {
     "name": "stdout",
     "output_type": "stream",
     "text": [
      "Accuracy: 0.7759\n",
      "Average class accuracy: 0.7631\n",
      "TPR: 0.702128   TNR: 0.824074   FPR: 0.175926   FNR: 0.297872   Accuracy: 0.7759103641456583   Avg. Class Acc: 0.763101\n"
     ]
    },
    {
     "data": {
      "image/png": "[encoded data removed]",
      "text/plain": [
       "<Figure size 864x360 with 3 Axes>"
      ]
     },
     "metadata": {
      "needs_background": "light"
     },
     "output_type": "display_data"
    },
    {
     "data": {
      "text/markdown": [
       "#### Classification Report"
      ],
      "text/plain": [
       "<IPython.core.display.Markdown object>"
      ]
     },
     "metadata": {},
     "output_type": "display_data"
    },
    {
     "name": "stdout",
     "output_type": "stream",
     "text": [
      "              precision    recall  f1-score   support\n",
      "\n",
      "           0       0.81      0.82      0.82       216\n",
      "           1       0.72      0.70      0.71       141\n",
      "\n",
      "    accuracy                           0.78       357\n",
      "   macro avg       0.77      0.76      0.76       357\n",
      "weighted avg       0.77      0.78      0.78       357\n",
      "\n"
     ]
    }
   ],
   "source": [
    "# preprocess dataset, split into training and test part\n",
    "features = ['Pclass', 'Salutation', 'FareBand', 'AgeBand', 'FSizeBand']\n",
    "X, y = titanic_df[features], titanic_df['Survived']\n",
    "X_train, X_test, y_train, y_test = train_test_split(X, y, test_size=0.4, random_state=42)\n",
    "\n",
    "# model: k-neighbors\n",
    "cnb = CategoricalNB()\n",
    "\n",
    "# training \n",
    "display(Markdown(\"#### Execution Time - Training\"))\n",
    "%time cnb.fit(X_train, y_train) # timing training\n",
    "\n",
    "# predictions of label classes for the unseen test data -----------------------------------\n",
    "display(Markdown(\"#### Execution Time - Classification\"))\n",
    "%time predicted_Y_test = cnb.predict(X_test)\n",
    "\n",
    "display(Markdown(\"#### Model in Test Data\"))\n",
    "# metrics\n",
    "# accuracy score\n",
    "accuracy_test = metrics.accuracy_score(y_test, predicted_Y_test)\n",
    "print('Accuracy:', '{:.4f}'.format(accuracy_test))\n",
    "\n",
    "# average class accuracy score\n",
    "avg_acc_test = metrics.balanced_accuracy_score(y_test, predicted_Y_test)\n",
    "print('Average class accuracy:', '{:.4f}'.format(avg_acc_test))\n",
    "\n",
    "# confusion matrix-based performance measures\n",
    "label_class_set = cnb.classes_\n",
    "CM = metrics.confusion_matrix(y_test, predicted_Y_test, labels=label_class_set)\n",
    "get_cm_based_measures(CM)\n",
    "\n",
    "# plotting results -----------------------------------------------------------------------\n",
    "fig, ax = plt.subplots(1,2, figsize=(12,5), gridspec_kw={'hspace': 0.3})\n",
    "\n",
    "# plot confusion matrix\n",
    "cm_disp = metrics.ConfusionMatrixDisplay(CM).plot(cmap='Blues', ax=ax[0])\n",
    "ax[0].set_title(\"Confusion Matrix\")\n",
    "\n",
    "# calculate and plot ROC AUC curve\n",
    "roc_disp = metrics.RocCurveDisplay.from_predictions(y_test, predicted_Y_test, ax=ax[1])\n",
    "ax[1].set_title(\" AUC ROC Curve\")\n",
    "\n",
    "plt.show()\n",
    "\n",
    "# classification report\n",
    "display(Markdown(\"#### Classification Report\"))\n",
    "print(metrics.classification_report(y_test, predicted_Y_test))"
   ]
  },
  {
   "cell_type": "markdown",
   "id": "ddbfaea0",
   "metadata": {},
   "source": [
    "**9. Artificial neural network with two hidden layers**"
   ]
  },
  {
   "cell_type": "code",
   "execution_count": 13,
   "id": "0388f583",
   "metadata": {},
   "outputs": [
    {
     "data": {
      "text/markdown": [
       "#### Execution Time - Training"
      ],
      "text/plain": [
       "<IPython.core.display.Markdown object>"
      ]
     },
     "metadata": {},
     "output_type": "display_data"
    },
    {
     "name": "stdout",
     "output_type": "stream",
     "text": [
      "CPU times: user 4.22 s, sys: 1.1 s, total: 5.32 s\n",
      "Wall time: 1.27 s\n"
     ]
    },
    {
     "data": {
      "text/markdown": [
       "#### Execution Time - Classification"
      ],
      "text/plain": [
       "<IPython.core.display.Markdown object>"
      ]
     },
     "metadata": {},
     "output_type": "display_data"
    },
    {
     "name": "stdout",
     "output_type": "stream",
     "text": [
      "CPU times: user 6.97 ms, sys: 1.98 ms, total: 8.95 ms\n",
      "Wall time: 2.84 ms\n"
     ]
    },
    {
     "data": {
      "text/markdown": [
       "#### Model in Test Data"
      ],
      "text/plain": [
       "<IPython.core.display.Markdown object>"
      ]
     },
     "metadata": {},
     "output_type": "display_data"
    },
    {
     "name": "stdout",
     "output_type": "stream",
     "text": [
      "Accuracy: 0.8011\n",
      "Average class accuracy: 0.7753\n",
      "TPR: 0.652482   TNR: 0.898148   FPR: 0.101852   FNR: 0.347518   Accuracy: 0.8011204481792717   Avg. Class Acc: 0.775315\n"
     ]
    },
    {
     "data": {
      "image/png": "[encoded data removed]",
      "text/plain": [
       "<Figure size 864x360 with 3 Axes>"
      ]
     },
     "metadata": {
      "needs_background": "light"
     },
     "output_type": "display_data"
    },
    {
     "data": {
      "text/markdown": [
       "#### Classification Report"
      ],
      "text/plain": [
       "<IPython.core.display.Markdown object>"
      ]
     },
     "metadata": {},
     "output_type": "display_data"
    },
    {
     "name": "stdout",
     "output_type": "stream",
     "text": [
      "              precision    recall  f1-score   support\n",
      "\n",
      "           0       0.80      0.90      0.85       216\n",
      "           1       0.81      0.65      0.72       141\n",
      "\n",
      "    accuracy                           0.80       357\n",
      "   macro avg       0.80      0.78      0.78       357\n",
      "weighted avg       0.80      0.80      0.80       357\n",
      "\n"
     ]
    }
   ],
   "source": [
    "# preprocess dataset, split into training and test part\n",
    "features = ['Pclass', 'Salutation', 'FareBand', 'AgeBand', 'FSizeBand']\n",
    "X, y = titanic_df[features], titanic_df['Survived']\n",
    "X_train, X_test, y_train, y_test = train_test_split(X, y, test_size=0.4, random_state=42)\n",
    "\n",
    "# model: k-neighbors\n",
    "mlp = MLPClassifier(hidden_layer_sizes=(100,100)) # 2 layers and the remaining default params\n",
    "\n",
    "# training \n",
    "display(Markdown(\"#### Execution Time - Training\"))\n",
    "%time mlp.fit(X_train, y_train) # timing training\n",
    "\n",
    "# predictions of label classes for the unseen test data -----------------------------------\n",
    "display(Markdown(\"#### Execution Time - Classification\"))\n",
    "%time predicted_Y_test = mlp.predict(X_test)\n",
    "\n",
    "display(Markdown(\"#### Model in Test Data\"))\n",
    "# metrics\n",
    "# accuracy score\n",
    "accuracy_test = metrics.accuracy_score(y_test, predicted_Y_test)\n",
    "print('Accuracy:', '{:.4f}'.format(accuracy_test))\n",
    "\n",
    "# average class accuracy score\n",
    "avg_acc_test = metrics.balanced_accuracy_score(y_test, predicted_Y_test)\n",
    "print('Average class accuracy:', '{:.4f}'.format(avg_acc_test))\n",
    "\n",
    "# confusion matrix-based performance measures\n",
    "label_class_set = mlp.classes_\n",
    "CM = metrics.confusion_matrix(y_test, predicted_Y_test, labels=label_class_set)\n",
    "get_cm_based_measures(CM)\n",
    "\n",
    "# plotting results -----------------------------------------------------------------------\n",
    "fig, ax = plt.subplots(1,2, figsize=(12,5), gridspec_kw={'hspace': 0.3})\n",
    "\n",
    "# plot confusion matrix\n",
    "cm_disp = metrics.ConfusionMatrixDisplay(CM).plot(cmap='Blues', ax=ax[0])\n",
    "ax[0].set_title(\"Confusion Matrix\")\n",
    "\n",
    "# calculate and plot ROC AUC curve\n",
    "roc_disp = metrics.RocCurveDisplay.from_predictions(y_test, predicted_Y_test, ax=ax[1])\n",
    "ax[1].set_title(\" AUC ROC Curve\")\n",
    "\n",
    "plt.show()\n",
    "\n",
    "# classification report\n",
    "display(Markdown(\"#### Classification Report\"))\n",
    "print(metrics.classification_report(y_test, predicted_Y_test))"
   ]
  },
  {
   "cell_type": "markdown",
   "id": "85b8094c",
   "metadata": {},
   "source": [
    "### Models Comparison"
   ]
  },
  {
   "cell_type": "markdown",
   "id": "06de06cb",
   "metadata": {},
   "source": [
    "**Performance summary**:\n",
    "\n",
    "| Model                      | ROC index                           | Accuracy                                | Avg. class accuracy                     | TPR                                       | FPR                                       | TNR                                       | FNR                                |\n",
    "|----------------------------|-------------------------------------|-----------------------------------------|-----------------------------------------|-------------------------------------------|-------------------------------------------|-------------------------------------------|------------------------------------|\n",
    "| Decision Trees             |                                  78 |                                  80.95% |                                  78.23% | 0.652482                                  | 0.087963                                  | 0.912037                                  | 0.347518                           |\n",
    "| Random Forest              |                                  80 |                                  81.79% |                                  79.66% | 0.695035                                  | 0.101852                                  | 0.898148                                  | 0.304965                           |\n",
    "| AdaBoost                   | <span style=\"color:green\">81</span> | <span style=\"color:green\">82.63%</span> | <span style=\"color:green\">80.85%</span> | <span style=\"color:green\">0.723404</span> |                                  0.106481 |                                  0.893519 | <span style=\"color:green\">0.276596 |\n",
    "| Gradient Boosting          |                                  80 |                                  82.35% |                                  79.75% | 0.673759                                  | <span style=\"color:green\">0.078704</span> | <span style=\"color:green\">0.921296</span> |                           0.326241 |\n",
    "| Logistic regression        |                                  76 |                                  77.87% |                                  75.80% | 0.659574                                  |                                  0.143519 |                                  0.856481 |                           0.340426 |\n",
    "| SVM                        |                                  79 |                                  80.95% |                                  79.21% | 0.70922                                   |                                     0.125 |                                     0.875 |                            0.29078 |\n",
    "| KNN                        |                                  77 |                                  79.27% |                                  77.21% | 0.673759                                  |                                   0.12963 |                                   0.87037 |                           0.326241 |\n",
    "| Naive Bayes                |                                  76 |                                  77.59% |                                  76.31% | 0.702128                                  |                                  0.175926 |                                  0.824074 |                           0.297872 |\n",
    "| ANN with two hidden layers |                                  78 |                                  80.11% |                                  77.53% | 0.652482                                  | 0.101852                                  | 0.898148                                  | 0.34751                            |\n",
    "|                            |                                     |                                         |                                         |                                           |                                           |                                           |                                    |\n",
    "| **Best Values**            |                              **81** | **82.63%**                             | **80.85%**                             |                              **0.723404** |                                **0.078704** |                              **0.921296** |                       **0.276596** |"
   ]
  },
  {
   "cell_type": "markdown",
   "id": "760f3dda",
   "metadata": {},
   "source": [
    "In the table above the best scores are highlighted in green, i.e., the highest values are highlighted for all the columns except FPR and FNR where the minimum are the ones highlighted (since lower values represent best performance).\n",
    "\n",
    "In terms of accuracy, SVM and the tree-based models resulted in higher values. The ROC index was better for Random Forest, AdaBoost, and Gradient Boosting. Similarly, AdaBoost had the highest TPR and the lowest FNR, while Gradient Boosting had the highest TNR and lowest FPR. Overall, Logistic Regression, Naive Bayes, and KNN had poorer performance based on the evaluation measures analyzed.\n",
    "\n",
    "Based on the results from the table, I think the best performer for this dataset was AdaBoost."
   ]
  }
 ],
 "metadata": {
  "kernelspec": {
   "display_name": "Python 3 (ipykernel)",
   "language": "python",
   "name": "python3"
  },
  "language_info": {
   "codemirror_mode": {
    "name": "ipython",
    "version": 3
   },
   "file_extension": ".py",
   "mimetype": "text/x-python",
   "name": "python",
   "nbconvert_exporter": "python",
   "pygments_lexer": "ipython3",
   "version": "3.9.7"
  }
 },
 "nbformat": 4,
 "nbformat_minor": 5
}

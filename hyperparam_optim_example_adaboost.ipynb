{
 "cells": [
  {
   "cell_type": "code",
   "execution_count": 1,
   "id": "a22cb9ad",
   "metadata": {},
   "outputs": [],
   "source": [
    "import pandas as pd\n",
    "import seaborn as sns\n",
    "import matplotlib.pyplot as plt\n",
    "import numpy as np\n",
    "import re\n",
    "import warnings\n",
    "\n",
    "from sklearn.tree import DecisionTreeClassifier, plot_tree, export_graphviz\n",
    "from sklearn.ensemble import RandomForestClassifier, AdaBoostClassifier, GradientBoostingClassifier\n",
    "from sklearn.inspection import DecisionBoundaryDisplay\n",
    "from sklearn.model_selection import train_test_split\n",
    "from sklearn.model_selection import KFold\n",
    "from sklearn.preprocessing import StandardScaler\n",
    "from sklearn.linear_model import LogisticRegression\n",
    "from sklearn.neighbors import KNeighborsClassifier\n",
    "from sklearn.neural_network import MLPClassifier\n",
    "from sklearn.naive_bayes import CategoricalNB\n",
    "from sklearn.model_selection import GridSearchCV\n",
    "from sklearn.svm import SVC\n",
    "from sklearn import metrics\n",
    "from IPython.display import Markdown, Image\n",
    "\n",
    "warnings.filterwarnings('ignore')\n",
    "\n",
    "%matplotlib inline"
   ]
  },
  {
   "cell_type": "code",
   "execution_count": 2,
   "id": "751bea04",
   "metadata": {},
   "outputs": [
    {
     "data": {
      "text/html": [
       "<style>\n",
       "table {float:left; border-style: solid;}\n",
       "</style>\n"
      ],
      "text/plain": [
       "<IPython.core.display.HTML object>"
      ]
     },
     "metadata": {},
     "output_type": "display_data"
    }
   ],
   "source": [
    "%%html \n",
    "<style>\n",
    "table {float:left; border-style: solid;}\n",
    "</style>"
   ]
  },
  {
   "cell_type": "markdown",
   "id": "893b2314",
   "metadata": {},
   "source": [
    "Utils"
   ]
  },
  {
   "cell_type": "code",
   "execution_count": 3,
   "id": "68b270b4",
   "metadata": {},
   "outputs": [],
   "source": [
    "def get_cm_based_measures(conf_matrix):\n",
    "    TN = conf_matrix[0][0]\n",
    "    FN = conf_matrix[1][0]\n",
    "    TP = conf_matrix[1][1]\n",
    "    FP = conf_matrix[0][1]\n",
    "    \n",
    "    # TPR = TP / TP + FN\n",
    "    TPR = round(TP / (TP + FN), 6)\n",
    "    # TNR = TN / TN + FP\n",
    "    TNR = round(TN / (TN + FP), 6)\n",
    "    # FPR = FP / TN + FP\n",
    "    FPR = round(FP / (TN + FP), 6)\n",
    "    # FNR = FN / TP + FN\n",
    "    FNR = round(FN / (TP + FN), 6)\n",
    "    # accuracy (TP + TN) / (TP + TN + FP + FN)\n",
    "    accuracy = (TP + TN) / (TP + TN + FP + FN)\n",
    "    \n",
    "    # precision = TP / TP + FP\n",
    "    precision = TP / (TP + FP)\n",
    "    # recall = TP / TP + FN\n",
    "    recall_pos = round(TP / (TP + FN), 6)\n",
    "    recall_neg = round(TN / (TN + FP), 6)\n",
    "    # avg class accuracy\n",
    "    avg_acc = 1/2*(recall_pos+recall_neg)\n",
    "    \n",
    "    print( f'TPR: {TPR}   TNR: {TNR}   FPR: {FPR}   FNR: {FNR}   Accuracy: {accuracy}   Avg. Class Acc: {avg_acc}')"
   ]
  },
  {
   "cell_type": "markdown",
   "id": "0b02c0f9",
   "metadata": {},
   "source": [
    "### Dataset"
   ]
  },
  {
   "cell_type": "code",
   "execution_count": 4,
   "id": "d5ef24a4",
   "metadata": {},
   "outputs": [
    {
     "data": {
      "text/plain": [
       "(891, 6)"
      ]
     },
     "metadata": {},
     "output_type": "display_data"
    },
    {
     "name": "stdout",
     "output_type": "stream",
     "text": [
      "<class 'pandas.core.frame.DataFrame'>\n",
      "RangeIndex: 891 entries, 0 to 890\n",
      "Data columns (total 6 columns):\n",
      " #   Column      Non-Null Count  Dtype\n",
      "---  ------      --------------  -----\n",
      " 0   Survived    891 non-null    int64\n",
      " 1   Pclass      891 non-null    int64\n",
      " 2   Salutation  891 non-null    int64\n",
      " 3   FareBand    891 non-null    int64\n",
      " 4   AgeBand     891 non-null    int64\n",
      " 5   FSizeBand   891 non-null    int64\n",
      "dtypes: int64(6)\n",
      "memory usage: 41.9 KB\n"
     ]
    },
    {
     "data": {
      "text/html": [
       "<div>\n",
       "<style scoped>\n",
       "    .dataframe tbody tr th:only-of-type {\n",
       "        vertical-align: middle;\n",
       "    }\n",
       "\n",
       "    .dataframe tbody tr th {\n",
       "        vertical-align: top;\n",
       "    }\n",
       "\n",
       "    .dataframe thead th {\n",
       "        text-align: right;\n",
       "    }\n",
       "</style>\n",
       "<table border=\"1\" class=\"dataframe\">\n",
       "  <thead>\n",
       "    <tr style=\"text-align: right;\">\n",
       "      <th></th>\n",
       "      <th>Survived</th>\n",
       "      <th>Pclass</th>\n",
       "      <th>Salutation</th>\n",
       "      <th>FareBand</th>\n",
       "      <th>AgeBand</th>\n",
       "      <th>FSizeBand</th>\n",
       "    </tr>\n",
       "  </thead>\n",
       "  <tbody>\n",
       "    <tr>\n",
       "      <th>0</th>\n",
       "      <td>0</td>\n",
       "      <td>3</td>\n",
       "      <td>0</td>\n",
       "      <td>1</td>\n",
       "      <td>2</td>\n",
       "      <td>2</td>\n",
       "    </tr>\n",
       "    <tr>\n",
       "      <th>1</th>\n",
       "      <td>1</td>\n",
       "      <td>1</td>\n",
       "      <td>3</td>\n",
       "      <td>3</td>\n",
       "      <td>4</td>\n",
       "      <td>2</td>\n",
       "    </tr>\n",
       "    <tr>\n",
       "      <th>2</th>\n",
       "      <td>1</td>\n",
       "      <td>3</td>\n",
       "      <td>4</td>\n",
       "      <td>4</td>\n",
       "      <td>2</td>\n",
       "      <td>1</td>\n",
       "    </tr>\n",
       "    <tr>\n",
       "      <th>3</th>\n",
       "      <td>1</td>\n",
       "      <td>1</td>\n",
       "      <td>3</td>\n",
       "      <td>3</td>\n",
       "      <td>3</td>\n",
       "      <td>2</td>\n",
       "    </tr>\n",
       "    <tr>\n",
       "      <th>4</th>\n",
       "      <td>0</td>\n",
       "      <td>3</td>\n",
       "      <td>0</td>\n",
       "      <td>4</td>\n",
       "      <td>3</td>\n",
       "      <td>1</td>\n",
       "    </tr>\n",
       "  </tbody>\n",
       "</table>\n",
       "</div>"
      ],
      "text/plain": [
       "   Survived  Pclass  Salutation  FareBand  AgeBand  FSizeBand\n",
       "0         0       3           0         1        2          2\n",
       "1         1       1           3         3        4          2\n",
       "2         1       3           4         4        2          1\n",
       "3         1       1           3         3        3          2\n",
       "4         0       3           0         4        3          1"
      ]
     },
     "execution_count": 4,
     "metadata": {},
     "output_type": "execute_result"
    }
   ],
   "source": [
    "# importing the dataset\n",
    "data_path = 'data/'\n",
    "file_name = 'titanic_preproc_df.csv'\n",
    "titanic_df = pd.read_csv(data_path+file_name)\n",
    "display(titanic_df.shape)\n",
    "titanic_df.info()\n",
    "titanic_df.head()"
   ]
  },
  {
   "cell_type": "markdown",
   "id": "c9de58b0",
   "metadata": {},
   "source": [
    "Default parameters in sklearn: *AdaBoostClassifier(base_estimator=None, *, n_estimators=50, learning_rate=1.0, algorithm='SAMME.R', random_state=None)*\n",
    "\n",
    "--> base_estimator is DecisionTreesClassifier by default\n",
    "\n",
    "The most relevant hyperparameters are the number of trees (n_estimators) which is 50 by default, and the learning rate which is 1.0 by default. In addition, the depth of the trees (DecisionTreesClassifier trees) is relevant as well."
   ]
  },
  {
   "cell_type": "code",
   "execution_count": 11,
   "id": "548a6df5",
   "metadata": {},
   "outputs": [
    {
     "data": {
      "text/html": [
       "<style>#sk-container-id-2 {color: black;background-color: white;}#sk-container-id-2 pre{padding: 0;}#sk-container-id-2 div.sk-toggleable {background-color: white;}#sk-container-id-2 label.sk-toggleable__label {cursor: pointer;display: block;width: 100%;margin-bottom: 0;padding: 0.3em;box-sizing: border-box;text-align: center;}#sk-container-id-2 label.sk-toggleable__label-arrow:before {content: \"▸\";float: left;margin-right: 0.25em;color: #696969;}#sk-container-id-2 label.sk-toggleable__label-arrow:hover:before {color: black;}#sk-container-id-2 div.sk-estimator:hover label.sk-toggleable__label-arrow:before {color: black;}#sk-container-id-2 div.sk-toggleable__content {max-height: 0;max-width: 0;overflow: hidden;text-align: left;background-color: #f0f8ff;}#sk-container-id-2 div.sk-toggleable__content pre {margin: 0.2em;color: black;border-radius: 0.25em;background-color: #f0f8ff;}#sk-container-id-2 input.sk-toggleable__control:checked~div.sk-toggleable__content {max-height: 200px;max-width: 100%;overflow: auto;}#sk-container-id-2 input.sk-toggleable__control:checked~label.sk-toggleable__label-arrow:before {content: \"▾\";}#sk-container-id-2 div.sk-estimator input.sk-toggleable__control:checked~label.sk-toggleable__label {background-color: #d4ebff;}#sk-container-id-2 div.sk-label input.sk-toggleable__control:checked~label.sk-toggleable__label {background-color: #d4ebff;}#sk-container-id-2 input.sk-hidden--visually {border: 0;clip: rect(1px 1px 1px 1px);clip: rect(1px, 1px, 1px, 1px);height: 1px;margin: -1px;overflow: hidden;padding: 0;position: absolute;width: 1px;}#sk-container-id-2 div.sk-estimator {font-family: monospace;background-color: #f0f8ff;border: 1px dotted black;border-radius: 0.25em;box-sizing: border-box;margin-bottom: 0.5em;}#sk-container-id-2 div.sk-estimator:hover {background-color: #d4ebff;}#sk-container-id-2 div.sk-parallel-item::after {content: \"\";width: 100%;border-bottom: 1px solid gray;flex-grow: 1;}#sk-container-id-2 div.sk-label:hover label.sk-toggleable__label {background-color: #d4ebff;}#sk-container-id-2 div.sk-serial::before {content: \"\";position: absolute;border-left: 1px solid gray;box-sizing: border-box;top: 0;bottom: 0;left: 50%;z-index: 0;}#sk-container-id-2 div.sk-serial {display: flex;flex-direction: column;align-items: center;background-color: white;padding-right: 0.2em;padding-left: 0.2em;position: relative;}#sk-container-id-2 div.sk-item {position: relative;z-index: 1;}#sk-container-id-2 div.sk-parallel {display: flex;align-items: stretch;justify-content: center;background-color: white;position: relative;}#sk-container-id-2 div.sk-item::before, #sk-container-id-2 div.sk-parallel-item::before {content: \"\";position: absolute;border-left: 1px solid gray;box-sizing: border-box;top: 0;bottom: 0;left: 50%;z-index: -1;}#sk-container-id-2 div.sk-parallel-item {display: flex;flex-direction: column;z-index: 1;position: relative;background-color: white;}#sk-container-id-2 div.sk-parallel-item:first-child::after {align-self: flex-end;width: 50%;}#sk-container-id-2 div.sk-parallel-item:last-child::after {align-self: flex-start;width: 50%;}#sk-container-id-2 div.sk-parallel-item:only-child::after {width: 0;}#sk-container-id-2 div.sk-dashed-wrapped {border: 1px dashed gray;margin: 0 0.4em 0.5em 0.4em;box-sizing: border-box;padding-bottom: 0.4em;background-color: white;}#sk-container-id-2 div.sk-label label {font-family: monospace;font-weight: bold;display: inline-block;line-height: 1.2em;}#sk-container-id-2 div.sk-label-container {text-align: center;}#sk-container-id-2 div.sk-container {/* jupyter's `normalize.less` sets `[hidden] { display: none; }` but bootstrap.min.css set `[hidden] { display: none !important; }` so we also need the `!important` here to be able to override the default hidden behavior on the sphinx rendered scikit-learn.org. See: https://github.com/scikit-learn/scikit-learn/issues/21755 */display: inline-block !important;position: relative;}#sk-container-id-2 div.sk-text-repr-fallback {display: none;}</style><div id=\"sk-container-id-2\" class=\"sk-top-container\"><div class=\"sk-text-repr-fallback\"><pre>GridSearchCV(estimator=AdaBoostClassifier(base_estimator=DecisionTreeClassifier()),\n",
       "             n_jobs=-1,\n",
       "             param_grid={&#x27;base_estimator__max_depth&#x27;: [1, 2, 3],\n",
       "                         &#x27;learning_rate&#x27;: [0.1, 0.2, 0.3, 0.4, 0.5, 0.6, 0.7,\n",
       "                                           0.8, 0.9, 1.0],\n",
       "                         &#x27;n_estimators&#x27;: [50, 100, 150, 200, 250, 300, 350,\n",
       "                                          400]})</pre><b>In a Jupyter environment, please rerun this cell to show the HTML representation or trust the notebook. <br />On GitHub, the HTML representation is unable to render, please try loading this page with nbviewer.org.</b></div><div class=\"sk-container\" hidden><div class=\"sk-item sk-dashed-wrapped\"><div class=\"sk-label-container\"><div class=\"sk-label sk-toggleable\"><input class=\"sk-toggleable__control sk-hidden--visually\" id=\"sk-estimator-id-5\" type=\"checkbox\" ><label for=\"sk-estimator-id-5\" class=\"sk-toggleable__label sk-toggleable__label-arrow\">GridSearchCV</label><div class=\"sk-toggleable__content\"><pre>GridSearchCV(estimator=AdaBoostClassifier(base_estimator=DecisionTreeClassifier()),\n",
       "             n_jobs=-1,\n",
       "             param_grid={&#x27;base_estimator__max_depth&#x27;: [1, 2, 3],\n",
       "                         &#x27;learning_rate&#x27;: [0.1, 0.2, 0.3, 0.4, 0.5, 0.6, 0.7,\n",
       "                                           0.8, 0.9, 1.0],\n",
       "                         &#x27;n_estimators&#x27;: [50, 100, 150, 200, 250, 300, 350,\n",
       "                                          400]})</pre></div></div></div><div class=\"sk-parallel\"><div class=\"sk-parallel-item\"><div class=\"sk-item\"><div class=\"sk-label-container\"><div class=\"sk-label sk-toggleable\"><input class=\"sk-toggleable__control sk-hidden--visually\" id=\"sk-estimator-id-6\" type=\"checkbox\" ><label for=\"sk-estimator-id-6\" class=\"sk-toggleable__label sk-toggleable__label-arrow\">estimator: AdaBoostClassifier</label><div class=\"sk-toggleable__content\"><pre>AdaBoostClassifier(base_estimator=DecisionTreeClassifier())</pre></div></div></div><div class=\"sk-serial\"><div class=\"sk-item sk-dashed-wrapped\"><div class=\"sk-parallel\"><div class=\"sk-parallel-item\"><div class=\"sk-item\"><div class=\"sk-label-container\"><div class=\"sk-label sk-toggleable\"><input class=\"sk-toggleable__control sk-hidden--visually\" id=\"sk-estimator-id-7\" type=\"checkbox\" ><label for=\"sk-estimator-id-7\" class=\"sk-toggleable__label sk-toggleable__label-arrow\">base_estimator: DecisionTreeClassifier</label><div class=\"sk-toggleable__content\"><pre>DecisionTreeClassifier()</pre></div></div></div><div class=\"sk-serial\"><div class=\"sk-item\"><div class=\"sk-estimator sk-toggleable\"><input class=\"sk-toggleable__control sk-hidden--visually\" id=\"sk-estimator-id-8\" type=\"checkbox\" ><label for=\"sk-estimator-id-8\" class=\"sk-toggleable__label sk-toggleable__label-arrow\">DecisionTreeClassifier</label><div class=\"sk-toggleable__content\"><pre>DecisionTreeClassifier()</pre></div></div></div></div></div></div></div></div></div></div></div></div></div></div></div>"
      ],
      "text/plain": [
       "GridSearchCV(estimator=AdaBoostClassifier(base_estimator=DecisionTreeClassifier()),\n",
       "             n_jobs=-1,\n",
       "             param_grid={'base_estimator__max_depth': [1, 2, 3],\n",
       "                         'learning_rate': [0.1, 0.2, 0.3, 0.4, 0.5, 0.6, 0.7,\n",
       "                                           0.8, 0.9, 1.0],\n",
       "                         'n_estimators': [50, 100, 150, 200, 250, 300, 350,\n",
       "                                          400]})"
      ]
     },
     "execution_count": 11,
     "metadata": {},
     "output_type": "execute_result"
    }
   ],
   "source": [
    "# finding best combination of n_estimators, max_depth, and learning_rate\n",
    "\n",
    "# grid or params\n",
    "grid_param = {'n_estimators': [50, 100, 150, 200, 250, 300, 350, 400], \n",
    "              'learning_rate': [0.1, 0.2, 0.3, 0.4, 0.5, 0.6, 0.7, 0.8, 0.9, 1.0], \n",
    "              'base_estimator__max_depth': [1, 2, 3]}\n",
    "\n",
    "# base estimator for AdaBoost\n",
    "base = DecisionTreeClassifier()\n",
    "\n",
    "grid_cv = GridSearchCV(AdaBoostClassifier(base), param_grid=grid_param, n_jobs=-1) # cv=5 and scoring is based on accuracy by default\n",
    "grid_cv.fit(X_train, y_train)"
   ]
  },
  {
   "cell_type": "code",
   "execution_count": 12,
   "id": "0a1ae087",
   "metadata": {},
   "outputs": [
    {
     "name": "stdout",
     "output_type": "stream",
     "text": [
      "Best params: accuracy 0.848422 using {'base_estimator__max_depth': 2, 'learning_rate': 0.2, 'n_estimators': 50}\n"
     ]
    }
   ],
   "source": [
    "print(\"Best params: accuracy %f using %s\" % (grid_cv.best_score_, grid_cv.best_params_))"
   ]
  },
  {
   "cell_type": "code",
   "execution_count": 13,
   "id": "99e85568",
   "metadata": {},
   "outputs": [
    {
     "data": {
      "text/html": [
       "<div>\n",
       "<style scoped>\n",
       "    .dataframe tbody tr th:only-of-type {\n",
       "        vertical-align: middle;\n",
       "    }\n",
       "\n",
       "    .dataframe tbody tr th {\n",
       "        vertical-align: top;\n",
       "    }\n",
       "\n",
       "    .dataframe thead th {\n",
       "        text-align: right;\n",
       "    }\n",
       "</style>\n",
       "<table border=\"1\" class=\"dataframe\">\n",
       "  <thead>\n",
       "    <tr style=\"text-align: right;\">\n",
       "      <th></th>\n",
       "      <th>param_base_estimator__max_depth</th>\n",
       "      <th>param_learning_rate</th>\n",
       "      <th>param_n_estimators</th>\n",
       "      <th>params</th>\n",
       "      <th>mean_test_score</th>\n",
       "      <th>std_test_score</th>\n",
       "      <th>rank_test_score</th>\n",
       "    </tr>\n",
       "  </thead>\n",
       "  <tbody>\n",
       "    <tr>\n",
       "      <th>88</th>\n",
       "      <td>2</td>\n",
       "      <td>0.2</td>\n",
       "      <td>50</td>\n",
       "      <td>{'base_estimator__max_depth': 2, 'learning_rat...</td>\n",
       "      <td>0.848422</td>\n",
       "      <td>0.040010</td>\n",
       "      <td>1</td>\n",
       "    </tr>\n",
       "    <tr>\n",
       "      <th>120</th>\n",
       "      <td>2</td>\n",
       "      <td>0.6</td>\n",
       "      <td>50</td>\n",
       "      <td>{'base_estimator__max_depth': 2, 'learning_rat...</td>\n",
       "      <td>0.844701</td>\n",
       "      <td>0.052189</td>\n",
       "      <td>2</td>\n",
       "    </tr>\n",
       "    <tr>\n",
       "      <th>160</th>\n",
       "      <td>3</td>\n",
       "      <td>0.1</td>\n",
       "      <td>50</td>\n",
       "      <td>{'base_estimator__max_depth': 3, 'learning_rat...</td>\n",
       "      <td>0.844683</td>\n",
       "      <td>0.045008</td>\n",
       "      <td>3</td>\n",
       "    </tr>\n",
       "    <tr>\n",
       "      <th>81</th>\n",
       "      <td>2</td>\n",
       "      <td>0.1</td>\n",
       "      <td>100</td>\n",
       "      <td>{'base_estimator__max_depth': 2, 'learning_rat...</td>\n",
       "      <td>0.844683</td>\n",
       "      <td>0.043428</td>\n",
       "      <td>3</td>\n",
       "    </tr>\n",
       "    <tr>\n",
       "      <th>82</th>\n",
       "      <td>2</td>\n",
       "      <td>0.1</td>\n",
       "      <td>150</td>\n",
       "      <td>{'base_estimator__max_depth': 2, 'learning_rat...</td>\n",
       "      <td>0.842814</td>\n",
       "      <td>0.050420</td>\n",
       "      <td>5</td>\n",
       "    </tr>\n",
       "  </tbody>\n",
       "</table>\n",
       "</div>"
      ],
      "text/plain": [
       "    param_base_estimator__max_depth param_learning_rate param_n_estimators  \\\n",
       "88                                2                 0.2                 50   \n",
       "120                               2                 0.6                 50   \n",
       "160                               3                 0.1                 50   \n",
       "81                                2                 0.1                100   \n",
       "82                                2                 0.1                150   \n",
       "\n",
       "                                                params  mean_test_score  \\\n",
       "88   {'base_estimator__max_depth': 2, 'learning_rat...         0.848422   \n",
       "120  {'base_estimator__max_depth': 2, 'learning_rat...         0.844701   \n",
       "160  {'base_estimator__max_depth': 3, 'learning_rat...         0.844683   \n",
       "81   {'base_estimator__max_depth': 2, 'learning_rat...         0.844683   \n",
       "82   {'base_estimator__max_depth': 2, 'learning_rat...         0.842814   \n",
       "\n",
       "     std_test_score  rank_test_score  \n",
       "88         0.040010                1  \n",
       "120        0.052189                2  \n",
       "160        0.045008                3  \n",
       "81         0.043428                3  \n",
       "82         0.050420                5  "
      ]
     },
     "execution_count": 13,
     "metadata": {},
     "output_type": "execute_result"
    }
   ],
   "source": [
    "# top 5 combination of params\n",
    "df = pd.DataFrame(grid_cv.cv_results_)\n",
    "df = df.sort_values('rank_test_score')[['param_base_estimator__max_depth', 'param_learning_rate', 'param_n_estimators', 'params', 'mean_test_score','std_test_score','rank_test_score']]\n",
    "df.iloc[:5,]"
   ]
  },
  {
   "cell_type": "code",
   "execution_count": 14,
   "id": "bf271202",
   "metadata": {},
   "outputs": [
    {
     "data": {
      "text/markdown": [
       "#### Model in Test Data"
      ],
      "text/plain": [
       "<IPython.core.display.Markdown object>"
      ]
     },
     "metadata": {},
     "output_type": "display_data"
    },
    {
     "name": "stdout",
     "output_type": "stream",
     "text": [
      "Accuracy: 0.8291\n",
      "Average class accuracy: 0.8046\n",
      "TPR: 0.687943   TNR: 0.921296   FPR: 0.078704   FNR: 0.312057   Accuracy: 0.8291316526610645   Avg. Class Acc: 0.8046195\n"
     ]
    },
    {
     "data": {
      "image/png": "[encoded data removed]",
      "text/plain": [
       "<Figure size 864x360 with 3 Axes>"
      ]
     },
     "metadata": {
      "needs_background": "light"
     },
     "output_type": "display_data"
    },
    {
     "data": {
      "text/markdown": [
       "#### Classification Report"
      ],
      "text/plain": [
       "<IPython.core.display.Markdown object>"
      ]
     },
     "metadata": {},
     "output_type": "display_data"
    },
    {
     "name": "stdout",
     "output_type": "stream",
     "text": [
      "              precision    recall  f1-score   support\n",
      "\n",
      "           0       0.82      0.92      0.87       216\n",
      "           1       0.85      0.69      0.76       141\n",
      "\n",
      "    accuracy                           0.83       357\n",
      "   macro avg       0.83      0.80      0.81       357\n",
      "weighted avg       0.83      0.83      0.83       357\n",
      "\n"
     ]
    }
   ],
   "source": [
    "# predicting using the best params found before\n",
    "predicted_Y_test = grid_cv.predict(X_test)\n",
    "\n",
    "display(Markdown(\"#### Model in Test Data\"))\n",
    "# metrics\n",
    "# accuracy score\n",
    "accuracy_test = metrics.accuracy_score(y_test, predicted_Y_test)\n",
    "print('Accuracy:', '{:.4f}'.format(accuracy_test))\n",
    "\n",
    "# average class accuracy score\n",
    "avg_acc_test = metrics.balanced_accuracy_score(y_test, predicted_Y_test)\n",
    "print('Average class accuracy:', '{:.4f}'.format(avg_acc_test))\n",
    "\n",
    "# confusion matrix-based performance measures\n",
    "label_class_set = grid_cv.classes_\n",
    "CM = metrics.confusion_matrix(y_test, predicted_Y_test, labels=label_class_set)\n",
    "get_cm_based_measures(CM)\n",
    "\n",
    "# plotting results -----------------------------------------------------------------------\n",
    "fig, ax = plt.subplots(1,2, figsize=(12,5), gridspec_kw={'hspace': 0.3})\n",
    "\n",
    "# plot confusion matrix\n",
    "cm_disp = metrics.ConfusionMatrixDisplay(CM).plot(cmap='Blues', ax=ax[0])\n",
    "ax[0].set_title(\"Confusion Matrix\")\n",
    "\n",
    "# calculate and plot ROC AUC curve\n",
    "roc_disp = metrics.RocCurveDisplay.from_predictions(y_test, predicted_Y_test, ax=ax[1])\n",
    "ax[1].set_title(\" AUC ROC Curve\")\n",
    "\n",
    "plt.show()\n",
    "\n",
    "# classification report\n",
    "display(Markdown(\"#### Classification Report\"))\n",
    "print(metrics.classification_report(y_test, predicted_Y_test))"
   ]
  }
 ],
 "metadata": {
  "kernelspec": {
   "display_name": "Python 3 (ipykernel)",
   "language": "python",
   "name": "python3"
  },
  "language_info": {
   "codemirror_mode": {
    "name": "ipython",
    "version": 3
   },
   "file_extension": ".py",
   "mimetype": "text/x-python",
   "name": "python",
   "nbconvert_exporter": "python",
   "pygments_lexer": "ipython3",
   "version": "3.9.7"
  }
 },
 "nbformat": 4,
 "nbformat_minor": 5
}

{
 "cells": [
  {
   "cell_type": "code",
   "execution_count": 6,
   "id": "1584c9ec",
   "metadata": {},
   "outputs": [],
   "source": [
    "import pandas as pd\n",
    "import seaborn as sns\n",
    "import matplotlib.pyplot as plt\n",
    "import numpy as np\n",
    "import re\n",
    "import graphviz\n",
    "\n",
    "from sklearn.tree import DecisionTreeClassifier, plot_tree, export_graphviz\n",
    "from sklearn.ensemble import RandomForestClassifier, AdaBoostClassifier, GradientBoostingClassifier\n",
    "from sklearn import metrics\n",
    "from sklearn.inspection import DecisionBoundaryDisplay\n",
    "from sklearn.model_selection import train_test_split\n",
    "from IPython.display import Markdown, Image\n",
    "\n",
    "%matplotlib inline"
   ]
  },
  {
   "cell_type": "code",
   "execution_count": 7,
   "id": "006ce322",
   "metadata": {},
   "outputs": [
    {
     "data": {
      "text/html": [
       "<style>\n",
       "table {float:left; border-style: solid;}\n",
       "</style>\n"
      ],
      "text/plain": [
       "<IPython.core.display.HTML object>"
      ]
     },
     "metadata": {},
     "output_type": "display_data"
    }
   ],
   "source": [
    "%%html \n",
    "<style>\n",
    "table {float:left; border-style: solid;}\n",
    "</style>"
   ]
  },
  {
   "cell_type": "markdown",
   "id": "16c10b9d",
   "metadata": {},
   "source": [
    "#### Data Description:\n",
    "\n",
    "| Feature     | Definition                                 | Key                                                                                                                                           |   |   |   |\n",
    "|:-------------|:--------------------------------------------|:-----------------------------------------------------------------------------------------------------------------------------------------------|---|---|---|\n",
    "| PassengerId | Passenger ID                               |                                                                                                                                               |   |   |   |\n",
    "| Survival    | Survival - target                          | 0 = No, 1 = Yes                                                                                                                               |   |   |   |\n",
    "| Pclass      | Ticket class                               | 1 = 1st, 2 = 2nd, 3 = 3rd                                                                                                                     |   |   |   |\n",
    "| Name        | Passenger name                             |                                                                                                                                               |   |   |   |\n",
    "| Sex         | Gender                                     |                                                                                                                                               |   |   |   |\n",
    "| Age         | Age in years                               | Age is fractional if less than 1. If the age is estimated, is it in the form of xx.5                                                          |   |   |   |\n",
    "| SibSp       | # of siblings / spouses aboard             | Sibling = brother, sister, stepbrother, stepsister Spouse = husband, wife (mistresses and fiancés were ignored)                               |   |   |   |\n",
    "| Parch       | # of parents / children aboard the Titanic | Parent = mother, father. Child = daughter, son, stepdaughter, stepson. Some children travelled only with a nanny, therefore parch=0 for them. |   |   |   |\n",
    "| Ticket      | Ticket number                              |                                                                                                                                               |   |   |   |\n",
    "| Fare        | Passenger fare                             |                                                                                                                                               |   |   |   |\n",
    "| Cabin       | Cabin number                               |                                                                                                                                               |   |   |   |\n",
    "| Embarked    | Port of Embarkation                        | C = Cherbourg, Q = Queenstown, S = Southampton                                                                                                |   |   |"
   ]
  },
  {
   "cell_type": "code",
   "execution_count": 8,
   "id": "2806cd16",
   "metadata": {},
   "outputs": [
    {
     "data": {
      "text/plain": [
       "(891, 12)"
      ]
     },
     "metadata": {},
     "output_type": "display_data"
    },
    {
     "name": "stdout",
     "output_type": "stream",
     "text": [
      "<class 'pandas.core.frame.DataFrame'>\n",
      "RangeIndex: 891 entries, 0 to 890\n",
      "Data columns (total 12 columns):\n",
      " #   Column       Non-Null Count  Dtype  \n",
      "---  ------       --------------  -----  \n",
      " 0   PassengerId  891 non-null    int64  \n",
      " 1   Survived     891 non-null    int64  \n",
      " 2   Pclass       891 non-null    int64  \n",
      " 3   Name         891 non-null    object \n",
      " 4   Sex          891 non-null    object \n",
      " 5   Age          714 non-null    float64\n",
      " 6   SibSp        891 non-null    int64  \n",
      " 7   Parch        891 non-null    int64  \n",
      " 8   Ticket       891 non-null    object \n",
      " 9   Fare         891 non-null    float64\n",
      " 10  Cabin        204 non-null    object \n",
      " 11  Embarked     889 non-null    object \n",
      "dtypes: float64(2), int64(5), object(5)\n",
      "memory usage: 83.7+ KB\n"
     ]
    },
    {
     "data": {
      "text/html": [
       "<div>\n",
       "<style scoped>\n",
       "    .dataframe tbody tr th:only-of-type {\n",
       "        vertical-align: middle;\n",
       "    }\n",
       "\n",
       "    .dataframe tbody tr th {\n",
       "        vertical-align: top;\n",
       "    }\n",
       "\n",
       "    .dataframe thead th {\n",
       "        text-align: right;\n",
       "    }\n",
       "</style>\n",
       "<table border=\"1\" class=\"dataframe\">\n",
       "  <thead>\n",
       "    <tr style=\"text-align: right;\">\n",
       "      <th></th>\n",
       "      <th>PassengerId</th>\n",
       "      <th>Survived</th>\n",
       "      <th>Pclass</th>\n",
       "      <th>Name</th>\n",
       "      <th>Sex</th>\n",
       "      <th>Age</th>\n",
       "      <th>SibSp</th>\n",
       "      <th>Parch</th>\n",
       "      <th>Ticket</th>\n",
       "      <th>Fare</th>\n",
       "      <th>Cabin</th>\n",
       "      <th>Embarked</th>\n",
       "    </tr>\n",
       "  </thead>\n",
       "  <tbody>\n",
       "    <tr>\n",
       "      <th>0</th>\n",
       "      <td>1</td>\n",
       "      <td>0</td>\n",
       "      <td>3</td>\n",
       "      <td>Braund, Mr. Owen Harris</td>\n",
       "      <td>male</td>\n",
       "      <td>22.0</td>\n",
       "      <td>1</td>\n",
       "      <td>0</td>\n",
       "      <td>A/5 21171</td>\n",
       "      <td>7.2500</td>\n",
       "      <td>NaN</td>\n",
       "      <td>S</td>\n",
       "    </tr>\n",
       "    <tr>\n",
       "      <th>1</th>\n",
       "      <td>2</td>\n",
       "      <td>1</td>\n",
       "      <td>1</td>\n",
       "      <td>Cumings, Mrs. John Bradley (Florence Briggs Th...</td>\n",
       "      <td>female</td>\n",
       "      <td>38.0</td>\n",
       "      <td>1</td>\n",
       "      <td>0</td>\n",
       "      <td>PC 17599</td>\n",
       "      <td>71.2833</td>\n",
       "      <td>C85</td>\n",
       "      <td>C</td>\n",
       "    </tr>\n",
       "    <tr>\n",
       "      <th>2</th>\n",
       "      <td>3</td>\n",
       "      <td>1</td>\n",
       "      <td>3</td>\n",
       "      <td>Heikkinen, Miss. Laina</td>\n",
       "      <td>female</td>\n",
       "      <td>26.0</td>\n",
       "      <td>0</td>\n",
       "      <td>0</td>\n",
       "      <td>STON/O2. 3101282</td>\n",
       "      <td>7.9250</td>\n",
       "      <td>NaN</td>\n",
       "      <td>S</td>\n",
       "    </tr>\n",
       "    <tr>\n",
       "      <th>3</th>\n",
       "      <td>4</td>\n",
       "      <td>1</td>\n",
       "      <td>1</td>\n",
       "      <td>Futrelle, Mrs. Jacques Heath (Lily May Peel)</td>\n",
       "      <td>female</td>\n",
       "      <td>35.0</td>\n",
       "      <td>1</td>\n",
       "      <td>0</td>\n",
       "      <td>113803</td>\n",
       "      <td>53.1000</td>\n",
       "      <td>C123</td>\n",
       "      <td>S</td>\n",
       "    </tr>\n",
       "    <tr>\n",
       "      <th>4</th>\n",
       "      <td>5</td>\n",
       "      <td>0</td>\n",
       "      <td>3</td>\n",
       "      <td>Allen, Mr. William Henry</td>\n",
       "      <td>male</td>\n",
       "      <td>35.0</td>\n",
       "      <td>0</td>\n",
       "      <td>0</td>\n",
       "      <td>373450</td>\n",
       "      <td>8.0500</td>\n",
       "      <td>NaN</td>\n",
       "      <td>S</td>\n",
       "    </tr>\n",
       "  </tbody>\n",
       "</table>\n",
       "</div>"
      ],
      "text/plain": [
       "   PassengerId  Survived  Pclass  \\\n",
       "0            1         0       3   \n",
       "1            2         1       1   \n",
       "2            3         1       3   \n",
       "3            4         1       1   \n",
       "4            5         0       3   \n",
       "\n",
       "                                                Name     Sex   Age  SibSp  \\\n",
       "0                            Braund, Mr. Owen Harris    male  22.0      1   \n",
       "1  Cumings, Mrs. John Bradley (Florence Briggs Th...  female  38.0      1   \n",
       "2                             Heikkinen, Miss. Laina  female  26.0      0   \n",
       "3       Futrelle, Mrs. Jacques Heath (Lily May Peel)  female  35.0      1   \n",
       "4                           Allen, Mr. William Henry    male  35.0      0   \n",
       "\n",
       "   Parch            Ticket     Fare Cabin Embarked  \n",
       "0      0         A/5 21171   7.2500   NaN        S  \n",
       "1      0          PC 17599  71.2833   C85        C  \n",
       "2      0  STON/O2. 3101282   7.9250   NaN        S  \n",
       "3      0            113803  53.1000  C123        S  \n",
       "4      0            373450   8.0500   NaN        S  "
      ]
     },
     "execution_count": 8,
     "metadata": {},
     "output_type": "execute_result"
    }
   ],
   "source": [
    "# importing the dataset\n",
    "data_path = 'data/'\n",
    "file_name = 'titanic_train.csv'\n",
    "titanic_df = pd.read_csv(data_path+file_name)\n",
    "display(titanic_df.shape)\n",
    "titanic_df.info()\n",
    "titanic_df.head()"
   ]
  },
  {
   "cell_type": "code",
   "execution_count": 9,
   "id": "7cec09e0",
   "metadata": {},
   "outputs": [
    {
     "data": {
      "text/html": [
       "<div>\n",
       "<style scoped>\n",
       "    .dataframe tbody tr th:only-of-type {\n",
       "        vertical-align: middle;\n",
       "    }\n",
       "\n",
       "    .dataframe tbody tr th {\n",
       "        vertical-align: top;\n",
       "    }\n",
       "\n",
       "    .dataframe thead th {\n",
       "        text-align: right;\n",
       "    }\n",
       "</style>\n",
       "<table border=\"1\" class=\"dataframe\">\n",
       "  <thead>\n",
       "    <tr style=\"text-align: right;\">\n",
       "      <th></th>\n",
       "      <th>% Missing</th>\n",
       "    </tr>\n",
       "  </thead>\n",
       "  <tbody>\n",
       "    <tr>\n",
       "      <th>PassengerId</th>\n",
       "      <td>0.00</td>\n",
       "    </tr>\n",
       "    <tr>\n",
       "      <th>Survived</th>\n",
       "      <td>0.00</td>\n",
       "    </tr>\n",
       "    <tr>\n",
       "      <th>Pclass</th>\n",
       "      <td>0.00</td>\n",
       "    </tr>\n",
       "    <tr>\n",
       "      <th>Name</th>\n",
       "      <td>0.00</td>\n",
       "    </tr>\n",
       "    <tr>\n",
       "      <th>Sex</th>\n",
       "      <td>0.00</td>\n",
       "    </tr>\n",
       "    <tr>\n",
       "      <th>Age</th>\n",
       "      <td>19.87</td>\n",
       "    </tr>\n",
       "    <tr>\n",
       "      <th>SibSp</th>\n",
       "      <td>0.00</td>\n",
       "    </tr>\n",
       "    <tr>\n",
       "      <th>Parch</th>\n",
       "      <td>0.00</td>\n",
       "    </tr>\n",
       "    <tr>\n",
       "      <th>Ticket</th>\n",
       "      <td>0.00</td>\n",
       "    </tr>\n",
       "    <tr>\n",
       "      <th>Fare</th>\n",
       "      <td>0.00</td>\n",
       "    </tr>\n",
       "    <tr>\n",
       "      <th>Cabin</th>\n",
       "      <td>77.10</td>\n",
       "    </tr>\n",
       "    <tr>\n",
       "      <th>Embarked</th>\n",
       "      <td>0.22</td>\n",
       "    </tr>\n",
       "  </tbody>\n",
       "</table>\n",
       "</div>"
      ],
      "text/plain": [
       "             % Missing\n",
       "PassengerId       0.00\n",
       "Survived          0.00\n",
       "Pclass            0.00\n",
       "Name              0.00\n",
       "Sex               0.00\n",
       "Age              19.87\n",
       "SibSp             0.00\n",
       "Parch             0.00\n",
       "Ticket            0.00\n",
       "Fare              0.00\n",
       "Cabin            77.10\n",
       "Embarked          0.22"
      ]
     },
     "execution_count": 9,
     "metadata": {},
     "output_type": "execute_result"
    }
   ],
   "source": [
    "# % of missing values\n",
    "pd.DataFrame(np.round(titanic_df.isna().sum()/len(titanic_df)*100,2), columns=['% Missing'])\n",
    "\n",
    "# Observations:\n",
    "# - Age has 177 missing values (~19.87%)\n",
    "# - Cabin has only 204 non-null values, meaning that only ~22.9% of the instances have values for this feature.\n",
    "# - There are 2 missing values for Embarked (0.22%)."
   ]
  },
  {
   "cell_type": "code",
   "execution_count": 10,
   "id": "5f26e38d",
   "metadata": {},
   "outputs": [
    {
     "data": {
      "text/plain": [
       "1    176\n",
       "2     16\n",
       "3     12\n",
       "Name: Pclass, dtype: int64"
      ]
     },
     "metadata": {},
     "output_type": "display_data"
    },
    {
     "data": {
      "text/plain": [
       "3    491\n",
       "1    216\n",
       "2    184\n",
       "Name: Pclass, dtype: int64"
      ]
     },
     "metadata": {},
     "output_type": "display_data"
    }
   ],
   "source": [
    "# Examining/handling features with missing values\n",
    "\n",
    "# 1. Cabin has a large number of missing values. These are my observations w.r.t. this feature:\n",
    "    # - I did some research and found that the source of information of the allocation of cabins on the Titanic comes from incomplete lists, a few boarding passes and recollections from survivors (https://www.encyclopedia-titanica.org/cabins.html).\n",
    "    # - I don't think there is much to do with this feature. The high ratio of missing values and the inherent uncertainty in the data makes it difficult to extract accurate data regarding the decks priority, for example. Mapping this feature to a 'Has_Cabin' binary feature might not be a good idea either; after all, this would only represent missing and non-missing values. \n",
    "    # - On top of that, it would be reasonable to conclude that the passengers class is highly correlated to the cabin allocation. Hence, the predictive power of Cabin might not be significant if Pclass and maybe Fare are included in the model.\n",
    "    # - I will drop 'Cabin' from the data set.\n",
    "    \n",
    "display(titanic_df[titanic_df.Cabin.notnull()]['Pclass'].value_counts())\n",
    "display(titanic_df.Pclass.value_counts())"
   ]
  },
  {
   "cell_type": "code",
   "execution_count": 11,
   "id": "6b206f89",
   "metadata": {},
   "outputs": [
    {
     "data": {
      "text/plain": [
       "0"
      ]
     },
     "execution_count": 11,
     "metadata": {},
     "output_type": "execute_result"
    }
   ],
   "source": [
    "# 2. Embarked has only 2 missing values. These can be imputed using the mode of the feature.\n",
    "titanic_df['Embarked'] = titanic_df['Embarked'].fillna(titanic_df.Embarked.mode()[0])\n",
    "titanic_df['Embarked'].isna().sum()"
   ]
  },
  {
   "cell_type": "code",
   "execution_count": 12,
   "id": "20ad90f9",
   "metadata": {},
   "outputs": [
    {
     "data": {
      "text/plain": [
       "Mr          517\n",
       "Miss        182\n",
       "Mrs         125\n",
       "Master       40\n",
       "Dr            7\n",
       "Rev           6\n",
       "Mlle          2\n",
       "Major         2\n",
       "Col           2\n",
       "Countess      1\n",
       "Capt          1\n",
       "Ms            1\n",
       "Sir           1\n",
       "Lady          1\n",
       "Mme           1\n",
       "Don           1\n",
       "Jonkheer      1\n",
       "Name: Salutation, dtype: int64"
      ]
     },
     "execution_count": 12,
     "metadata": {},
     "output_type": "execute_result"
    }
   ],
   "source": [
    "# 3. Age is missing 19.87% of its values. These values can be imputed; however, imputing with the mean age is not suitable right now, I might end up assigning 'odd' values. \n",
    "# - Instead, I will impute these missing values using the mean age of certain groups. These groups will be based on the title, or salutation, extracted from the name of the passengers.\n",
    "# - The assumption here is that the average age of unmarried women, for example, should be lower than married ones. Similarly, certain salutations or the lack of one might indicate younger people (teenagers).\n",
    "# - Therefore, I will first work on 'Name' to extract the salutations and will go back to 'Age' to handle the missing values.\n",
    "\n",
    "# extracting salutation/title from 'Name' using regex (combination of letters followed by a dot)\n",
    "titanic_df['Salutation'] = titanic_df['Name'].str.extract(' ([A-Za-z]+)\\.', expand=False)\n",
    "titanic_df['Salutation'].value_counts()"
   ]
  },
  {
   "cell_type": "markdown",
   "id": "7f82396a",
   "metadata": {},
   "source": [
    "About the salutations (https://en.wikipedia.org/wiki/English_honorifics#Common_titles | https://en.wikipedia.org/wiki/Jonkheer):\n",
    "- Mr: for men, regardless of marital status, who do not have another professional or academic title.\n",
    "- Miss: for girls, unmarried women and (in the UK) married women who continue to use their maiden name (although \"Ms\" is often preferred for the last two).\n",
    "- Mrs: for married women who do not have another professional or academic title, an abbreviation of Mistres.\n",
    "- Master: for boys and young men. It may also be used as a professional title.\n",
    "- Dr: Doctor.\n",
    "- Rev: Reverend.\n",
    "- Mlle: French equivalent of “Miss”.\n",
    "- Major: Major, a military rank.\n",
    "- Col: Colonel, a military rank.\n",
    "- Countess: Noblewoman.\n",
    "- Capt: Captain.\n",
    "- Ms: for women, regardless of marital status or when marital status is unknown.\n",
    "- Sir: for men, formally if they have a British knighthood or if they are a baronet.\n",
    "- Lady: for female peers with the rank of baroness, viscountess, countess, and marchioness\n",
    "- Mme: Madamme. French equivalent to Mrs.\n",
    "- Don: nobility title for men.\n",
    "- Jonkheer: honorific in the Low Countries denoting the lowest rank within the nobility."
   ]
  },
  {
   "cell_type": "code",
   "execution_count": 13,
   "id": "e8394d7f",
   "metadata": {},
   "outputs": [
    {
     "data": {
      "text/plain": [
       "<AxesSubplot:xlabel='Pclass', ylabel='Age'>"
      ]
     },
     "execution_count": 13,
     "metadata": {},
     "output_type": "execute_result"
    },
    {
     "data": {
      "image/png": "[encoded data removed]",
      "text/plain": [
       "<Figure size 1152x360 with 4 Axes>"
      ]
     },
     "metadata": {
      "needs_background": "light"
     },
     "output_type": "display_data"
    }
   ],
   "source": [
    "# - I could group titles that might be considered as 'synonyms' to reduce the cardinality and find appropriate groups to then impute Age. This is the mapping I will use:\n",
    "    # - Mr: Mr, Dr, Rev, Major, Col, Capt, Sir, Don, Jonkheer\n",
    "    # - Miss (unmarried): Miss, Mlle\n",
    "    # - Mrs: Mrs, Lady, Mme, Countess, Ms\n",
    "    # - Master\n",
    "    \n",
    "# defining groups\n",
    "grp_mr = ['Mr', 'Dr', 'Rev', 'Major', 'Col', 'Capt', 'Sir', 'Don', 'Jonkheer'] # adult men\n",
    "grp_mss =['Miss', 'Mlle'] # young girls and/or unmarried women\n",
    "grp_mrs = ['Mrs', 'Lady', 'Mme', 'Countess', 'Ms'] # married women\n",
    "grp_mstr = ['Master'] # young boys\n",
    "\n",
    "# before imputing, let's see if Pclass is correlated the mean Age\n",
    "fig, ax = plt.subplots(1,4, figsize=(16,5), gridspec_kw={'hspace': 0.3, 'wspace':0.3})\n",
    "sns.boxplot(data=titanic_df[titanic_df.Salutation.isin(grp_mr)], y='Age', x='Pclass',  ax=ax[0]).set_title('Mr')\n",
    "sns.boxplot(data=titanic_df[titanic_df.Salutation.isin(grp_mss)], y='Age', x='Pclass',  ax=ax[1])\n",
    "sns.boxplot(data=titanic_df[titanic_df.Salutation.isin(grp_mrs)], y='Age', x='Pclass',  ax=ax[2])\n",
    "sns.boxplot(data=titanic_df[titanic_df.Salutation.isin(grp_mstr)], y='Age', x='Pclass',  ax=ax[3])"
   ]
  },
  {
   "cell_type": "code",
   "execution_count": 14,
   "id": "dc094963",
   "metadata": {},
   "outputs": [
    {
     "data": {
      "text/plain": [
       "PassengerId      0\n",
       "Survived         0\n",
       "Pclass           0\n",
       "Name             0\n",
       "Sex              0\n",
       "Age              0\n",
       "SibSp            0\n",
       "Parch            0\n",
       "Ticket           0\n",
       "Fare             0\n",
       "Cabin          687\n",
       "Embarked         0\n",
       "Salutation       0\n",
       "dtype: int64"
      ]
     },
     "execution_count": 14,
     "metadata": {},
     "output_type": "execute_result"
    }
   ],
   "source": [
    "# - The range of Age per Salutation varies with Pclass, I will use both to impute missing values in Age\n",
    "\n",
    "titanic_df['Age'] = titanic_df.Age.fillna(round(titanic_df[titanic_df.Salutation.isin(grp_mr)].groupby('Pclass')['Age'].transform('mean')))\n",
    "\n",
    "titanic_df['Age'] = titanic_df.Age.fillna(round(titanic_df[titanic_df.Salutation.isin(grp_mss)].groupby('Pclass')['Age'].transform('mean')))\n",
    "\n",
    "titanic_df['Age'] = titanic_df.Age.fillna(round(titanic_df[titanic_df.Salutation.isin(grp_mrs)].groupby('Pclass')['Age'].transform('mean')))\n",
    "\n",
    "titanic_df['Age'] = titanic_df.Age.fillna(round(titanic_df[titanic_df.Salutation.isin(grp_mstr)].groupby('Pclass')['Age'].transform('mean')))\n",
    "\n",
    "# checking missing values\n",
    "titanic_df.isnull().sum()"
   ]
  },
  {
   "cell_type": "markdown",
   "id": "edbc7e4b",
   "metadata": {},
   "source": [
    "#### Feature Engineering"
   ]
  },
  {
   "cell_type": "code",
   "execution_count": 15,
   "id": "6359f359",
   "metadata": {},
   "outputs": [
    {
     "data": {
      "text/plain": [
       "0     537\n",
       "1     161\n",
       "2     102\n",
       "3      29\n",
       "5      22\n",
       "4      15\n",
       "6      12\n",
       "10      7\n",
       "7       6\n",
       "Name: FamilySize, dtype: int64"
      ]
     },
     "execution_count": 15,
     "metadata": {},
     "output_type": "execute_result"
    }
   ],
   "source": [
    "# Family size: the assumption is that passengers travelling with family might have prioritized their lives over their own. It would be interesting to analyze if passengers travelling alone did better.\n",
    "titanic_df['FamilySize'] = titanic_df.SibSp + titanic_df.Parch\n",
    "titanic_df['FamilySize'].value_counts()"
   ]
  },
  {
   "cell_type": "code",
   "execution_count": 16,
   "id": "8abb6ae6",
   "metadata": {},
   "outputs": [
    {
     "data": {
      "text/html": [
       "<div>\n",
       "<style scoped>\n",
       "    .dataframe tbody tr th:only-of-type {\n",
       "        vertical-align: middle;\n",
       "    }\n",
       "\n",
       "    .dataframe tbody tr th {\n",
       "        vertical-align: top;\n",
       "    }\n",
       "\n",
       "    .dataframe thead th {\n",
       "        text-align: right;\n",
       "    }\n",
       "</style>\n",
       "<table border=\"1\" class=\"dataframe\">\n",
       "  <thead>\n",
       "    <tr style=\"text-align: right;\">\n",
       "      <th></th>\n",
       "      <th>PassengerId</th>\n",
       "      <th>Survived</th>\n",
       "      <th>Pclass</th>\n",
       "      <th>Name</th>\n",
       "      <th>Sex</th>\n",
       "      <th>Age</th>\n",
       "      <th>SibSp</th>\n",
       "      <th>Parch</th>\n",
       "      <th>Ticket</th>\n",
       "      <th>Fare</th>\n",
       "      <th>Cabin</th>\n",
       "      <th>Embarked</th>\n",
       "      <th>Salutation</th>\n",
       "      <th>FamilySize</th>\n",
       "    </tr>\n",
       "  </thead>\n",
       "  <tbody>\n",
       "    <tr>\n",
       "      <th>30</th>\n",
       "      <td>31</td>\n",
       "      <td>0</td>\n",
       "      <td>1</td>\n",
       "      <td>Uruchurtu, Don. Manuel E</td>\n",
       "      <td>male</td>\n",
       "      <td>40.0</td>\n",
       "      <td>0</td>\n",
       "      <td>0</td>\n",
       "      <td>PC 17601</td>\n",
       "      <td>27.7208</td>\n",
       "      <td>NaN</td>\n",
       "      <td>C</td>\n",
       "      <td>Don</td>\n",
       "      <td>0</td>\n",
       "    </tr>\n",
       "    <tr>\n",
       "      <th>556</th>\n",
       "      <td>557</td>\n",
       "      <td>1</td>\n",
       "      <td>1</td>\n",
       "      <td>Duff Gordon, Lady. (Lucille Christiana Sutherl...</td>\n",
       "      <td>female</td>\n",
       "      <td>48.0</td>\n",
       "      <td>1</td>\n",
       "      <td>0</td>\n",
       "      <td>11755</td>\n",
       "      <td>39.6000</td>\n",
       "      <td>A16</td>\n",
       "      <td>C</td>\n",
       "      <td>Lady</td>\n",
       "      <td>1</td>\n",
       "    </tr>\n",
       "    <tr>\n",
       "      <th>599</th>\n",
       "      <td>600</td>\n",
       "      <td>1</td>\n",
       "      <td>1</td>\n",
       "      <td>Duff Gordon, Sir. Cosmo Edmund (\"Mr Morgan\")</td>\n",
       "      <td>male</td>\n",
       "      <td>49.0</td>\n",
       "      <td>1</td>\n",
       "      <td>0</td>\n",
       "      <td>PC 17485</td>\n",
       "      <td>56.9292</td>\n",
       "      <td>A20</td>\n",
       "      <td>C</td>\n",
       "      <td>Sir</td>\n",
       "      <td>1</td>\n",
       "    </tr>\n",
       "    <tr>\n",
       "      <th>759</th>\n",
       "      <td>760</td>\n",
       "      <td>1</td>\n",
       "      <td>1</td>\n",
       "      <td>Rothes, the Countess. of (Lucy Noel Martha Dye...</td>\n",
       "      <td>female</td>\n",
       "      <td>33.0</td>\n",
       "      <td>0</td>\n",
       "      <td>0</td>\n",
       "      <td>110152</td>\n",
       "      <td>86.5000</td>\n",
       "      <td>B77</td>\n",
       "      <td>S</td>\n",
       "      <td>Countess</td>\n",
       "      <td>0</td>\n",
       "    </tr>\n",
       "    <tr>\n",
       "      <th>822</th>\n",
       "      <td>823</td>\n",
       "      <td>0</td>\n",
       "      <td>1</td>\n",
       "      <td>Reuchlin, Jonkheer. John George</td>\n",
       "      <td>male</td>\n",
       "      <td>38.0</td>\n",
       "      <td>0</td>\n",
       "      <td>0</td>\n",
       "      <td>19972</td>\n",
       "      <td>0.0000</td>\n",
       "      <td>NaN</td>\n",
       "      <td>S</td>\n",
       "      <td>Jonkheer</td>\n",
       "      <td>0</td>\n",
       "    </tr>\n",
       "  </tbody>\n",
       "</table>\n",
       "</div>"
      ],
      "text/plain": [
       "     PassengerId  Survived  Pclass  \\\n",
       "30            31         0       1   \n",
       "556          557         1       1   \n",
       "599          600         1       1   \n",
       "759          760         1       1   \n",
       "822          823         0       1   \n",
       "\n",
       "                                                  Name     Sex   Age  SibSp  \\\n",
       "30                            Uruchurtu, Don. Manuel E    male  40.0      0   \n",
       "556  Duff Gordon, Lady. (Lucille Christiana Sutherl...  female  48.0      1   \n",
       "599       Duff Gordon, Sir. Cosmo Edmund (\"Mr Morgan\")    male  49.0      1   \n",
       "759  Rothes, the Countess. of (Lucy Noel Martha Dye...  female  33.0      0   \n",
       "822                    Reuchlin, Jonkheer. John George    male  38.0      0   \n",
       "\n",
       "     Parch    Ticket     Fare Cabin Embarked Salutation  FamilySize  \n",
       "30       0  PC 17601  27.7208   NaN        C        Don           0  \n",
       "556      0     11755  39.6000   A16        C       Lady           1  \n",
       "599      0  PC 17485  56.9292   A20        C        Sir           1  \n",
       "759      0    110152  86.5000   B77        S   Countess           0  \n",
       "822      0     19972   0.0000   NaN        S   Jonkheer           0  "
      ]
     },
     "execution_count": 16,
     "metadata": {},
     "output_type": "execute_result"
    }
   ],
   "source": [
    "# Salutation was used for imputing missing values in Age, but it might also provide details about social ranking.\n",
    "\n",
    "# - Initially, I considered creating a new feature to represent whether the passenger has a nobility title or not. However, there is only one instance for each of the nobility titles in the data ('Countess', 'Lady', 'Sir', 'Don', 'Jonkheer')—5 instances, 3 Survived =1, 2 Survived=0. I am discarding the idea.\n",
    "\n",
    "nob_titles = ['Countess', 'Lady', 'Sir', 'Don', 'Jonkheer']\n",
    "titanic_df[titanic_df.Salutation.isin(nob_titles)]"
   ]
  },
  {
   "cell_type": "code",
   "execution_count": 17,
   "id": "ee81f03e",
   "metadata": {},
   "outputs": [
    {
     "name": "stdout",
     "output_type": "stream",
     "text": [
      "Mr\n"
     ]
    },
    {
     "data": {
      "text/plain": [
       "male    517\n",
       "Name: Sex, dtype: int64"
      ]
     },
     "metadata": {},
     "output_type": "display_data"
    },
    {
     "name": "stdout",
     "output_type": "stream",
     "text": [
      "Mrs\n"
     ]
    },
    {
     "data": {
      "text/plain": [
       "female    127\n",
       "Name: Sex, dtype: int64"
      ]
     },
     "metadata": {},
     "output_type": "display_data"
    },
    {
     "name": "stdout",
     "output_type": "stream",
     "text": [
      "Miss\n"
     ]
    },
    {
     "data": {
      "text/plain": [
       "female    184\n",
       "Name: Sex, dtype: int64"
      ]
     },
     "metadata": {},
     "output_type": "display_data"
    },
    {
     "name": "stdout",
     "output_type": "stream",
     "text": [
      "Master\n"
     ]
    },
    {
     "data": {
      "text/plain": [
       "male    40\n",
       "Name: Sex, dtype: int64"
      ]
     },
     "metadata": {},
     "output_type": "display_data"
    },
    {
     "name": "stdout",
     "output_type": "stream",
     "text": [
      "Don\n"
     ]
    },
    {
     "data": {
      "text/plain": [
       "male    1\n",
       "Name: Sex, dtype: int64"
      ]
     },
     "metadata": {},
     "output_type": "display_data"
    },
    {
     "name": "stdout",
     "output_type": "stream",
     "text": [
      "Rev\n"
     ]
    },
    {
     "data": {
      "text/plain": [
       "male    6\n",
       "Name: Sex, dtype: int64"
      ]
     },
     "metadata": {},
     "output_type": "display_data"
    },
    {
     "name": "stdout",
     "output_type": "stream",
     "text": [
      "Dr\n"
     ]
    },
    {
     "data": {
      "text/plain": [
       "male      6\n",
       "female    1\n",
       "Name: Sex, dtype: int64"
      ]
     },
     "metadata": {},
     "output_type": "display_data"
    },
    {
     "name": "stdout",
     "output_type": "stream",
     "text": [
      "Major\n"
     ]
    },
    {
     "data": {
      "text/plain": [
       "male    2\n",
       "Name: Sex, dtype: int64"
      ]
     },
     "metadata": {},
     "output_type": "display_data"
    },
    {
     "name": "stdout",
     "output_type": "stream",
     "text": [
      "Lady\n"
     ]
    },
    {
     "data": {
      "text/plain": [
       "female    1\n",
       "Name: Sex, dtype: int64"
      ]
     },
     "metadata": {},
     "output_type": "display_data"
    },
    {
     "name": "stdout",
     "output_type": "stream",
     "text": [
      "Sir\n"
     ]
    },
    {
     "data": {
      "text/plain": [
       "male    1\n",
       "Name: Sex, dtype: int64"
      ]
     },
     "metadata": {},
     "output_type": "display_data"
    },
    {
     "name": "stdout",
     "output_type": "stream",
     "text": [
      "Col\n"
     ]
    },
    {
     "data": {
      "text/plain": [
       "male    2\n",
       "Name: Sex, dtype: int64"
      ]
     },
     "metadata": {},
     "output_type": "display_data"
    },
    {
     "name": "stdout",
     "output_type": "stream",
     "text": [
      "Capt\n"
     ]
    },
    {
     "data": {
      "text/plain": [
       "male    1\n",
       "Name: Sex, dtype: int64"
      ]
     },
     "metadata": {},
     "output_type": "display_data"
    },
    {
     "name": "stdout",
     "output_type": "stream",
     "text": [
      "Countess\n"
     ]
    },
    {
     "data": {
      "text/plain": [
       "female    1\n",
       "Name: Sex, dtype: int64"
      ]
     },
     "metadata": {},
     "output_type": "display_data"
    },
    {
     "name": "stdout",
     "output_type": "stream",
     "text": [
      "Jonkheer\n"
     ]
    },
    {
     "data": {
      "text/plain": [
       "male    1\n",
       "Name: Sex, dtype: int64"
      ]
     },
     "metadata": {},
     "output_type": "display_data"
    }
   ],
   "source": [
    "# - Also, there are salutations/titles that, even when they are not considered 'noble' per se, they involve a higher social ranking. For example, Colonel, Reverend, Major, etc.\n",
    "# - It is worth mentioning that salutations/titles usually imply the gender.\n",
    "# - Let's try to reduce the cardinality of this new feature and analyze it.\n",
    "\n",
    "titanic_df.Salutation.replace(['Mlle','Mme','Ms'], ['Miss','Mrs','Mrs'], inplace=True)\n",
    "\n",
    "\n",
    "titles = titanic_df.Salutation.unique()\n",
    "for t in titles:\n",
    "    print(t)\n",
    "    display(titanic_df[titanic_df.Salutation == t]['Sex'].value_counts())"
   ]
  },
  {
   "cell_type": "code",
   "execution_count": 18,
   "id": "ad577a03",
   "metadata": {},
   "outputs": [
    {
     "data": {
      "text/plain": [
       "Mr          517\n",
       "Miss        184\n",
       "Mrs         127\n",
       "Master       40\n",
       "Rev           6\n",
       "Dr            6\n",
       "Major         2\n",
       "Col           2\n",
       "Don           1\n",
       "Lady          1\n",
       "Sir           1\n",
       "Capt          1\n",
       "Countess      1\n",
       "Dra           1\n",
       "Jonkheer      1\n",
       "Name: Salutation, dtype: int64"
      ]
     },
     "execution_count": 18,
     "metadata": {},
     "output_type": "execute_result"
    }
   ],
   "source": [
    "# almost every salutation refers to a specific Sex level (gender); the exception being Dr, for this title there is one instance with Sex=Female.\n",
    "# Let's update the salutation for that instance from Dr to Dra to differentiate it and continue reducing the cardinality of this feature.\n",
    "# The idea is to define the following levels:\n",
    "    # - Miss: young girls, unmarried woman\n",
    "    # - Mrs: married woman\n",
    "    # - Master: young boys\n",
    "    # - Mr: men\n",
    "    # - Other_F: women with these somewhat 'unusual' titles such as Lady, Countess, etc.\n",
    "    # - Other_M: men with these somewhat 'unusual' titles such as Sir, Don, Col, Rev, etc.\n",
    "# Once done this, we could say that 'Salutation' would be a feature providing info about social ranking and also gender; therefore, 'Sex' could be dropped since it's implied in the salutation/title, I will analyze this idea when I plot the correlation matrix.\n",
    "\n",
    "titanic_df.loc[(titanic_df.Sex == 'female') & (titanic_df.Salutation == 'Dr'),'Salutation'] = 'Dra'\n",
    "titanic_df.Salutation.value_counts()               "
   ]
  },
  {
   "cell_type": "code",
   "execution_count": 19,
   "id": "0267c06c",
   "metadata": {},
   "outputs": [
    {
     "data": {
      "text/plain": [
       "Mr         517\n",
       "Miss       184\n",
       "Mrs        127\n",
       "Master      40\n",
       "Other_M     20\n",
       "Other_F      3\n",
       "Name: Salutation, dtype: int64"
      ]
     },
     "execution_count": 19,
     "metadata": {},
     "output_type": "execute_result"
    }
   ],
   "source": [
    "# reducing cardinality by grouping salutations\n",
    "titanic_df.Salutation.replace(['Dr','Major','Jonkheer', 'Col','Rev','Capt','Sir','Don', 'Lady','Countess', 'Dra'], ['Other_M','Other_M','Other_M', 'Other_M','Other_M','Other_M', 'Other_M','Other_M', 'Other_F', 'Other_F', 'Other_F'], inplace=True)\n",
    "titanic_df.Salutation.value_counts()"
   ]
  },
  {
   "cell_type": "code",
   "execution_count": 20,
   "id": "bda3f2e0",
   "metadata": {},
   "outputs": [
    {
     "name": "stdout",
     "output_type": "stream",
     "text": [
      "<class 'pandas.core.frame.DataFrame'>\n",
      "RangeIndex: 891 entries, 0 to 890\n",
      "Data columns (total 14 columns):\n",
      " #   Column       Non-Null Count  Dtype  \n",
      "---  ------       --------------  -----  \n",
      " 0   PassengerId  891 non-null    int64  \n",
      " 1   Survived     891 non-null    int64  \n",
      " 2   Pclass       891 non-null    int64  \n",
      " 3   Name         891 non-null    object \n",
      " 4   Sex          891 non-null    object \n",
      " 5   Age          891 non-null    float64\n",
      " 6   SibSp        891 non-null    int64  \n",
      " 7   Parch        891 non-null    int64  \n",
      " 8   Ticket       891 non-null    object \n",
      " 9   Fare         891 non-null    float64\n",
      " 10  Cabin        204 non-null    object \n",
      " 11  Embarked     891 non-null    object \n",
      " 12  Salutation   891 non-null    object \n",
      " 13  FamilySize   891 non-null    int64  \n",
      "dtypes: float64(2), int64(6), object(6)\n",
      "memory usage: 97.6+ KB\n"
     ]
    }
   ],
   "source": [
    "# dataframe up to this point\n",
    "titanic_df.info()"
   ]
  },
  {
   "cell_type": "markdown",
   "id": "b8096b4b",
   "metadata": {},
   "source": [
    "#### EDA and more feature engineering"
   ]
  },
  {
   "cell_type": "code",
   "execution_count": 21,
   "id": "7ec142fe",
   "metadata": {},
   "outputs": [
    {
     "data": {
      "text/html": [
       "<div>\n",
       "<style scoped>\n",
       "    .dataframe tbody tr th:only-of-type {\n",
       "        vertical-align: middle;\n",
       "    }\n",
       "\n",
       "    .dataframe tbody tr th {\n",
       "        vertical-align: top;\n",
       "    }\n",
       "\n",
       "    .dataframe thead th {\n",
       "        text-align: right;\n",
       "    }\n",
       "</style>\n",
       "<table border=\"1\" class=\"dataframe\">\n",
       "  <thead>\n",
       "    <tr style=\"text-align: right;\">\n",
       "      <th></th>\n",
       "      <th>PassengerId</th>\n",
       "      <th>Survived</th>\n",
       "      <th>Pclass</th>\n",
       "      <th>Age</th>\n",
       "      <th>SibSp</th>\n",
       "      <th>Parch</th>\n",
       "      <th>Fare</th>\n",
       "      <th>FamilySize</th>\n",
       "    </tr>\n",
       "  </thead>\n",
       "  <tbody>\n",
       "    <tr>\n",
       "      <th>count</th>\n",
       "      <td>891.000000</td>\n",
       "      <td>891.000000</td>\n",
       "      <td>891.000000</td>\n",
       "      <td>891.000000</td>\n",
       "      <td>891.000000</td>\n",
       "      <td>891.000000</td>\n",
       "      <td>891.000000</td>\n",
       "      <td>891.000000</td>\n",
       "    </tr>\n",
       "    <tr>\n",
       "      <th>mean</th>\n",
       "      <td>446.000000</td>\n",
       "      <td>0.383838</td>\n",
       "      <td>2.308642</td>\n",
       "      <td>29.462593</td>\n",
       "      <td>0.523008</td>\n",
       "      <td>0.381594</td>\n",
       "      <td>32.204208</td>\n",
       "      <td>0.904602</td>\n",
       "    </tr>\n",
       "    <tr>\n",
       "      <th>std</th>\n",
       "      <td>257.353842</td>\n",
       "      <td>0.486592</td>\n",
       "      <td>0.836071</td>\n",
       "      <td>13.556455</td>\n",
       "      <td>1.102743</td>\n",
       "      <td>0.806057</td>\n",
       "      <td>49.693429</td>\n",
       "      <td>1.613459</td>\n",
       "    </tr>\n",
       "    <tr>\n",
       "      <th>min</th>\n",
       "      <td>1.000000</td>\n",
       "      <td>0.000000</td>\n",
       "      <td>1.000000</td>\n",
       "      <td>0.420000</td>\n",
       "      <td>0.000000</td>\n",
       "      <td>0.000000</td>\n",
       "      <td>0.000000</td>\n",
       "      <td>0.000000</td>\n",
       "    </tr>\n",
       "    <tr>\n",
       "      <th>25%</th>\n",
       "      <td>223.500000</td>\n",
       "      <td>0.000000</td>\n",
       "      <td>2.000000</td>\n",
       "      <td>21.000000</td>\n",
       "      <td>0.000000</td>\n",
       "      <td>0.000000</td>\n",
       "      <td>7.910400</td>\n",
       "      <td>0.000000</td>\n",
       "    </tr>\n",
       "    <tr>\n",
       "      <th>50%</th>\n",
       "      <td>446.000000</td>\n",
       "      <td>0.000000</td>\n",
       "      <td>3.000000</td>\n",
       "      <td>29.000000</td>\n",
       "      <td>0.000000</td>\n",
       "      <td>0.000000</td>\n",
       "      <td>14.454200</td>\n",
       "      <td>0.000000</td>\n",
       "    </tr>\n",
       "    <tr>\n",
       "      <th>75%</th>\n",
       "      <td>668.500000</td>\n",
       "      <td>1.000000</td>\n",
       "      <td>3.000000</td>\n",
       "      <td>36.750000</td>\n",
       "      <td>1.000000</td>\n",
       "      <td>0.000000</td>\n",
       "      <td>31.000000</td>\n",
       "      <td>1.000000</td>\n",
       "    </tr>\n",
       "    <tr>\n",
       "      <th>max</th>\n",
       "      <td>891.000000</td>\n",
       "      <td>1.000000</td>\n",
       "      <td>3.000000</td>\n",
       "      <td>80.000000</td>\n",
       "      <td>8.000000</td>\n",
       "      <td>6.000000</td>\n",
       "      <td>512.329200</td>\n",
       "      <td>10.000000</td>\n",
       "    </tr>\n",
       "  </tbody>\n",
       "</table>\n",
       "</div>"
      ],
      "text/plain": [
       "       PassengerId    Survived      Pclass         Age       SibSp  \\\n",
       "count   891.000000  891.000000  891.000000  891.000000  891.000000   \n",
       "mean    446.000000    0.383838    2.308642   29.462593    0.523008   \n",
       "std     257.353842    0.486592    0.836071   13.556455    1.102743   \n",
       "min       1.000000    0.000000    1.000000    0.420000    0.000000   \n",
       "25%     223.500000    0.000000    2.000000   21.000000    0.000000   \n",
       "50%     446.000000    0.000000    3.000000   29.000000    0.000000   \n",
       "75%     668.500000    1.000000    3.000000   36.750000    1.000000   \n",
       "max     891.000000    1.000000    3.000000   80.000000    8.000000   \n",
       "\n",
       "            Parch        Fare  FamilySize  \n",
       "count  891.000000  891.000000  891.000000  \n",
       "mean     0.381594   32.204208    0.904602  \n",
       "std      0.806057   49.693429    1.613459  \n",
       "min      0.000000    0.000000    0.000000  \n",
       "25%      0.000000    7.910400    0.000000  \n",
       "50%      0.000000   14.454200    0.000000  \n",
       "75%      0.000000   31.000000    1.000000  \n",
       "max      6.000000  512.329200   10.000000  "
      ]
     },
     "execution_count": 21,
     "metadata": {},
     "output_type": "execute_result"
    }
   ],
   "source": [
    "# numeric features\n",
    "titanic_df.describe()"
   ]
  },
  {
   "cell_type": "code",
   "execution_count": 22,
   "id": "36712507",
   "metadata": {},
   "outputs": [
    {
     "data": {
      "text/html": [
       "<div>\n",
       "<style scoped>\n",
       "    .dataframe tbody tr th:only-of-type {\n",
       "        vertical-align: middle;\n",
       "    }\n",
       "\n",
       "    .dataframe tbody tr th {\n",
       "        vertical-align: top;\n",
       "    }\n",
       "\n",
       "    .dataframe thead th {\n",
       "        text-align: right;\n",
       "    }\n",
       "</style>\n",
       "<table border=\"1\" class=\"dataframe\">\n",
       "  <thead>\n",
       "    <tr style=\"text-align: right;\">\n",
       "      <th></th>\n",
       "      <th>Name</th>\n",
       "      <th>Sex</th>\n",
       "      <th>Ticket</th>\n",
       "      <th>Cabin</th>\n",
       "      <th>Embarked</th>\n",
       "      <th>Salutation</th>\n",
       "    </tr>\n",
       "  </thead>\n",
       "  <tbody>\n",
       "    <tr>\n",
       "      <th>count</th>\n",
       "      <td>891</td>\n",
       "      <td>891</td>\n",
       "      <td>891</td>\n",
       "      <td>204</td>\n",
       "      <td>891</td>\n",
       "      <td>891</td>\n",
       "    </tr>\n",
       "    <tr>\n",
       "      <th>unique</th>\n",
       "      <td>891</td>\n",
       "      <td>2</td>\n",
       "      <td>681</td>\n",
       "      <td>147</td>\n",
       "      <td>3</td>\n",
       "      <td>6</td>\n",
       "    </tr>\n",
       "    <tr>\n",
       "      <th>top</th>\n",
       "      <td>Braund, Mr. Owen Harris</td>\n",
       "      <td>male</td>\n",
       "      <td>347082</td>\n",
       "      <td>B96 B98</td>\n",
       "      <td>S</td>\n",
       "      <td>Mr</td>\n",
       "    </tr>\n",
       "    <tr>\n",
       "      <th>freq</th>\n",
       "      <td>1</td>\n",
       "      <td>577</td>\n",
       "      <td>7</td>\n",
       "      <td>4</td>\n",
       "      <td>646</td>\n",
       "      <td>517</td>\n",
       "    </tr>\n",
       "  </tbody>\n",
       "</table>\n",
       "</div>"
      ],
      "text/plain": [
       "                           Name   Sex  Ticket    Cabin Embarked Salutation\n",
       "count                       891   891     891      204      891        891\n",
       "unique                      891     2     681      147        3          6\n",
       "top     Braund, Mr. Owen Harris  male  347082  B96 B98        S         Mr\n",
       "freq                          1   577       7        4      646        517"
      ]
     },
     "execution_count": 22,
     "metadata": {},
     "output_type": "execute_result"
    }
   ],
   "source": [
    "# 'object' features\n",
    "titanic_df.describe(include=['O'])"
   ]
  },
  {
   "cell_type": "code",
   "execution_count": 23,
   "id": "b4e943a1",
   "metadata": {},
   "outputs": [
    {
     "data": {
      "image/png": "[encoded data removed]",
      "text/plain": [
       "<Figure size 1008x432 with 4 Axes>"
      ]
     },
     "metadata": {},
     "output_type": "display_data"
    }
   ],
   "source": [
    "fig, ax = plt.subplots(1,4, figsize=(14,6))\n",
    "# survived\n",
    "titanic_df.Survived.value_counts().plot.pie(labels=[\"Not Survived\", \"Survived\"], autopct='%.2f%%', ylabel='', ax=ax[0])\n",
    "# sex\n",
    "titanic_df.Sex.value_counts().plot.pie(autopct='%.2f%%', ylabel='', ax=ax[1])\n",
    "# pclass\n",
    "titanic_df.Pclass.value_counts().plot.pie(autopct='%.2f%%', ylabel='', ax=ax[2])\n",
    "# embarked\n",
    "titanic_df.Embarked.value_counts().plot.pie(autopct='%.2f%%', ylabel='', ax=ax[3])\n",
    "\n",
    "fig.suptitle('Distribution of Survived, Sex, Embarked, and Pclass')\n",
    "fig.subplots_adjust(top=1.3)\n",
    "plt.show()"
   ]
  },
  {
   "cell_type": "markdown",
   "id": "aa1ee00e",
   "metadata": {},
   "source": [
    "Sadly, over 60% of people did not survive. There were more men than women aboard the Titanic, around 65%. Second class was the least represented with ~21% while third class accounted for ~55%. The majority of people embarked in the Southampton port."
   ]
  },
  {
   "cell_type": "code",
   "execution_count": 24,
   "id": "00833e9d",
   "metadata": {},
   "outputs": [
    {
     "data": {
      "image/png": "[encoded data removed]",
      "text/plain": [
       "<Figure size 576x288 with 2 Axes>"
      ]
     },
     "metadata": {
      "needs_background": "light"
     },
     "output_type": "display_data"
    }
   ],
   "source": [
    "fig, ax = plt.subplots(1,2, figsize=(8,4), gridspec_kw={'wspace':0.3})\n",
    "# age\n",
    "sns.boxplot(data = titanic_df, y='Age', ax=ax[0])\n",
    "# fare\n",
    "sns.boxplot(data = titanic_df, y='Fare', ax=ax[1])\n",
    "sns.despine()\n",
    "plt.show()"
   ]
  },
  {
   "cell_type": "markdown",
   "id": "de4f0f9a",
   "metadata": {},
   "source": [
    "The majority of passengers were less than 40 years old, but some were up to 80. Fare is mainly less than 100 except for a few outliers that go as high as 500+."
   ]
  },
  {
   "cell_type": "code",
   "execution_count": 25,
   "id": "1854db7f",
   "metadata": {},
   "outputs": [
    {
     "data": {
      "image/png": "[encoded data removed]",
      "text/plain": [
       "<Figure size 1152x864 with 6 Axes>"
      ]
     },
     "metadata": {
      "needs_background": "light"
     },
     "output_type": "display_data"
    }
   ],
   "source": [
    "fig, ax = plt.subplots(3,2, figsize=(16,12), gridspec_kw={'hspace': 0.3, 'wspace':0.3})\n",
    "# age\n",
    "sns.boxplot(data = titanic_df, x='Pclass', y='Fare', ax=ax[0][0])\n",
    "# fare\n",
    "sns.boxplot(data = titanic_df, x='Survived', y='Parch',  ax=ax[0][1])\n",
    "# family size\n",
    "sns.boxplot(data = titanic_df, x='Survived', y='FamilySize', ax=ax[1][0])\n",
    "# sibsp\n",
    "sns.boxplot(data = titanic_df, x='Survived', y='SibSp', ax=ax[1][1])\n",
    "# parch\n",
    "sns.boxplot(data = titanic_df, x='Survived', y='Fare', ax=ax[2][0])\n",
    "# age boxplot\n",
    "sns.boxplot(data = titanic_df, x='Survived', y='Age', ax=ax[2][1])\n",
    "\n",
    "sns.despine()\n",
    "plt.show()"
   ]
  },
  {
   "cell_type": "markdown",
   "id": "227df9e2",
   "metadata": {},
   "source": [
    "- As expected, first class passengers' fare covers the highest range.\n",
    "- SibSp does not seem to quite impact the target. Neither does Age. Parch, on the other hand, has higher correlation to the target compare to the SibSp and Age.\n",
    "- Passengers who paid a higher fare had greater chance to survive, which matches 1st class passengers."
   ]
  },
  {
   "cell_type": "code",
   "execution_count": 26,
   "id": "1f8dc2f4",
   "metadata": {},
   "outputs": [
    {
     "data": {
      "image/png": "[encoded data removed]",
      "text/plain": [
       "<Figure size 1152x1008 with 8 Axes>"
      ]
     },
     "metadata": {
      "needs_background": "light"
     },
     "output_type": "display_data"
    }
   ],
   "source": [
    "fig, axes = plt.subplots(4,2, figsize=(16,14), gridspec_kw={'hspace': 0.3})\n",
    "# pclass\n",
    "sns.countplot(data=titanic_df, x=\"Pclass\", hue=\"Survived\", ax= axes[0][0])\n",
    "# embarked\n",
    "sns.countplot(data=titanic_df, x=\"Embarked\", hue=\"Survived\", ax= axes[0][1])\n",
    "# salutation\n",
    "sns.countplot(data=titanic_df, x=\"Salutation\", hue=\"Survived\", ax= axes[1][0])\n",
    "axes[1][0].legend(loc='upper right', title='Survived')\n",
    "# family size\n",
    "sns.countplot(data=titanic_df, x=\"FamilySize\", hue=\"Survived\", ax= axes[1][1])\n",
    "axes[1][1].legend(loc='upper right', title='Survived')\n",
    "# sex\n",
    "sns.countplot(data=titanic_df, x=\"Sex\", hue=\"Survived\", ax= axes[2][0])\n",
    "# parch\n",
    "sns.countplot(data=titanic_df, x=\"Parch\", hue=\"Survived\", ax= axes[2][1])\n",
    "axes[2][1].legend(loc='upper right', title='Survived')\n",
    "# sibsp\n",
    "sns.countplot(data=titanic_df, x=\"SibSp\", hue=\"Survived\", ax= axes[3][0])\n",
    "axes[3][0].legend(loc='upper right', title='Survived')\n",
    "# embarked vs pclass\n",
    "sns.countplot(data=titanic_df, x=\"Embarked\", hue=\"Pclass\", ax= axes[3][1])\n",
    "\n",
    "sns.despine()\n",
    "plt.show()"
   ]
  },
  {
   "cell_type": "code",
   "execution_count": 27,
   "id": "7c57f599",
   "metadata": {},
   "outputs": [
    {
     "data": {
      "image/png": "[encoded data removed]",
      "text/plain": [
       "<Figure size 432x288 with 1 Axes>"
      ]
     },
     "metadata": {
      "needs_background": "light"
     },
     "output_type": "display_data"
    }
   ],
   "source": [
    "sns.countplot(data=titanic_df, x=\"Pclass\", hue=\"Sex\")\n",
    "sns.despine()\n",
    "plt.show()"
   ]
  },
  {
   "cell_type": "code",
   "execution_count": 28,
   "id": "b8b63f0f",
   "metadata": {},
   "outputs": [
    {
     "data": {
      "text/html": [
       "<div>\n",
       "<style scoped>\n",
       "    .dataframe tbody tr th:only-of-type {\n",
       "        vertical-align: middle;\n",
       "    }\n",
       "\n",
       "    .dataframe tbody tr th {\n",
       "        vertical-align: top;\n",
       "    }\n",
       "\n",
       "    .dataframe thead th {\n",
       "        text-align: right;\n",
       "    }\n",
       "</style>\n",
       "<table border=\"1\" class=\"dataframe\">\n",
       "  <thead>\n",
       "    <tr style=\"text-align: right;\">\n",
       "      <th>FamilySize</th>\n",
       "      <th>0</th>\n",
       "      <th>1</th>\n",
       "      <th>2</th>\n",
       "      <th>3</th>\n",
       "      <th>4</th>\n",
       "      <th>5</th>\n",
       "      <th>6</th>\n",
       "      <th>7</th>\n",
       "      <th>10</th>\n",
       "    </tr>\n",
       "    <tr>\n",
       "      <th>Survived</th>\n",
       "      <th></th>\n",
       "      <th></th>\n",
       "      <th></th>\n",
       "      <th></th>\n",
       "      <th></th>\n",
       "      <th></th>\n",
       "      <th></th>\n",
       "      <th></th>\n",
       "      <th></th>\n",
       "    </tr>\n",
       "  </thead>\n",
       "  <tbody>\n",
       "    <tr>\n",
       "      <th>0</th>\n",
       "      <td>0.696462</td>\n",
       "      <td>0.447205</td>\n",
       "      <td>0.421569</td>\n",
       "      <td>0.275862</td>\n",
       "      <td>0.8</td>\n",
       "      <td>0.863636</td>\n",
       "      <td>0.666667</td>\n",
       "      <td>1.0</td>\n",
       "      <td>1.0</td>\n",
       "    </tr>\n",
       "    <tr>\n",
       "      <th>1</th>\n",
       "      <td>0.303538</td>\n",
       "      <td>0.552795</td>\n",
       "      <td>0.578431</td>\n",
       "      <td>0.724138</td>\n",
       "      <td>0.2</td>\n",
       "      <td>0.136364</td>\n",
       "      <td>0.333333</td>\n",
       "      <td>0.0</td>\n",
       "      <td>0.0</td>\n",
       "    </tr>\n",
       "  </tbody>\n",
       "</table>\n",
       "</div>"
      ],
      "text/plain": [
       "FamilySize        0         1         2         3    4         5         6   \\\n",
       "Survived                                                                      \n",
       "0           0.696462  0.447205  0.421569  0.275862  0.8  0.863636  0.666667   \n",
       "1           0.303538  0.552795  0.578431  0.724138  0.2  0.136364  0.333333   \n",
       "\n",
       "FamilySize   7    10  \n",
       "Survived              \n",
       "0           1.0  1.0  \n",
       "1           0.0  0.0  "
      ]
     },
     "metadata": {},
     "output_type": "display_data"
    },
    {
     "data": {
      "text/html": [
       "<div>\n",
       "<style scoped>\n",
       "    .dataframe tbody tr th:only-of-type {\n",
       "        vertical-align: middle;\n",
       "    }\n",
       "\n",
       "    .dataframe tbody tr th {\n",
       "        vertical-align: top;\n",
       "    }\n",
       "\n",
       "    .dataframe thead th {\n",
       "        text-align: right;\n",
       "    }\n",
       "</style>\n",
       "<table border=\"1\" class=\"dataframe\">\n",
       "  <thead>\n",
       "    <tr style=\"text-align: right;\">\n",
       "      <th>FamilySize</th>\n",
       "      <th>0</th>\n",
       "      <th>1</th>\n",
       "      <th>2</th>\n",
       "      <th>3</th>\n",
       "      <th>4</th>\n",
       "      <th>5</th>\n",
       "      <th>6</th>\n",
       "      <th>7</th>\n",
       "      <th>10</th>\n",
       "    </tr>\n",
       "    <tr>\n",
       "      <th>Sex</th>\n",
       "      <th></th>\n",
       "      <th></th>\n",
       "      <th></th>\n",
       "      <th></th>\n",
       "      <th></th>\n",
       "      <th></th>\n",
       "      <th></th>\n",
       "      <th></th>\n",
       "      <th></th>\n",
       "    </tr>\n",
       "  </thead>\n",
       "  <tbody>\n",
       "    <tr>\n",
       "      <th>female</th>\n",
       "      <td>0.234637</td>\n",
       "      <td>0.540373</td>\n",
       "      <td>0.480392</td>\n",
       "      <td>0.655172</td>\n",
       "      <td>0.8</td>\n",
       "      <td>0.363636</td>\n",
       "      <td>0.666667</td>\n",
       "      <td>0.333333</td>\n",
       "      <td>0.428571</td>\n",
       "    </tr>\n",
       "    <tr>\n",
       "      <th>male</th>\n",
       "      <td>0.765363</td>\n",
       "      <td>0.459627</td>\n",
       "      <td>0.519608</td>\n",
       "      <td>0.344828</td>\n",
       "      <td>0.2</td>\n",
       "      <td>0.636364</td>\n",
       "      <td>0.333333</td>\n",
       "      <td>0.666667</td>\n",
       "      <td>0.571429</td>\n",
       "    </tr>\n",
       "  </tbody>\n",
       "</table>\n",
       "</div>"
      ],
      "text/plain": [
       "FamilySize        0         1         2         3    4         5         6   \\\n",
       "Sex                                                                           \n",
       "female      0.234637  0.540373  0.480392  0.655172  0.8  0.363636  0.666667   \n",
       "male        0.765363  0.459627  0.519608  0.344828  0.2  0.636364  0.333333   \n",
       "\n",
       "FamilySize        7         10  \n",
       "Sex                             \n",
       "female      0.333333  0.428571  \n",
       "male        0.666667  0.571429  "
      ]
     },
     "metadata": {},
     "output_type": "display_data"
    },
    {
     "data": {
      "text/html": [
       "<div>\n",
       "<style scoped>\n",
       "    .dataframe tbody tr th:only-of-type {\n",
       "        vertical-align: middle;\n",
       "    }\n",
       "\n",
       "    .dataframe tbody tr th {\n",
       "        vertical-align: top;\n",
       "    }\n",
       "\n",
       "    .dataframe thead th {\n",
       "        text-align: right;\n",
       "    }\n",
       "</style>\n",
       "<table border=\"1\" class=\"dataframe\">\n",
       "  <thead>\n",
       "    <tr style=\"text-align: right;\">\n",
       "      <th>FamilySize</th>\n",
       "      <th>0</th>\n",
       "      <th>1</th>\n",
       "      <th>2</th>\n",
       "      <th>3</th>\n",
       "      <th>4</th>\n",
       "      <th>5</th>\n",
       "      <th>6</th>\n",
       "      <th>7</th>\n",
       "      <th>10</th>\n",
       "    </tr>\n",
       "    <tr>\n",
       "      <th>Pclass</th>\n",
       "      <th></th>\n",
       "      <th></th>\n",
       "      <th></th>\n",
       "      <th></th>\n",
       "      <th></th>\n",
       "      <th></th>\n",
       "      <th></th>\n",
       "      <th></th>\n",
       "      <th></th>\n",
       "    </tr>\n",
       "  </thead>\n",
       "  <tbody>\n",
       "    <tr>\n",
       "      <th>1</th>\n",
       "      <td>0.202980</td>\n",
       "      <td>0.434783</td>\n",
       "      <td>0.235294</td>\n",
       "      <td>0.241379</td>\n",
       "      <td>0.133333</td>\n",
       "      <td>0.181818</td>\n",
       "      <td>0.0</td>\n",
       "      <td>0.0</td>\n",
       "      <td>0.0</td>\n",
       "    </tr>\n",
       "    <tr>\n",
       "      <th>2</th>\n",
       "      <td>0.193669</td>\n",
       "      <td>0.211180</td>\n",
       "      <td>0.303922</td>\n",
       "      <td>0.448276</td>\n",
       "      <td>0.066667</td>\n",
       "      <td>0.045455</td>\n",
       "      <td>0.0</td>\n",
       "      <td>0.0</td>\n",
       "      <td>0.0</td>\n",
       "    </tr>\n",
       "    <tr>\n",
       "      <th>3</th>\n",
       "      <td>0.603352</td>\n",
       "      <td>0.354037</td>\n",
       "      <td>0.460784</td>\n",
       "      <td>0.310345</td>\n",
       "      <td>0.800000</td>\n",
       "      <td>0.772727</td>\n",
       "      <td>1.0</td>\n",
       "      <td>1.0</td>\n",
       "      <td>1.0</td>\n",
       "    </tr>\n",
       "  </tbody>\n",
       "</table>\n",
       "</div>"
      ],
      "text/plain": [
       "FamilySize        0         1         2         3         4         5    6   \\\n",
       "Pclass                                                                        \n",
       "1           0.202980  0.434783  0.235294  0.241379  0.133333  0.181818  0.0   \n",
       "2           0.193669  0.211180  0.303922  0.448276  0.066667  0.045455  0.0   \n",
       "3           0.603352  0.354037  0.460784  0.310345  0.800000  0.772727  1.0   \n",
       "\n",
       "FamilySize   7    10  \n",
       "Pclass                \n",
       "1           0.0  0.0  \n",
       "2           0.0  0.0  \n",
       "3           1.0  1.0  "
      ]
     },
     "metadata": {},
     "output_type": "display_data"
    }
   ],
   "source": [
    "display(pd.crosstab(titanic_df.Survived, titanic_df.FamilySize, normalize='columns'))\n",
    "display(pd.crosstab(titanic_df.Sex, titanic_df.FamilySize, normalize='columns'))\n",
    "display(pd.crosstab(titanic_df.Pclass, titanic_df.FamilySize, normalize='columns'))"
   ]
  },
  {
   "cell_type": "markdown",
   "id": "082af566",
   "metadata": {},
   "source": [
    "- First class passengers had greater chance of survival, around 60%. Third class passengers had less than 40% chance of survival.\n",
    "- Women were significantly more likely to survive than men.\n",
    "- Chances of survival are higher for passengers who embarked at port C. However, this is correlated to Pclass, since port C, compared to S and Q, is the only one where more 1st class passengers embarked compared to class 2 and 3.\n",
    "- Regarding Salutation, women-related titles had a better chance of survival, but again, this is because females overall had a higher probability of survival.\n",
    "- FamilySize is the result of combining SibSp and Parch. About this feature: \n",
    "    - People who travelled alone had around 30% chance of surviving, but most people travelling alone were men (~77%) and/or 3rd class passengers. \n",
    "    - People whose family on the Titanic was 1-3 had better chances of survival but this seems to be related to Sex and Pclass. On those groups, women accounted for a significant proportion and/or they were mostly 1st and 2nd class passengers."
   ]
  },
  {
   "cell_type": "markdown",
   "id": "7593d9ea",
   "metadata": {},
   "source": [
    "Now, let's take a look at Age and Fare. It was already noticed that there are outliers for these features."
   ]
  },
  {
   "cell_type": "code",
   "execution_count": 29,
   "id": "00f73c91",
   "metadata": {},
   "outputs": [
    {
     "data": {
      "image/png": "[encoded data removed]",
      "text/plain": [
       "<Figure size 720x288 with 2 Axes>"
      ]
     },
     "metadata": {
      "needs_background": "light"
     },
     "output_type": "display_data"
    }
   ],
   "source": [
    "fig, ax = plt.subplots(1,2, figsize=(10,4), gridspec_kw={'wspace':0.3})\n",
    "sns.histplot(data=titanic_df, x='Age', kde=True, ax=ax[0])\n",
    "sns.histplot(data=titanic_df, x='Fare', kde=True, ax=ax[1])\n",
    "sns.despine()\n",
    "plt.show()"
   ]
  },
  {
   "cell_type": "markdown",
   "id": "f5a3eb8b",
   "metadata": {},
   "source": [
    "Age and Fare follow skewed distributions with multiple outliers at higher values. These 'unusual' high values are however valid. While the minority of passengers were 60+ years old, having a few being as old as 80 is completely valid. Similarly, while most passenger paid less than 100, having Fare values that reach up to 513 would be valid, and even expected since 1st and 2nd class passengers are the majority and they would have paid more than 3rd class passengers.\n",
    "\n",
    "To handle the features' outliers, to facilitate analysis, and to later reduce the trees splits, I will use bucketing to determine categories, or bands, for Age and Fare. In the case of Fare, for example, I decide not to use clip (clamp transfformation) because the outliers provide meaningful information, they correspond to 1st class passenger who also have greater chances of surviving according to the data."
   ]
  },
  {
   "cell_type": "code",
   "execution_count": 30,
   "id": "58c43200",
   "metadata": {},
   "outputs": [
    {
     "data": {
      "text/plain": [
       "(7.91, 14.454]     224\n",
       "(-0.001, 7.91]     223\n",
       "(14.454, 31.0]     222\n",
       "(31.0, 512.329]    222\n",
       "Name: Fare, dtype: int64"
      ]
     },
     "execution_count": 30,
     "metadata": {},
     "output_type": "execute_result"
    }
   ],
   "source": [
    "# fare\n",
    "# quantile bucketing\n",
    "fare_band = pd.qcut(titanic_df.Fare, 4)\n",
    "fare_band.value_counts()"
   ]
  },
  {
   "cell_type": "code",
   "execution_count": 31,
   "id": "1774d2fb",
   "metadata": {},
   "outputs": [
    {
     "data": {
      "text/html": [
       "<div>\n",
       "<style scoped>\n",
       "    .dataframe tbody tr th:only-of-type {\n",
       "        vertical-align: middle;\n",
       "    }\n",
       "\n",
       "    .dataframe tbody tr th {\n",
       "        vertical-align: top;\n",
       "    }\n",
       "\n",
       "    .dataframe thead th {\n",
       "        text-align: right;\n",
       "    }\n",
       "</style>\n",
       "<table border=\"1\" class=\"dataframe\">\n",
       "  <thead>\n",
       "    <tr style=\"text-align: right;\">\n",
       "      <th></th>\n",
       "      <th>FareBand</th>\n",
       "      <th>Survived</th>\n",
       "    </tr>\n",
       "  </thead>\n",
       "  <tbody>\n",
       "    <tr>\n",
       "      <th>3</th>\n",
       "      <td>(31.0, 512.329]</td>\n",
       "      <td>0.581081</td>\n",
       "    </tr>\n",
       "    <tr>\n",
       "      <th>2</th>\n",
       "      <td>(14.454, 31.0]</td>\n",
       "      <td>0.454955</td>\n",
       "    </tr>\n",
       "    <tr>\n",
       "      <th>1</th>\n",
       "      <td>(7.91, 14.454]</td>\n",
       "      <td>0.303571</td>\n",
       "    </tr>\n",
       "    <tr>\n",
       "      <th>0</th>\n",
       "      <td>(-0.001, 7.91]</td>\n",
       "      <td>0.197309</td>\n",
       "    </tr>\n",
       "  </tbody>\n",
       "</table>\n",
       "</div>"
      ],
      "text/plain": [
       "          FareBand  Survived\n",
       "3  (31.0, 512.329]  0.581081\n",
       "2   (14.454, 31.0]  0.454955\n",
       "1   (7.91, 14.454]  0.303571\n",
       "0   (-0.001, 7.91]  0.197309"
      ]
     },
     "metadata": {},
     "output_type": "display_data"
    },
    {
     "data": {
      "image/png": "[encoded data removed]",
      "text/plain": [
       "<Figure size 432x288 with 1 Axes>"
      ]
     },
     "metadata": {
      "needs_background": "light"
     },
     "output_type": "display_data"
    }
   ],
   "source": [
    "titanic_df['FareBand'] = fare_band\n",
    "# % survived per fare band\n",
    "display(titanic_df[['FareBand', 'Survived']].groupby(['FareBand'], as_index=False).mean().sort_values(by='Survived', ascending=False))\n",
    "\n",
    "sns.countplot(data=titanic_df, x=\"FareBand\", hue=\"Survived\")\n",
    "sns.despine()\n",
    "plt.show()"
   ]
  },
  {
   "cell_type": "markdown",
   "id": "8d1f0c33",
   "metadata": {},
   "source": [
    "It seems that the chances of surviving increase as the fare band increases, which matches what was already known: most expensive tickets correspond to higher class (Pclass)."
   ]
  },
  {
   "cell_type": "code",
   "execution_count": 32,
   "id": "d5889bd6",
   "metadata": {},
   "outputs": [
    {
     "data": {
      "image/png": "[encoded data removed]",
      "text/plain": [
       "<Figure size 432x288 with 1 Axes>"
      ]
     },
     "metadata": {
      "needs_background": "light"
     },
     "output_type": "display_data"
    }
   ],
   "source": [
    "#age\n",
    "fig, ax = plt.subplots()\n",
    "sns.boxplot(data = titanic_df, x='Sex', y='Age', hue='Survived', ax=ax)\n",
    "ax.legend(loc='upper right', title='Survived', bbox_to_anchor=(1.1, 1))\n",
    "sns.despine()\n",
    "plt.show()"
   ]
  },
  {
   "cell_type": "code",
   "execution_count": 33,
   "id": "71d097c1",
   "metadata": {},
   "outputs": [
    {
     "data": {
      "text/plain": [
       "(21.0, 29.0]     272\n",
       "(0.419, 21.0]    241\n",
       "(36.75, 80.0]    223\n",
       "(29.0, 36.75]    155\n",
       "Name: Age, dtype: int64"
      ]
     },
     "execution_count": 33,
     "metadata": {},
     "output_type": "execute_result"
    }
   ],
   "source": [
    "age_band = pd.qcut(titanic_df.Age, 4)\n",
    "age_band.value_counts()\n",
    "\n",
    "# buckets of different size because there are values thay may fit multiple bands"
   ]
  },
  {
   "cell_type": "code",
   "execution_count": 34,
   "id": "b13d7e82",
   "metadata": {},
   "outputs": [
    {
     "data": {
      "text/html": [
       "<div>\n",
       "<style scoped>\n",
       "    .dataframe tbody tr th:only-of-type {\n",
       "        vertical-align: middle;\n",
       "    }\n",
       "\n",
       "    .dataframe tbody tr th {\n",
       "        vertical-align: top;\n",
       "    }\n",
       "\n",
       "    .dataframe thead th {\n",
       "        text-align: right;\n",
       "    }\n",
       "</style>\n",
       "<table border=\"1\" class=\"dataframe\">\n",
       "  <thead>\n",
       "    <tr style=\"text-align: right;\">\n",
       "      <th></th>\n",
       "      <th>AgeBand</th>\n",
       "      <th>Survived</th>\n",
       "    </tr>\n",
       "  </thead>\n",
       "  <tbody>\n",
       "    <tr>\n",
       "      <th>2</th>\n",
       "      <td>(29.0, 36.75]</td>\n",
       "      <td>0.458065</td>\n",
       "    </tr>\n",
       "    <tr>\n",
       "      <th>0</th>\n",
       "      <td>(0.419, 21.0]</td>\n",
       "      <td>0.448133</td>\n",
       "    </tr>\n",
       "    <tr>\n",
       "      <th>3</th>\n",
       "      <td>(36.75, 80.0]</td>\n",
       "      <td>0.381166</td>\n",
       "    </tr>\n",
       "    <tr>\n",
       "      <th>1</th>\n",
       "      <td>(21.0, 29.0]</td>\n",
       "      <td>0.286765</td>\n",
       "    </tr>\n",
       "  </tbody>\n",
       "</table>\n",
       "</div>"
      ],
      "text/plain": [
       "         AgeBand  Survived\n",
       "2  (29.0, 36.75]  0.458065\n",
       "0  (0.419, 21.0]  0.448133\n",
       "3  (36.75, 80.0]  0.381166\n",
       "1   (21.0, 29.0]  0.286765"
      ]
     },
     "metadata": {},
     "output_type": "display_data"
    },
    {
     "data": {
      "image/png": "[encoded data removed]",
      "text/plain": [
       "<Figure size 432x288 with 1 Axes>"
      ]
     },
     "metadata": {
      "needs_background": "light"
     },
     "output_type": "display_data"
    }
   ],
   "source": [
    "titanic_df['AgeBand'] = age_band\n",
    "# % survived per age band\n",
    "display(titanic_df[['AgeBand', 'Survived']].groupby(['AgeBand'], as_index=False).mean().sort_values(by='Survived', ascending=False))\n",
    "\n",
    "sns.countplot(data=titanic_df, x=\"AgeBand\", hue=\"Survived\")\n",
    "sns.despine()\n",
    "plt.show()"
   ]
  },
  {
   "cell_type": "markdown",
   "id": "09f6851c",
   "metadata": {},
   "source": [
    "A strict pattern is not quite clear when it comes to Age, but for sure the chance of survival for younger people ((0.419, 22.0]) is the highest."
   ]
  },
  {
   "cell_type": "code",
   "execution_count": 35,
   "id": "e3d6c093",
   "metadata": {},
   "outputs": [
    {
     "data": {
      "text/html": [
       "<div>\n",
       "<style scoped>\n",
       "    .dataframe tbody tr th:only-of-type {\n",
       "        vertical-align: middle;\n",
       "    }\n",
       "\n",
       "    .dataframe tbody tr th {\n",
       "        vertical-align: top;\n",
       "    }\n",
       "\n",
       "    .dataframe thead th {\n",
       "        text-align: right;\n",
       "    }\n",
       "</style>\n",
       "<table border=\"1\" class=\"dataframe\">\n",
       "  <thead>\n",
       "    <tr style=\"text-align: right;\">\n",
       "      <th></th>\n",
       "      <th>FSizeBand</th>\n",
       "      <th>Survived</th>\n",
       "    </tr>\n",
       "  </thead>\n",
       "  <tbody>\n",
       "    <tr>\n",
       "      <th>3</th>\n",
       "      <td>small</td>\n",
       "      <td>0.578767</td>\n",
       "    </tr>\n",
       "    <tr>\n",
       "      <th>0</th>\n",
       "      <td>alone</td>\n",
       "      <td>0.303538</td>\n",
       "    </tr>\n",
       "    <tr>\n",
       "      <th>2</th>\n",
       "      <td>medium</td>\n",
       "      <td>0.204082</td>\n",
       "    </tr>\n",
       "    <tr>\n",
       "      <th>1</th>\n",
       "      <td>large</td>\n",
       "      <td>0.000000</td>\n",
       "    </tr>\n",
       "  </tbody>\n",
       "</table>\n",
       "</div>"
      ],
      "text/plain": [
       "  FSizeBand  Survived\n",
       "3     small  0.578767\n",
       "0     alone  0.303538\n",
       "2    medium  0.204082\n",
       "1     large  0.000000"
      ]
     },
     "metadata": {},
     "output_type": "display_data"
    },
    {
     "data": {
      "image/png": "[encoded data removed]",
      "text/plain": [
       "<Figure size 1152x288 with 3 Axes>"
      ]
     },
     "metadata": {
      "needs_background": "light"
     },
     "output_type": "display_data"
    }
   ],
   "source": [
    "# family size: current cardinality is 9, let's try to group into categories\n",
    "# pandas.qcut is not suitable in this case because around 60% of the values fall in the same category/band (family sizee=0). \n",
    "# Instead, I will create the categories manually because I also think that people who travelled aloned should have their own band.\n",
    "\n",
    "fam_size_map = {0: 'alone', 1: 'small', 2: 'small', 3: 'small', 4: 'medium', 5: 'medium', 6: 'medium', 7: 'large', 10: 'large'}\n",
    "titanic_df['FSizeBand'] = titanic_df['FamilySize'].map(fam_size_map)\n",
    "\n",
    "# % survived per familiy cat\n",
    "display(titanic_df[['FSizeBand', 'Survived']].groupby(['FSizeBand'], as_index=False).mean().sort_values(by='Survived', ascending=False))\n",
    "\n",
    "fig, ax = plt.subplots(1,3, figsize=(16,4))\n",
    "sns.countplot(data=titanic_df, x=\"FSizeBand\", hue=\"Survived\", ax=ax[0])\n",
    "sns.countplot(data=titanic_df, x=\"FSizeBand\", hue=\"Sex\", ax=ax[1])\n",
    "sns.countplot(data=titanic_df, x=\"FSizeBand\", hue=\"Pclass\", ax=ax[2])\n",
    "sns.despine()\n",
    "plt.show()"
   ]
  },
  {
   "cell_type": "markdown",
   "id": "56b298e4",
   "metadata": {},
   "source": [
    "When the family size is *small*, chances of surviving increase; it's also noticed that in this category women and 1st class passengers account for the majority. Surviving odds for passengers with a large family is the lowest at 0%."
   ]
  }
 ],
 "metadata": {
  "kernelspec": {
   "display_name": "Python 3 (ipykernel)",
   "language": "python",
   "name": "python3"
  },
  "language_info": {
   "codemirror_mode": {
    "name": "ipython",
    "version": 3
   },
   "file_extension": ".py",
   "mimetype": "text/x-python",
   "name": "python",
   "nbconvert_exporter": "python",
   "pygments_lexer": "ipython3",
   "version": "3.9.7"
  }
 },
 "nbformat": 4,
 "nbformat_minor": 5
}

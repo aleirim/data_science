{
 "cells": [
  {
   "cell_type": "code",
   "execution_count": 1,
   "id": "700a8d5b",
   "metadata": {},
   "outputs": [],
   "source": [
    "import pandas as pd\n",
    "import numpy as np\n",
    "import matplotlib.pyplot as plt\n",
    "import re\n",
    "import seaborn as sns\n",
    "import swifter\n",
    "\n",
    "from unicodedata import normalize\n",
    "from unicodedata import normalize\n",
    "\n",
    "import warnings\n",
    "warnings.filterwarnings('ignore')\n",
    "\n",
    "%matplotlib inline"
   ]
  },
  {
   "cell_type": "code",
   "execution_count": 2,
   "id": "0fa737b0",
   "metadata": {},
   "outputs": [],
   "source": [
    "#import nltk\n",
    "#nltk.download('stopwords')\n",
    "#nltk.download('punkt')"
   ]
  },
  {
   "cell_type": "markdown",
   "id": "240c31dd",
   "metadata": {},
   "source": [
    "Data Source: https://www.kaggle.com/competitions/mercari-price-suggestion-challenge/data\n",
    "\n",
    "Kaggle API: `kaggle competitions download -c mercari-price-suggestion-challenge`"
   ]
  },
  {
   "cell_type": "markdown",
   "id": "9af2c834",
   "metadata": {},
   "source": [
    "#### Utils"
   ]
  },
  {
   "cell_type": "code",
   "execution_count": 2,
   "id": "39d1cca0",
   "metadata": {},
   "outputs": [],
   "source": [
    "# utils for cleaning text in brand_name and category_name\n",
    "\n",
    "def normalize_text(text):\n",
    "    '''\n",
    "    Handles diacritic marks, superscripts and subscripts.\n",
    "    Returns the text in lowercase.\n",
    "    '''\n",
    "    text = text.replace('–', '-').strip()\n",
    "    text = normalize('NFKD', text).encode('ascii', 'ignore').decode(\"utf-8\").lower()\n",
    "    return text   \n",
    "    \n",
    "def pre_process_brand(text):\n",
    "    text = expand_contractions(text)\n",
    "    clean_text = normalize_text(text)#.replace(' ', '_')\n",
    "    clean_text = re.sub('[^A-Za-z0-9\\/]+', ' ', clean_text)\n",
    "    clean_text = remove_stopwords(clean_text)\n",
    "    return clean_text"
   ]
  },
  {
   "cell_type": "markdown",
   "id": "f289c37d",
   "metadata": {},
   "source": [
    "___"
   ]
  },
  {
   "cell_type": "code",
   "execution_count": 3,
   "id": "b2155c48",
   "metadata": {},
   "outputs": [
    {
     "data": {
      "text/plain": [
       "(1481661, 12)"
      ]
     },
     "execution_count": 3,
     "metadata": {},
     "output_type": "execute_result"
    }
   ],
   "source": [
    "data_path = 'data/'\n",
    "data_file_name = 'mercari_eda_cleaned.csv'\n",
    "data_full_path = data_path + data_file_name\n",
    "\n",
    "product_listings_mercari = pd.read_csv(data_full_path, keep_default_na=False)\n",
    "product_listings_mercari.shape"
   ]
  },
  {
   "cell_type": "code",
   "execution_count": 4,
   "id": "ae772906",
   "metadata": {},
   "outputs": [
    {
     "data": {
      "text/html": [
       "<div>\n",
       "<style scoped>\n",
       "    .dataframe tbody tr th:only-of-type {\n",
       "        vertical-align: middle;\n",
       "    }\n",
       "\n",
       "    .dataframe tbody tr th {\n",
       "        vertical-align: top;\n",
       "    }\n",
       "\n",
       "    .dataframe thead th {\n",
       "        text-align: right;\n",
       "    }\n",
       "</style>\n",
       "<table border=\"1\" class=\"dataframe\">\n",
       "  <thead>\n",
       "    <tr style=\"text-align: right;\">\n",
       "      <th></th>\n",
       "      <th>train_id</th>\n",
       "      <th>name</th>\n",
       "      <th>item_condition_id</th>\n",
       "      <th>brand_name</th>\n",
       "      <th>price</th>\n",
       "      <th>shipping</th>\n",
       "      <th>item_description</th>\n",
       "      <th>main_cat</th>\n",
       "      <th>sub_cat1</th>\n",
       "      <th>sub_cat2</th>\n",
       "      <th>preprocessed_name</th>\n",
       "      <th>preprocessed_description</th>\n",
       "    </tr>\n",
       "  </thead>\n",
       "  <tbody>\n",
       "    <tr>\n",
       "      <th>0</th>\n",
       "      <td>0</td>\n",
       "      <td>MLB Cincinnati Reds T Shirt Size XL</td>\n",
       "      <td>3</td>\n",
       "      <td>missing</td>\n",
       "      <td>10.0</td>\n",
       "      <td>1</td>\n",
       "      <td>No description yet</td>\n",
       "      <td>men</td>\n",
       "      <td>tops</td>\n",
       "      <td>t-shirts</td>\n",
       "      <td>mlb cincinnati reds shirt size xl</td>\n",
       "      <td>description yet</td>\n",
       "    </tr>\n",
       "    <tr>\n",
       "      <th>1</th>\n",
       "      <td>1</td>\n",
       "      <td>Razer BlackWidow Chroma Keyboard</td>\n",
       "      <td>3</td>\n",
       "      <td>Razer</td>\n",
       "      <td>52.0</td>\n",
       "      <td>0</td>\n",
       "      <td>This keyboard is in great condition and works ...</td>\n",
       "      <td>electronics</td>\n",
       "      <td>computers &amp; tablets</td>\n",
       "      <td>components &amp; parts</td>\n",
       "      <td>razer blackwidow chroma keyboard</td>\n",
       "      <td>keyboard great condition works like came box p...</td>\n",
       "    </tr>\n",
       "    <tr>\n",
       "      <th>2</th>\n",
       "      <td>2</td>\n",
       "      <td>AVA-VIV Blouse</td>\n",
       "      <td>1</td>\n",
       "      <td>Target</td>\n",
       "      <td>10.0</td>\n",
       "      <td>1</td>\n",
       "      <td>Adorable top with a hint of lace and a key hol...</td>\n",
       "      <td>women</td>\n",
       "      <td>tops &amp; blouses</td>\n",
       "      <td>blouse</td>\n",
       "      <td>ava viv blouse</td>\n",
       "      <td>adorable top hint lace key hole back pale pink...</td>\n",
       "    </tr>\n",
       "    <tr>\n",
       "      <th>3</th>\n",
       "      <td>3</td>\n",
       "      <td>Leather Horse Statues</td>\n",
       "      <td>1</td>\n",
       "      <td>missing</td>\n",
       "      <td>35.0</td>\n",
       "      <td>1</td>\n",
       "      <td>New with tags. Leather horses. Retail for [rm]...</td>\n",
       "      <td>home</td>\n",
       "      <td>home decor</td>\n",
       "      <td>home decor accents</td>\n",
       "      <td>leather horse statues</td>\n",
       "      <td>new tags leather horses retail stand foot high...</td>\n",
       "    </tr>\n",
       "    <tr>\n",
       "      <th>4</th>\n",
       "      <td>4</td>\n",
       "      <td>24K GOLD plated rose</td>\n",
       "      <td>1</td>\n",
       "      <td>missing</td>\n",
       "      <td>44.0</td>\n",
       "      <td>0</td>\n",
       "      <td>Complete with certificate of authenticity</td>\n",
       "      <td>women</td>\n",
       "      <td>jewelry</td>\n",
       "      <td>necklaces</td>\n",
       "      <td>24k gold plated rose</td>\n",
       "      <td>complete certificate authenticity</td>\n",
       "    </tr>\n",
       "  </tbody>\n",
       "</table>\n",
       "</div>"
      ],
      "text/plain": [
       "   train_id                                 name  item_condition_id  \\\n",
       "0         0  MLB Cincinnati Reds T Shirt Size XL                  3   \n",
       "1         1     Razer BlackWidow Chroma Keyboard                  3   \n",
       "2         2                       AVA-VIV Blouse                  1   \n",
       "3         3                Leather Horse Statues                  1   \n",
       "4         4                 24K GOLD plated rose                  1   \n",
       "\n",
       "  brand_name  price  shipping  \\\n",
       "0    missing   10.0         1   \n",
       "1      Razer   52.0         0   \n",
       "2     Target   10.0         1   \n",
       "3    missing   35.0         1   \n",
       "4    missing   44.0         0   \n",
       "\n",
       "                                    item_description     main_cat  \\\n",
       "0                                 No description yet          men   \n",
       "1  This keyboard is in great condition and works ...  electronics   \n",
       "2  Adorable top with a hint of lace and a key hol...        women   \n",
       "3  New with tags. Leather horses. Retail for [rm]...         home   \n",
       "4          Complete with certificate of authenticity        women   \n",
       "\n",
       "              sub_cat1            sub_cat2                  preprocessed_name  \\\n",
       "0                 tops            t-shirts  mlb cincinnati reds shirt size xl   \n",
       "1  computers & tablets  components & parts   razer blackwidow chroma keyboard   \n",
       "2       tops & blouses              blouse                     ava viv blouse   \n",
       "3           home decor  home decor accents              leather horse statues   \n",
       "4              jewelry           necklaces               24k gold plated rose   \n",
       "\n",
       "                            preprocessed_description  \n",
       "0                                    description yet  \n",
       "1  keyboard great condition works like came box p...  \n",
       "2  adorable top hint lace key hole back pale pink...  \n",
       "3  new tags leather horses retail stand foot high...  \n",
       "4                  complete certificate authenticity  "
      ]
     },
     "execution_count": 4,
     "metadata": {},
     "output_type": "execute_result"
    }
   ],
   "source": [
    "product_listings_mercari.head()"
   ]
  },
  {
   "cell_type": "code",
   "execution_count": 5,
   "id": "afbfcc1b",
   "metadata": {},
   "outputs": [
    {
     "name": "stdout",
     "output_type": "stream",
     "text": [
      "<class 'pandas.core.frame.DataFrame'>\n",
      "RangeIndex: 1481661 entries, 0 to 1481660\n",
      "Data columns (total 12 columns):\n",
      " #   Column                    Non-Null Count    Dtype  \n",
      "---  ------                    --------------    -----  \n",
      " 0   train_id                  1481661 non-null  int64  \n",
      " 1   name                      1481661 non-null  object \n",
      " 2   item_condition_id         1481661 non-null  int64  \n",
      " 3   brand_name                1481661 non-null  object \n",
      " 4   price                     1481661 non-null  float64\n",
      " 5   shipping                  1481661 non-null  int64  \n",
      " 6   item_description          1481661 non-null  object \n",
      " 7   main_cat                  1481661 non-null  object \n",
      " 8   sub_cat1                  1481661 non-null  object \n",
      " 9   sub_cat2                  1481661 non-null  object \n",
      " 10  preprocessed_name         1481661 non-null  object \n",
      " 11  preprocessed_description  1481661 non-null  object \n",
      "dtypes: float64(1), int64(3), object(8)\n",
      "memory usage: 135.7+ MB\n"
     ]
    }
   ],
   "source": [
    "product_listings_mercari.info()"
   ]
  },
  {
   "cell_type": "code",
   "execution_count": 6,
   "id": "9047b72f",
   "metadata": {},
   "outputs": [
    {
     "data": {
      "text/plain": [
       "train_id                         0\n",
       "name                             0\n",
       "item_condition_id                0\n",
       "brand_name                  632336\n",
       "price                            0\n",
       "shipping                         0\n",
       "item_description                 0\n",
       "main_cat                      6314\n",
       "sub_cat1                      6314\n",
       "sub_cat2                      6314\n",
       "preprocessed_name               78\n",
       "preprocessed_description       764\n",
       "dtype: int64"
      ]
     },
     "execution_count": 6,
     "metadata": {},
     "output_type": "execute_result"
    }
   ],
   "source": [
    "product_listings_mercari.replace('missing', np.NaN).isnull().sum()"
   ]
  },
  {
   "cell_type": "code",
   "execution_count": 7,
   "id": "8fb849c9",
   "metadata": {},
   "outputs": [
    {
     "data": {
      "text/plain": [
       "\" razer | target | acacia swimwear | soffe | nike | smashbox | victoria's secret | rue | scholastic | ugg australia | tarte | wet n wild | too faced | anthropologie | torrid | samsung | forever 21 | air jordan | apple | lularoe | hollister | pink | sephora | under armour | xbox | kylie cosmetics | the north face | brandy melville | lululemon athletica | michael kors | rae dunn | infantino | levi's | patagonia | barbie | h&m | adidas | nostalgia electrics | littlest pet shop | sea wees | motherhood maternity | melissa & doug | pokemon | nintendo | silver jeans co. | spin master | gap | lululemon | rock revival | fossil | merona | boulevard boutique | marc jacobs | steve madden | no boundaries | faded glory | miss me | salvatore ferragamo | urban outfitters | bath & body works | nars | manolo blahnik | ralph lauren | lc lauren conrad | kate spade | elmers | leap frog | beautyblender | pandora | sony | aerie | guess | younique | marucci | cherokee | calvin klein | hamilton beach | eos | disney | ysl yves saint laurent | tiffany & co. | scentsy | estee lauder | old navy | mori lee | sherri hill | volcom | amazonbasics | berkley | banana republic | hello kitty | apt. 9 | justice | mlb | american eagle | cole haan | jessica simpson | georgio armani | kendra scott | dickies | bonne bell | vineyard vines | funko | ulta | coach | jbl | fashion nova | funimation production | free people | kat von d | justfab | freya | tory burch | crocs | osh kosh b'gosh | jordan | independent | nyx | vera bradley | comfort colors | hot topic | gymshark | senegence | express | marc by marc jacobs | carbon | liz lange | born | ivory ella | canyon river blues | neutrogena | nfl | charlotte russe | hasbro | hp | dc comics | angels | kodak | fitbit | morphe cosmetics | new era | colourpop cosmetics | milani | white house black market | k-swiss | puma | converse | masquerade | maybelline | marvel | columbia | belkin | timberland | e.l.f. | american boy & girl | my little pony | burberry | paper mate | supreme | polo ralph lauren | chanel | buffalo david bitton | adidas originals | loeffler randall | tommy hilfiger | j. crew | george | masters | wildfox couture | xoxo | dooney & bourke | nordstrom | avon | physicians formula | macy's | juicy couture | undefeated | alpinestars | mac | new york & company | mary kay | wet seal | affliction | la idol | aveda | general electric | bare escentuals | stamped | anastasia beverly hills | hollister co. | asics | simply southern | fisher-price | msk | microsoft | jeffree star cosmetics | louis vuitton | bebe | aeropostale | vintage | lilly pulitzer | lg | thrasher magazine | always | moose toys | tripp nyc | home interiors | lego | carter's | gucci | breville | lucky brand | children's place | mossimo | christian louboutin | harley-davidson | laura mercier | almost famous | majestic | cartier | missguided | san lorenzo | urban decay | asus | geneva | stila | biore | disney collection | alex and ani | vans | tommy bahama | maurices | discovery kids | mac cosmetics | kenneth cole new york | l'oreal | sinful by affliction | origins | ambiance apparel | benefit | new balance | american girl  | bb | ymi | gilly hicks | lokai | rock & republic | charter club | gillette | nickelodeon | nicole miller | jeffery campbell | mossimo supply co. | derek heart | mga entertainment | abercrombie & fitch | kendall & kylie | no7 make-up | miu miu | bose | hillard & hanson | petsafe | elle | francesca's collections | konami | a plus child supply | ivivva | nuk | huf | lorac | claire's | hunter | nixon | toms | crayola | emma james | petsmart | betsey johnson | stussy | clinique | jordans | lane bryant | popsockets | graco | ardell | hoover | papaya | carhartt | reebok | diesel | zara | creativity for kids | odyssey | mudd | mattel | fuji | similac | nanette lepore | ann taylor loft | toshiba | sonoma | prada | vince camuto | ray-ban | xhilaration | decree | mac cosmetic | pier one | talbots | playtex | sam & libby | kate spade new york | champion | aden & anais | bugle boy | hermes | itzy ritzy | sinful | bcbgmaxazria | kiehl's | braun | titleist | dell | birkenstock | true religion brand jeans | arizona | lush | bumgenius | diamond supply co. | oneida | as seen on tv | eddie bauer | beats | inc international concepts | rue21 | gymboree | customized & personalized | bruno magli | mally beauty | sperry | converse shoes | hanna anderson | lancome | athleta | buckle | daytrip | david's bridal | stride rite | starbucks | schick | eci | nascar | daisy fuentes | skechers | christian dior | avent | russell athletic | keurig | versace | one teaspoon | aldo | mizuno | pyrex | a.n.a | fox racing | yves saint laurent | mega bloks | croft & barrow | candie's | bobbi brown | playskool | office depot | marciano | tom ford | antonio melani | o'neill | ag adriano goldschmied | wizards of the coast | ingenuity | nick & nora | it cosmetics | celine | brooks | rick owens | arden b | celebrity pink | james avery | blondie nites | honora | medela | david yurman | tangents | bottega veneta | sesame street | beats by dr. dre | yru | and1 | liz claiborne | brighton | justin | miley cyrus | regal | brita | ariat | levana | delia*s | clarins | febreze | wwe | jovani | american apparel | the children's place | prince lionheart | 90 degree by reflex | qupid | rebecca minkoff | weatherproof | roxy | essie | angry birds | oral b | sally hansen | ann taylor | canon | style&co. | bic | too faced x kat von d | munchkin | the limited | collective concepts | lime crime | revlon | star wars | saucony | weight watchers | kenneth jay lane | krew | freestyle | dr. martens | la hearts | hallmark | thrasher | fox | conair | rockport | gerber | nasty gal | bisou bisou | covergirl | lauren ralph lauren | bugaboo | oakley | ganz | romwe | gerber good start | apt. | yeti | triangl | nine west | jade | unif | htc | stella & dot | sport-tek | roku | longaberger | caterpillar | machine | tokidoki | onyx nite | kardashian kollection | all | topshop | air force | modern soul | rvca | joe's jeans | pur minerals | philips | baby jogger | 7 for all mankind | mam baby | bongo | hudson jeans | tampax | cacique | skip hop | dansko | lola | burt's bees | louisville slugger | life is good | worthington | oxo | levi strauss & co. | mcm worldwide | danskin | wacoal | perfect equipment | disney tsum tsum | catherines | alo yoga | metal mulisha | disney pixar cars | jessica mcclintock | babolat | crest | nikon | rene rofe | nba | dr. brown's | britax | evan picone | zales | bareminerals | wilsons leather | american rag | jolt | minnetonka | hot wheels | tobi | boohoo | fashion angels | anne geddes | sanuk | etienne aigner | tom's of maine | soft surroundings | alo | floam | east 5th | uniqlo | lia sophia | pampered chef | valentino | silver jeans | mitchell & ness | true religion | rock & roll cowgirl | ivanka trump | redken | thomas & friends | okie dokie | toys r us | american fighter | big star | lenox | laura geller | rag & bone | melissa | osiris | everlast | dressbarn | one clothing | asos | coty | justin boots | spalding | targus | moncler | pillow pets | universal studios | windsor | splendid | flying monkey | jordache | disney princess | baby einstein | black & decker | baby phat | tara toys | kitchenaid | sam edelman | longchamp | norelco | saint laurent | arizona jean company | jamberry | chaco | eileen fisher | garmin | marimekko | bass | evenflo | pets first | yankee candle | johnson & johnson | champs | steiff | abbott | callaway | us polo assn | chaps | izod | gund | bandai | fendi | bauer | degree | nerf | london times | elizabeth arden | lincoln logs | lands' end | ed hardy | a bathing ape | mayoral | caress brand shop | capezio | breathablebaby | custom accessories | french laundry | quay australia | sanctuary | threadless | hobo international | nollie | l.l. bean | frye | quacker factory | calphalon | victoria beckham | sandisk | speedo | shiseido | tena | radio flyer | enfamil | zella | bailey 44 | dkny | jolyn clothing | dreamworks | make up for ever | the hundreds | sears | sony pictures | bcbg | material girl | dove | hula honey | bcbgeneration | d&g | anne klein | divided | makeup geek | willow tree | sperrys | ruby rox | catalina | wrangler | garnier | burt's bees baby | red cherry | tony bowls | brooks brothers | full tilt | angie | middleton doll company | lilly pulitzer for target | nautica | summer's eve | gateway | api | adrianna papell | jamie sadock | unionbay | gildan | neff headwear | vanilla star | ben nye | adagio | modcloth | just play | ted baker london | cosco | avenue | stayfree | basic editions | buxom | jack rogers | art | christopher & banks | rival | pampers | a+d | hunter boots | t tahari | schmidt | ameda | g-shock | tupperware | brine | mason's | madewell | dewalt | huda beauty | primark | so | wildfox | newport news | chinese laundry | pacific sunwear | london fog | secret | mobi technologies | xxi | aveeno | fila | paige denim | hurley | opti-free | motherhood | pioneer | triumph | susan graver | billabong | cabi | altec lansing | bullhead | kut from the kloth | betty boop | alfani | herschel supply company | avia | kiplling | aqueon | air wick | d-link | enfagrow | pet brands | imaginext | oscar de la renta | primitive | russ | hue | 47 brand | dgk | whisker city | michael stars | george foreman | jimmy choo | mezco | gilligan & o'malley | love culture | all american | soda | stance | playmates | summer infant | joe benbasset | jacqueline ferrar | zumba | brother | vince | bulwark | fashion to figure | tieks | chicco | ccm | hard candy | tehama | aerosoles | we the free | glade | bke | trukfi | bape | fila sport | charming charlie | sleek makeup | g-star raw | cotton on | wubbanub | calico critters | michaelangelo | goldberger co | vitamin a | notations | dermablend | merrell | kay jewelers | robeez | club room | lalaloopsy | lesportsac | jcpenney | colosseum | quicksilver | vera wang | vigoss | dan post | interdesign | rimmel | rewind | motel | neiman marcus | grace in la | acer | lee | nfinity | jumping beans | advantage | jones new york | tek gear | ely cattleman | poise | panasonic | inglot | rca | not rated | premier designs | coldwater creek | the body shop | anne cole | huggies | lucca couture | allsaints | arrow | tart | topps | kimchi blue | dolce vita | uncle milton | ugg boots | starter | fubu | nivea | eyeshadow | lf | guerlain | naked zebra | electric family | pearl izumi | dc shoes | fabletics | pampers swaddlers | chico's | element | spense | pokemon usa | harajuku lovers | only hearts | van heusen | alice + olivia | western digital | balenciaga | precious moments | madden girl | hanes | george simonton | halo | pottery barn kids | paul mitchell | venezia | stokke | neff | browning | boston proper | kyodan | ymi jeans | modern amusement | avery | heart soul | venus | sure | dolce & gabbana | caslon | jonesport | off-white | boppy | fisher-price baby | la senza | rave | serious skin care | op | lansinoh | purina | blinc | moda international | vivienne vivienne tam | sephora collection | maxi-cosi | bobbie brooks | bella dahl | michele | route | disney pixar | logitech | g by guess | lulu's | simply vera vera wang | belly bandit | shu uemura | earth's best | liz lange for target | dreambaby | cuisinart | paper denim & cloth | martha stewart | athletic works | faviana | a|x armani exchange | wilton | pro keds | antik denim | bandolino | covington | crosman | dots | badgley mischka | vtech | bethesda softworks | marni | carrera | call it spring | lacoste | ikea | axe | gdiapers | sharpie | chaus | new look | frankie's bikinis | cheap monday | eo | babybjorn | salvage | alex marie | twenty one | tomtom | thebalm | glo jeans | mamaroo | patagonia, inc. | butterfly | just my size | dynasty | barbour | taylormade | ideology | moms | dope | bodum | blooming bath | plantronics | givenchy | desigual | spell & the gypsy collective | ron jon | valve | prestige | j brand | report signature | monoreno | alexander wang | olga | matchbox | homedics | safety st | yeezy | benbat | obey | band-aid | orbit baby | snap | brahmin | yoana baraschi | diane von furstenberg | nygard | maidenform | rawlings | relic | panache | amazon | annabelle | fao schwarz | vanity | waterpik | kotex | st. john's bay | kenneth cole reaction | streetwise | lilu | huggies snug & dry | goyard | iron fist | quartet | bb dakota | metrostyle | monopoly | nine & co. | paco | nosefrida | kangol | boho chic | max studio | a pea in the pod | exo-terra | furminator | perry ellis | warner brothers | leslie fay | aurum | tyte jeans | pj salvage | rolex | alstyle apparel | frederick's of hollywood | burberry london | m | looney tunes | at-a-glance | jim shore | alexander mcqueen | jennifer lopez | halogen | rogue status | laura ashley | tianello | studio | tonka | leith | joy mangano | kibbles 'n bits | yosi samra | marmot | chloe | sergeants | manic panic | vicks | easton | circus by sam edelman | silpada | a&e | stafford | cinch | mountain hardwear | olay | belltech | tresemme | earl jean | mcfarlane toys | fluval | shany | trish mcevoy | rocket dog | zojirushi | hard tail | right guard | pro player | dollhouse | obey clothing | ncaa | ferasali | tbags los angeles | tilly's | pottery barn | koala baby | colgate | dogeared | threads  thought | crooks & castles | amd | imagine baby | bernie mev. | poetry | alfred dunner | beauticontrol | netgear | yellow box | spanx | charmin | kong | sega | seagate | zenana outfitters | flexees | roaman's | huggies little movers | playmobil | matix | evie | loft | teva | hourglass cosmetics | maison martin margiela | refuge | olive & oak | speechless | nike golf | burberry brit | jodi kristopher | sequin hearts | polo jeans co. | dymo | wilson | bunn | l.e.i. | generic | compaq | michi by michelle watson | peugeot | patricia nash | tiny love | ninja | energie | zac posen | scotch | tapout | arbonne | white stag | ocean pacific | rocawear | lysol | jelly belly | profile by gottex | mikoh | harman kardon | little tikes | brixton | stella mccartney | beyond yoga | allegra k | linksys | tommee tippee | charlotte tilbury | cato | sparkle & fade | excelled | en focus studio | ironman | cuddl duds | fashion bug | enzo angiolini | spyder | shoe dazzle | cannon | adrienne vittadini | wacom | multipet | realtree | jerzees | havaianas | mango | hearthside collection | bdg | active | infinity | elizabeth and james | marika | oster | yelete | planet earth | nick jr. | accessory collective | liberty apparel | uppababy | timing | schwinn | texas instruments | riddell | pass port | buff | disney jr. | the honest company | sperry top-sider | christian siriano | gypsy | big buddha | citizen | spy tec | magic bullet | cartoon network | fun world | chaser | ecko red | quiksilver | lifeproof | kensie | kathy van zeeland | i-play | bravado | pfaltzgraff | catherine catherine malandrino | rainbow shops | hasbro games | epson | partylite | ecko | cocalo | red rivet jeans | tag jeans | cleveland golf | incipio | cruel girl | boden | bebop | hot sox | beaba | aquaphor | urban expressions | jj cole collections | vital baby | isaac mizrahi | c by champion | report | carole little | sisley | tag | gorjana | huggies little snugglers | sean john | barnett crossbows | nydj | braetan | apple bottoms | woolrich | reef | dockers | enesco | say what? | dior | baby trend | bumbo | nyx cosmetics | zion rootswear | chloe + isabel | lucky brand jeans | tahari | swarovski | naturalizer | cabela's | liberty of london | prana | american rebel boot company | t-fal | andrew marc | dex | tools of the trade | moving comfort | maaji | ugg | comme des garcons | brooklyn express | bella | hawke & co | monster high | blue life | hush puppies | huggies pull-ups | fender | schleich | umo lorenzo | my michelle | adidas by stella mccartney | self esteem | rachael ray | anvil | west elm | bally | silence + noise | seiko | aiptek | maggie barnes | aritzia | beach bunny | incase designs | autolite | ellen tracy | spencer's | kenmore | burton | equipment | vitamix | eastern mountain sports | jada toys | walls | mia | nokia | lip service | tomy | the first years | esprit | michael simon | insignia | delta | ripcurl | john paul pet | l*space | bay island | southpole | nhl | jane iredale | garnet hill | tod's | urban trends | next level apparel | longchamp paris | aura cacia | cali | everlane | playstation | southern living | pond's | missoni | gold bug | ihome | ronni nicole | ring | softcup | bcx | freddy | vibram | lrg | l.a.m.b. | lamaze | reformation | skullcandy | fiesta | jakks pacific | motorola | warner bros. | hoverboard | milani cosmetics | b.swim | vixen | saks fifth avenue | stone fox swim | o.b. | pampers cruisers | london jeans | vincent longo | harvey's seatbelt bag | english factory | blossom bucket | jag | undercover mama | sbicca | taboo | papillon | my brest friend | pinky | pet gear | motorcycle stuff | agent provocateur | casio | va va voom | pink rose | sporn | madison | cloud b | ab studio | ya los angeles | virgin only | architect | polaroid | pendleton | camelbak | mcm | corningware | scott paper | patra | one world | bernardo | keys | rampage | go gear | top paw | farberware | bench | michael aram | harmont & blaine | omega | salton | joovy | adora | hartz | luvs | quantum mechanix | tony hawk | honey punch | taylor | halston heritage | mara hoffman | lambs & ivy | jaclyn smith | shure | dana buchman | play-doh | bcbgirls | margaritaville | joseph abboud | on the byas | cable & gauge | chadwicks | thermos | ac/dc | southern marsh | pure energy | sabo skirt | henri bendel | bright starts | robert graham | santa cruz | swell | free country | polar | golfbuddy | dc direct | eighty eight | danskin now | planet gold | fergalicious | i love new york by bond no. 9 | babies r us | pilot | kyocera | zco. | mixit | ninety | bobeau | rubbermaid | belleek | preston & york | hybrid | trixxi | mopar | bebe au lait | crossroads | chemistry | sharper image | zeroxposur | balmain | ulta salon, cosmetics & fragrance, inc. | himalayan | kipling | breyer | xersion | keds | josie natori | waring | k'nex | fruit of the loom | samsung galaxy | almay | escada | jockey | canada goose | soma | theory | robin's jeans | rei | pampers baby fresh | a. byer | zoo york | body glove | ibm | jvc | true grit | maisto | rachel zoe | young & reckless | all-clad | salomon | cache | cello jeans | fang | physicians prefer | next level | cowgirl tuff | junk food clothing | dragon ball z | timex | alex evenings | pikolinos | lauren conrad | robbie bee | breckelles | byer too | neca | clarks | mitchum | issa de' mar | diadora | park designs | cb sports | terani couture | bvlgari | amazon essentials | j.crew | cynthia rowley | suave | gianni bini | carlos santana | musician's gear | 5.11 tactical | tyler rose | shimano fishing | pbs | ecko unltd. | boom boom | native | deb | willow | love moschino | buffalo jeans | advanced healthcare distributors | kid galaxy | dream on me | furla | honeydew intimates | wahl | ashley stewart | daniel wellington | mural | nylabone | elementz | dr. scholl's | invicta | a'gaci | route 66 | danny & nicole | soho apparel | sheer cover | game gear | astr | mercer street studio | ufc | gold bond | maui & sons | beverly hills polo club | old varsity brand | pediasure | hydraulic | corelle | gaggia | kork-ease | empire | three seasons maternity | betty crocker | hot kiss | carmen marc valvo | cottonelle | replay | muse | moschino | kate somerville | teenage mutant ninja turtles | pro edge | vocal | takara | mamia | ramones | primula | topman | toysmith | iz byer | hype | geoffrey beene | etcetera | tignanello | fagor | krups | rewash | mimi | inc | shirley of hollywood | tigi | hang ten | playboy | urban pipeline | r & m richards | kanga care | next | eagle usa | slatkin & co. | smartwool | uniden | sylvania | jinx | andrew christian | mac duggal | madame alexander | claudia richard | just usa | costa del mar | esley | max factor | miss chic | sass & bide | lanvin | aussie | american living | freshly picked | j. jill | rip curl | chamilia | bliss | elf on the shelf | taryn rose | caribbean joe | boon | baby brezza | ruff hewn | chip & pepper | kiinde | frontline | guy harvey | ralph lauren collection | dunlop | sundance | roller derby | pink dolphin | c&c california | j&l | mighty fine | impressions | reeds jewelers | belldini | directv | crane | attention | paris blues | bill blass | big time toys | williams sonoma | blu pepper | pogo! products | snuggie | giani bernini | coca-cola | champion sports | beechnut | laundry by shelli segal | toastmaster | mecca | jeep | corona | vaseline | gimmick | sunny leigh | stanley | boys + arrows | helly hansen | mz wallace | sag harbor | luli fama | trouve | studio works | excalibur | michael antonio | rothschild | dial | olukai | tetra | old spice | jim dunlop | roulette | accessory innovations | becca cosmetics | yummie by heather thomson | cardinal industries | bp | t.j.maxx | mini boden | valerie stevens | soprano | mr. coffee | gloria vanderbilt | swix | last kiss | daniel rainn | industrial cotton | members only | a.d. sutton & sons | armani collezioni | opening ceremony | a&a optical | nuby | double zero | moulinette soeurs | citizens of humanity | jf j. ferrar | chesley | pre-seed | wolford | maggie sottero | swaddle designs | new directions | ice clothing | oki | franco sarto | trina turk | barron's | jeffrey campbell | hi-tec | circo | barbasol | intel | garage | wolfgang puck | tultex | eight eight eight | franklin | deena & ozzy | kirra | report collection | pierre dumas | benefit cosmetics | haggar | bornfree | griffin | b. smart | foreign exchange | lucca | breitling | alba | zana di | oliver peoples | paco rabanne | air hogs | vitamins baby | team apparel | umbro | alexandra de markoff | play along | kathie lee | etro | aroma | invicta watch group | folkmanis | dream lites | scala | twisted x | babies r us plush | borghese | joie | alexis brittar | ambrielle | stila cosmetics | naughty monkey | tom james | panhandle slim | % pure | wallflower | elwood | lunaire | emporio armani | kasper | coobie | pinc premium | the sak | tiana b | lucy activewear | weavers | gaiam | softsoap | pur | puppia | jm collection | lily white | helix | rachel pally | show me your mumu | ball | dv by dolce vita | tinseltown | teefury | van cleef & arpels | carolina herrera | foxcroft | le mystere | blanc noir | the instrument store | oxo tot | famous stars & straps | riders by lee | energizer | loungefly | too fast | ariana grande | rockstar | denon | ring of fire | french connection | fashion fair | ultimatetv rca | tdk | reign | gopro | belle du jour | nexxus | club monaco | rook | ubisoft | kenzo | relativity | mar y sol | lodge | mongoose | flip | proctor silex | ny jeans | acdelco | duo maternity | eclectic products | stacy adams | paper crane | mossy oak | shabby chic | stoosh | harbor bay | mega brands | visvim | accessory workshop | pink sugar | ann marino | le suit | riders | partners | big dogs | agb | maclaren | thundershirt | ben sherman | nana | shea moisture | rags to raches | beach riot | mackintosh | enyce | blac label | godinger | baby magic | proactiv | denim & co. | miskeen | disguise | global holdings | liliana | lush clothing | blush | stuart weitzman | osh kosh | brookstone | kala | dingo | level | perler | studio i | kim rogers | baby bullet | prabal gurung | foot locker | plackers | vickerman | diaper dude | m.i.a. | duwop | totes isotoner | vera pelle | sjp by sarah jessica parker | bettie page | farmacy | manduka | warrior | squeeze | little me childrens wear | roberta | umbra | koala kids | pressman toy | honeywell | zara terez | casual corner | jafra | peppa pig | armani jeans | liz & co. | sadie & scout | retrofit | toys r us plush | juiceman | x | hyland's | donna karen | sebago | iron maiden | accessory power | paige | scott | pantene | hawk | asolo | ciate london | moon collection | blue microphones | volatile | gold's gym | joyce leslie | woman within | yumi kim | duo | coogi | baby delight | sherpa | city triangles | giftcraft | ping | blue asphalt | dexter | gallery | john deere | wild republic | western chief | glamglow | kenwood | duck head | it's our time | toynami | superdry | paul frank | presto | calia by carrie underwood | speed stick | david & goliath | landau | pleione | anolon | muk luks | saint tropez west | lily rose | wusthof | carven | clark's botanicals | royal | marvel universe | shaka wear | gamo | boss hugo boss | becca | allen edmonds | mojo moxy | romeo & juliet couture | nespresso | swimways | madeline stuart | lexar | chef's secret | plugg | design history | planet hollywood | academy | minimale animale | abu garcia | bates | ralph lauren blue label | jeanne pierre | jack daniels | cerruti | airwalk | 3.1 phillip lim | kolcraft | r&k originals | baby gear | sacred threads | phillips | akoo | mikasa | imperial | monster cable | 5th & ocean | nina ricci | ogio | tag heuer | fioni clothing | kurio | nojo | james perse | hudson | zoo med | moa moa | delonghi | elf | xscape | saga | footjoy | for love and lemons | orvis | sephora favorites | angelcare | ripple junction | tumi | fiore | limited too | liquid blue | roberto cavalli | intex | viktor & rolf | dress barn | dcc | clarisonic | tail | clear care | giorgio armani | tevolio | lexmark | rothco | restricted | zco | miss sixty | frankie b | james jeans | redhead | spitfire | sugarpill | akademiks | port authority | derek lam | head | raisins | weston | nicole by nicole miller | cj banks | opi | rafaella | blendtec | johnny was | love stitch | hammer | pop beauty | avirex | axcess | simplehuman | jack lalanne | unlisted | metaphor | moose mountain | pinkblush | listerine | sennheiser | drake | i-jam | waterford | rosetti | milly | baublebar | mcdavid | buffalo | sketchers | disney pixar planes | rep-cal | helmut lang | sweet jojo designs | m by marc bouwer | sunbeam | midway | lord & taylor | kirkland signature | st. ives | acne studios | adams golf | remington | grace elements | connected | fabrizio gianni | madam c.j. walker beauty culture | bmw | wild diva | miraclesuit | greatneck | revo | kurgo | irish spring | rachel roy | john paul richard | holloway | mycra pac designer wear | prince | b is for bear | tatcha | earl jeans | new bright | huggies goodnites | rogue | oh baby by motherhood | mobiltm | three hearts | black scale | jason maxwell | tarina tarantino | koret | post-it | slime | peanuts | voodoo vixen | speck | wowwee | b. darlin | batman | oilily | band of gypsies | two in the shirt | adolfo | timi & leslie | jansport | beautycounter | minecraft | blizzard | context | seven dials | aria | junk food | victorinox swiss army | beautees | donald trump | winchester | and | soulmates | craftsman | catherine malandrino | body central | lipsy | joan rivers | gm | westbound | lil' joey | sirius satellite radio | original penguin | flying tomato | doctor who | animal planet | briggs new york | peg perego | baffin | chrome hearts | chantelle | blanknyc | rodan and fields | nanoblock | cascade | assets | jean paul gaultier | adrienne landau | red kap | anchor hocking | audi | greg norman | pendleton woolen mills | aurora world | bassett furniture | west bend | hard rock cafe | iris | ryka | corral | critterware | st. john | glo clothing | teeze me | monster | rachel pally white label | xcvi | micro innovations | mystic | matrix | jennifer moore | california baby | razor | outward hound | amy coe | ariya | sophia | stitches | la girl | marc ecko | carolina colours | eastland | three dots | bikerwear | audiosource | on-stage stands | arm & hammer | yohji yamamoto | sanrio | brittany black | olivia + joy | century | lullaby earth | alternative | galaxy | anthony | proclub | hugo boss | bissell | larry levine | liebeskind | illamasqua | adam | epic threads | stx | ge | hohner kids | raw | acne jeans | studio y | seafolly | only mine | josie maran | perceptions | mario badescu skin care | life stride | family guy | earth mama angel baby | bialetti | blitz | thule | maeve | bed stu | pca skin | abs by allen schwartz | botkier | herve leger | contigo | berne apparel | organic wear | nobo | optimum | ford | lipsense | magellan | love on a hanger | luvable friends | cargo | koh koh | lamade | ubbi | demarini | diamond select | jc toys | robert rodriguez | select | charlie banana | pet life | parker | vic firth | sideout | journey girls | j. america | athletech | piperlime | babyganics | otterbox | honolua | advanced graphics | zena | gh | balboa baby | morgan | city chic | baker by ted baker | fifth sun | laredo | willi smith | aeropress | phil & teds | sunday riley | revlon colorsilk | boo! | boutique 9 | saffron rouge | karen scott | flow society | rubies costume company | colorado clothing | colourpop | rumparooz | bret michaels | olivia moon | style & co | kyjen | angelina | diva | smith optics | kenar | pampers baby dry | me too | bite beauty | sharp | l.a. gear | besame cosmetics | js collections | lole | riot society | kiton | mcfarlane sports | the northwest company | peaches | sanyo | sebastian | magformers | louis garneau | von dutch | youngblood | judith march | fitness gear | morgan & co. | tribal | alex toys | mephisto | young fabulous & broke | global | dereon | claiborne | studio m | able provider | a.l.c. | prescriptives | auto expressions | emma fox | alyn paige | abercrombie kids | athena | jos. a. bank | milano | lucien piccard | b.o.c. | altra | natasha denona | rebellious one | aqua | alexander julian | z-man games | laguna beach | akira | michael brandon | wd-40 | vichy | goldieblox | mustard seed | d'addario | pinnacle fishing | lou & grey | billionaire boys club | everly grey | superior | diaper genie | susan bristol | dsquared | georgiou | the mountain | screen stars | tyr | agua bendita | richell | denim & supply ralph lauren | duck commander | silhouette | mother | mitre | alyce paris | brute | apostrophe | la blanca | pure life | johnny martin | sharagano | chi | b. moss | cachet | petunia pickle bottom | magicsuit | dr. seuss | hoka one | ella moss | boots | wish | elite | mishka | giuseppe zanotti | lakai | bucket feet | jordan craig | clio | mamas & papas | xen-tan | dansk | bioworld | kr3w | bonnie baby | fourstar clothing | cleobella | m&o knits | tiara international | polk audio | mgm | dalia | onzie | tangerine | colorbok | k advantix | field & stream | sock it to me | jane ashley | jeremy scott x adidas | thinkway | technomarine | bergan | arc'teryx | bare minerals | billionaire boys club and ice cream | roper | barska | philosophy | twisted heart | unisa | green apple | georgia boot | ektelon | emerson | janie and jack | cra-z-art | canvas | papi | singing machine | guinness | peter nygard | mix nouveau | clinique du rond | elomi | betsey johnson label | laura scott | atmosphere | gibson | comic images | lk bennett | a-shirt | army | oleg cassini | lulyboo | activision | agfa | ever-pretty | tide | hape | boohoo plus | dawgs | ferragamo | lilyette | sandro | maison goyard | jay at play | truly scrumptious | emilio pucci | mulberry | bamboo | wearfirst | big bang theory | nicole lee | elmo | turnbury | minkpink | ducks unlimited | melannco | manga | see by chloe | coco rave | andis | chef's choice | ultra flirt | robin piccone | cezani | american vintage | social collision | bjorn borg | alpha industries | red camel | cobra electronics | issey miyake | bear archery | better shea butter | kalorik | easel | sandra darren | falls creek | cutter & buck | tripp | duluth trading company | smashbox cosmetics | first impressions | metrokane | poligrip | deborah lippmann | lady noiz | merle norman | current/elliott | genone | audrey brooke | nostalgia | l.a. blues | carnival | benetton | just love | nancy ganz | archaic | sklz | trench | delta burke | cubavera | donna morgan | max azria | citizens of humanity jeans | altar'd state | prevail | nec technologies | jou jou | kate landry | wolverine | keen | la perla | ny collection | g.h. bass & co. | allison brittney | burnside | charles david | hind | blink | ronco | nic+zoe | koolatron | styli-style | pampers sensitive | gain | pretty angel | lacie | robert friedman | baggallini | kaytee | casual corner annex | onkyo | shift management | glominerals | deletta | maggy london | dave & johnny | viz media | a&r sports | evolution | mandee | silver | supra | star city | b darlin | bumkins | rubbish | waverly | mek | lisa maree | mustela | joyrich | spy | crystal rock | marc new york | goodie two sleeves | chevrolet | tilt | jet performance | august silk | sun mountain | lapis | illuminations | anker | sheba | miami ink | adidas neo | real techniques | regalo | olsenboye | stetson | horizon organic | florsheim | carolyn taylor | saxx | slazenger | staring at stars | cobra | polar pro filters | pierre cardin | mud pie | tea collection | city streets | sk-ii | ivy & blu | learning resources | quinny | disney interactive | campia moda | classiques entier | bakers | gabriel | b.tempt'd | happy chic baby by jonathan adler | crosley radio | french toast | corso como | karen millen | dakine | bellatrix | melissa mccarthy | worth | rioni | hobie | neewer | orly | brentwood | bamboobies | younique products | curtis computer products | ted baker | imaginarium | aquarius | kidkraft | srixon | maybelline new york | fjallraven | lulu | sundog | techno source | glamorise | via spiga | brighton collectibles | bully dog | true rock | ocean current | ck jeans | may queen | farsali | nature's variety instinct | solo | eric carle | just cavalli | it figures | hazel | dreamgirl | rihanna | plus white | filson | flax | igloo | night moves | coleman | pins & needles | head & shoulders | steve & barry's | sl fashions | sangria | ea sports | ky | roar | rusty | huffy | triple 5 soul | phat farm | college edition | rocksmith | bella cucina | inglesina | millenium | ml monique lhuillier | schutt | dl1961 | brica | a wish come true | grane | abc studios | cambridge satchel | comotomo | skin industries | charlotte olympia | bh | rebecca taylor | 24/7 comfort apparel | kryolan | cat | dr. teal's | classic elements | crazy horse | larok | nicola | christopher blue | emu | be wicked! | palmer's | lei | hickey freeman | betsy & adam | white mark | gatorade | casual industrees | reba | whirlpool | live a little | irish setter | marshall | triangl swimwear | rockies | lat | kelly & katie | harve benard | bumble collection | cake | the doctor's | frederique constant | island escape | pny | pureology | klutz | groovy toys | sweet heart rose | tulle | marc fisher | a/x armani exchange | la femme | mercer | goody | bausch & lomb | pepe jeans | alice & trixie | patrizia pepe | maje | stop staring | barneys new york | magnavox | blackmilk | hill's science diet | gregory | pro | profound aesthetic | alfred angelo | giant | bulova | shout | bailey | popcap | evoshield | minnie mouse | cygnus | alpine | emily ray | mary grace swim | 3m | all four paws | donna bella | kickee pants | isabel marant | ingrid & isabel | rocawear clothing | veet | alberto makali | parallel | capcom | tretorn | colin stuart | feetures! | bourjois | mopas | exersaucer | liz baker | kathy ireland | nest | kiko milano | vix | doe | blip toys | johnson | sole society | jenni by jennifer moore | carson home accents | audio-technica | keranique | carefree | lixit | bogs | capelli | pelle | top fin | rollerblade | lux | american needle | k&n engineering | snark | royal robbins | patek philippe | le creuset | fenn wright manson | hint | hublot | seresto | morgan taylor | sansabelt | coulbourne | blair | outdoor life | lulu townsend | vidal sassoon | lolly wolly doodle | a.testoni | mechanix wear | kelty | bubblegum | loveappella | method | ashworth | susan lawrence | joujou | klipsch | simply irresistible | emachines | a.p.c. | sentry | debeer | pedialyte | red wing shoes | butter london | top flite | ezekiel | daniel cremieux | ocean drive | tous | crystal doll | zak designs | field gear | alife | durango | mansur gavriel | velvet | pravana | tony lama | scarlett | cutters | magazine | cha cha vente | copper key | sassy | oxford | seven7 | peck & peck | mini melissa | loccitane | united states sweaters | billy reid | creative recreation | geneva platinum | smet | hugga bebe | diamond | concept one | msi | maui jim | pura | flirtitude | g-iii | bike | joe & elle | lela rose | thierry mugler | bushnell | comfort zone | cathy jean | lillebaby | jessica howard | cover fx | skagen | breezies | david taylor | pez | house of harlow 1960 | new york color | vertigo | heritage | samsonite | max mara | angl | jump apparel | kamik | rocky brands, inc. | gap inc. | yoki | kappa | kre-o | gypsy 05 | adams | sprout | xm | skinceuticals | puffs | austin reed | gevalia | anchor blue | cotton express | chalk line | bumpstart | spider-man | saddlebred | necessary objects | algenist | highway jeans | karl lagerfeld | lovers + friends | b. makowsky | delia's | stats | jergens | white + warren | alpine design | rxb | 2k games | propper | indigo brands | cesar | vivienne westwood | zigi soho | as u wish | greenlight collectibles | syroco | blank nyc | john varvatos | taggies | tribest | antique rivet | huggies little swimmers | bolle | floppy products | ark & co | chemex | dennis basso | takeout | grace karin | arturo chiang | ocra | buffalo games | noxzema | ogx | matty m | karen kane | nvidia | quantum | tm! | ruby rd. | sue wong | olympus | tiffany designs | ujena | clover canyon | testament | wrapper | amanda smith | hippie | p'kolino | love by design | bedhead | viseart | revell | swiss legend | planet motherhood | vasque | dr. dennis gross skincare | devacurl | p&n | mueller | icon | joseph ribkoff | bonobos | gbc | champro | scholastic children | all living things | october love | lladro | lorna jane | jollychic.com | bershka | creed | tularosa | paul jones | workman | zune | danielson designs | eddie bauer clothing | christina | sterling industries | 21men | laurel burch | mikimoto | maxell | character | revolution | luichiny | nina | manhattan toy | aidan mattox | pampers easy ups | necessary clothing | j.lo by jennifer lopez | superga | carrhart | lennie for nina leonard | fly society | altamont | max and cleo | y- by yohji yamamoto | murad | heelys | rain-x | startee | m&m | dl | treasure & bond | scott mcclintock | oregon scientific | monteau | dscp | ginsey | ybike | graham & spencer | kidsline | john frieda | no fear | game | pineapple connection | elie tahari | olian | snap-on | kingston | ax paris | positive attitude | ouidad | jack by bb dakota | update international | johnston & murphy | baby essentials | fever | sere nade | ashley graham | bar lll | gotta flurt | woodwick | yamaha | erika | pull&bear | leading lady | ferrari | coty, inc. | happy socks | qalo | sans souci | laguna beach jeans | soybu | natural fitness | lugz | american classics | bandai namco | urban behavior | juju | honda | ashley b | zadig & voltaire | by terry | addison | j. ferrar | sky | douglas | raskullz | que | goliath games | uglydoll | john varvatos collection | ingersoll-rand | roundtree & yorke | charlie by mattew zink | hanna andersson | soft joie | i heart ronson | the timberland company | lolli swim | smithsonian | stampd | grass | christian lacroix | park lane | diamond plate | carolina blues | b o x packaging | melitta | ultra pro | pga tour | quiksilver waterman collection | comfort & harmony | cathy daniels | poof! | ecco bella | signature | bosch | learning curve | dora the explorer | joico | sas safety corp. | funrise | blue buffalo | foley + corinna | paper magic | earths nectar | lamarque | aero | penn fishing | sean collection | blowfish | fred perry | inner beauty | u.s. polo assn. | baltex | camper | twelfth street by cynthia vincent | raw state | brake & wheel parts | julep | sigrid olsen | hardwood classics | glofish | bob strollers | ermenegildo zegna | kawasaki | just like home | form athletics | rhapsody | penguin | tinley road | monoprice | rowdy gentleman | circulon | soludos | ram | audiovox | safety 1st | eliza j | savile row | ccb collection | katie b. | com | knightsbridge | cheetah | spenser jeremy | white mountain | usa hockey | ten sixty sherman | strivectin | indah | grace | elliott lucca | nudestix | hamilton | boudreaux | boudreauxs butt paste | fresh | boohoo petite | tissot | anon | whish | vertigo paris | sol de janeiro | forever unique | sparks | jason wu | victorious | fresh produce | cepia | jagermeister | faber-castell | pioneer pet | zobo | gx by gwen stefani | cw-x | progressive international | mimi chica | versace jeans | bloomingdale's | diane gilman | kikkerland | point zero | chequer | rim | no-ad | office supply brands | shock doctor | edge | marina | tone | chicago | pur-lisse | pretty polly | sovereign code | dog md | yada | boy + girl | hale bob | cardinal of canada | dragon alliance | deux lux | tiare hawaii | jtb | maverik | advil | scrub daddy | renu | precision | perricone md | oshkosh | kikit | cooks essentials | bridgestone golf | jamaica jaxx | tennessee river | anita | slinky brand | spiderman | tassimo | skechers kids | etnies | skintimate | nina leonard | tracy evans | sonia kashuk | body & hair | dreamworks animated | gpx | tech  kids | cetaphil | dremel | teton sports | sigvaris | the estee edit | channel | trend lab | galt | miss chievous | antigua | gum | globe | jac vanek | litter genie | the bridge direct | contours | shoshanna | bebesounds | emile et rose | holden | new arrivals | violet & claire | bloch | ford motorsport | incharacter costumes | allen b. by allen schwartz | pampers splashers | j kara | berek | wow couture | investments | corolle | nix | salt lake clothing | norton mcnaughton | hitachi | alloy | enyce clothing | marco santi | murano | forplay | color oops | mika yoga wear | demdaco | miche | cynthia howie | coast | wendy bellissimo | travis mathew | peppe peluso | jantzen | restoration hardware | dyson | wedgwood | eucerin | youngland | drunk elephant | capelli of new york | petmate | odille | ice | 10.deep | yakima | bravado designs | antik batik | black poppy | wanted | high sierra | natori | back buddy | wigwam | tony moly | dknyc | cipo & baxx | seychelles | acrobat | phat farm/baby phat | goddess | cabin creek | thrive | scope brand shop | melt cosmetics | square enix | plasticolor | girbaud | kailijumei lipsticks | kate hill | lafayette 148 new york | aquafresh | gianfranco ferre | dex baby | sweet pea | knocker | agraria | roommates | mimi maternity | pony | victoria jones | magnum | descente | sorrelli | timber creek | isabella oliver | tolani | alegro | first act | david kahn | velvet torch | bearpaw | audemars piguet | fire los angeles | emanuel ungaro | lazy oaf | g-unit | weather tamer | dreamgear | coco reef | foster grant | comfort choice | universal baby | suit studio | teleflora | joseph a | top of the world | black rivet | complete | marineland | linea donatella | sumersault | requirements | t-party | blue | tiger | cabales | sterling publishing | clean | mel by melissa | la sportiv | twenty x | kelsi dagger | lulu frost | wesc | pelican | earnest sewn | monet | paul fredrick | casual | archie comics | sofft | ati technologies | alessi | onque casuals | the whistler group | calypso st. barth | warehouse | sebastian professional | danner inc | emerica | rugged ridge | lady hagen | euro-pro | savvy | leachco | valentino garavani | da-nang | atari | tru-spec | wham-o | just born | modena | roots | performance tool | the balm | horny toad | cards against humanity | brockum | bacco bucci | kiss me | jo malone | yummie tummie | kooba | lenovo | rebel yell | william rast | peter thomas roth | youth to the people | jambu | disney baby | moth | dr. miracle's | norpro | xenith | zoom | pedigree | peter millar | malibu | rebel spirit | bcbg max azria | elan | arrid | outdoor research | alien workshop | howe | express, inc. | thinkfun | foundry | duncan toys | liverpool jeans company | back to basics | grannick's | badger basket | lions gate | antilia femme | revolt | ddf | cruiser accessories | hippie rose | northcrest | gerber foods | univsersal studios | protec | aspeed | rustler | grant thomas | paula deen | boxercraft | nunn bush | gentle giant | salt water sandals by hoy | krazy kat | grasslands road | jazwares | jams world | hipanema | two by vince camuto | tootsie | movado | playhut | mavi jeans | martin margiela | good cook | popatu | jensen | isabella rodriguez | neil allyn | elegant moments | baby legs | cocomo | kalencom | redington | barefoot dreams | hourglass | my baby sam | armani | tervis | national geographic | chic | ban | swiffer | yankee candle company | the wet brush | simple | rich & skinny | lawman | creative labs | aa aquarium | western express | iolani | custo barcelona | loudmouth golf | bacati | catit | carmex | susana monaco | curves | schylling | zilla | sandra ingrish | auto meter | ellison | got 2b | cabernet | reference point | pringle of scotland | bayer expert care | heartsoul | brave soul | curvation | sante | authentic original vintage style | ecote | baby connection | alythea | sasson | christian audigier | kat von d beauty | per se | rand mcnally | carol's daughter | urban up | goodyear | jezebel | bruder toys america | bematernity | outbrook | therapy | rare editions | donna ricco | stranded | kaii | kanebo | haute hippie | mv sport | paradise collection | joan & david | evga | geodiscovery | narciso rodriguez | dbx | faithfull the brand | mckenzie | atlantis toy and hobby | brut | aka new york | augusta sportswear | paramount | danier | charles river apparel | starmark | linea pelle | iman | motel rocks | schutz | to the max | allison taylor | chan luu | bamboo cay | giacca | tigerlily | joules | harlowe and graham | tweeds | chopard | the original muck boot co. | escort radar | cambridge classics | magaschoni | brandon thomas | andrea fenzi | bay studio | skywalker trampolines | split | marks and spencer | kenneth cole | etonic | parish | rainbow | oxford golf | josef seibel | clairol | king baby studio | pronto uomo | rlx ralph lauren | royce | reverie | tibi | bumbleride | bogner | fujifilm | joyce chen | miller | bachmann trains | freeze | glo | babyhome | 2xu | ulla popken | denali | debbie morgan | beach joy | allegri | fatal clothing | perlina | knights sportswear | purina one | prps | solvit | kc collections | threads 4 thought | kidco | keepsake the label | ruehl no. 925 | gear for sports | bebe stores | john meyer | smartzone | viper | chloe k | nuroo | obermeyer | velvet by graham & spencer | alice & you | bostonian | jack spade | versace collection | river island | herbal essences | kids preferred | rhonda shear | somedays lovin | kiini | bc footwear | sultra | armani exchange | anxiety | mirro | foreo | good technology | zaggora | colonial candle | de la mer | friskies | forecaster of boston | g.i. joe | acure | henckels | scentblocker | the maya group | romy | lolita | joby | easy spirit | mackage | jenny yoo | district threads | puj | gm performance parts | blue box | mederma | sejour | zoot | blackhawk! | baby aspen | virgo | heinz | the wish factory | revitalens | villager | usaopoly | madison leigh | belle by sigerson morrison | green toys | 525 america | jonathan martin | vintage havana | smead | crabtree & evelyn | shaun white | planet pleasures | kische | retro chic | woman's touch apparel | steven by steve madden | adonna | infinity raine | beretta | pixi | royal apparel | iro | frost cutlery | vilebrequin | ravensburger | sean john fashion | minnie rose | ralph lauren black label | franco | lipstick queen | clarisse | coral bay | playstar | unique creations | ghost | flexi | step | gogroove pal | 47 | karma | dkny jeans | miss dorby | tractr | arcona | jag jeans | vantage | halston | js boutique | skycaddie | accel | spectra | usaf | mr. tea | olook | blunt power | purina beneful | armor all | floracraft | classic media | chelsea & violet | huggies one & done | resistol | the learning journey | thor | genica | warby parker | the magic bullet | mountain lake | usa leather | isis | sheffield knives | moon boot | turtle beach | bumble and bumble | l'eggs | banzai | acorn | mainstreet blues | norma kamali | harvard square | mega hobby | schumacher electric | charmleaks | nathan | cosabella | medusa | dermal | cover girl | chilton | josephine chaus | disney press | mermaid maternity | australian gold | blue cult | john roberts | journee collection | pacific trail | eric javits | nutro max | collector's gallery | fubu apparel | ren | aguadecoco | electric visual | lucy love | nbn gear | city studio | frogg toggs | proenza schouler | baby boom | adee kaye | guess by marciano | people's liberation | stormtech | oasis | revere | haier | home-it | anne michelle | donald j. pliner | danielle nicole | allison daley | kae argatherapie | vaneli | sleeping on snow | hamilton collection | little pim | henry grethel | cactus | micros | ouai | john blair | streamlight | prinz | indigo moon | carole hochman | wellness | changes | magic | copco | california costume collection | allure | sportbrain | dollie & me | perfection | kerusso | hershey | pylepro | old soles | ethika | bambo nature | franklin learning systems | tiara | polly & esther | riva designs | nambe | electronic arts | duracell | great northwest | hot chillys | athlete | alternative apparel | primal wear | briarpatch | south pole | mma elite | blue bird | ek success | chuckit | zoe ltd | silly bandz | nununu | bonnie jean | diono | filter | velocity | swak | bourbon and bowties | bvd | inhabit | dp | john ashford | kiara | banana boat | nook | california waves | krw | joe fresh | spin masters | lil critters | calgon | curve | akribos xxiv | psycho bunny | cremieux | zum zum | southern enterprises | la splash | silkland | aspen pet | hamilton electronics | tweezerman | cypress links | little mistress | lucchese | elemis ltd | summer breeze | silkies | dji | tria | berkshire | skin laundry | illesteva | amika | amia | destination maternity | north states | greenies | rasco fr | doncaster | world's best | vintage red | focus | hm-moden | circa | essentials by milano | nutri-vet | genetic denim | not your mother's | a.k.a | naomi & nicole | veronica beard | bob mackie | espn | mommy's helper | seraphine | prevue pet products | mm couture | power wheels | guidecraft | up vibe | lime crime cosmetics | tavik swimwear | pilcro | allen allen | gracia | aerin | tyra beauty | marysia swim | maison margiela | zanerobe | viewsonic | cinema secrets | persol | eo essential oils | rocky | josie | leather gallery | chronicle books | jun planning | cerave | viviscal | jones sport | lionel | neosporin | filthy dripped | sullen clothing | fascinations | chevron | monarchy | donnybrook | elevenses | xelement | onitsuka tiger | capresso | expressions | costume super center | godog | cliff keen | krista lee | reyn spooner | torn by ronny kobo | structure | coogi fashions | ash | max edition | dr. brandt | fiorentini + baker | cc skye | elements | dunbrooke | magic sports | spiegel | gentle souls | giordano | alcon | rossignol | briogeo | tek nek | chocolove | harpercollins publishers | kiss my face | louis raphael | c&a | novella royale | aquatopia | catherine popesco | hailey logan | bagatelle | reusch | flynn skye | heritage 1981 | colebrook | suzi chin | coola | clearasil | belif | shinola | omega paw | blackhawk | basic fun | carlson pet products | power a | bechamel | courtenay | anna sui | pink lotus | instantly ageless | ali & kris | impossible | scotch & soda | cooperative | lyle & scott | actron | jnco | walt disney studios home entertainment | fetco | harold's | in bloom by jonquil | booginhead | willow & clay | crofton | chromo inc | avon cosmetics, inc | haynes | kopari | lonna & lilly | rustlers | grand slam | juliette has a gun | act | caravelli | nutrabella | kleenex | katydid | counterparts | passport | omron | ouluoqi | grreat choice | sjb active | pal zileri | tick twister | plasmart | mission | drinkwell | hauck | tracy reese | arm's reach concepts | nudie jeans | gigabyte | hartstrings | christophe robin | diba | milk makeup | mandalay | j & company | john varvatos star usa | innovative designs | rio grande games | elizavecca | gerber childrenswear | port & company | tp-link | fantasie | replogle | amoena | little trees | piedmont | ruth | modern culture | piazza sempione | edelbrock | gold toe | mandalynn | ware | trunk ltd | tresics | etch a sketch | haband | pioneer inc. | !it jeans | pulsar | victor costa | corsair | jacques moret | little me | gitano | gearbox | whiskas | sof sole | fashion forms | hannspree | signorelli | felicity & coco | cooler master | central park west | cbk | roseart | k & w | revlon group | tivoli | artful dodger | azzaro | tidy cats | nair | petite sophisticate | mountain buggy | jil sander | t by alexander wang | warner home video | ernie ball | downy | icebreaker | caudalie | beverly drive | livinglibations | samuel dong | hedstrom | hot milk | tano | one step up | misfits | dark horse | advent | akai | xerox | ceaco | maxima | roc | emerald sundae | decolav | giro | makeup eraser | euro cuisine | giovanni navarre | paprika | kryptonics | glide bikes | laundry by design | elizabeth hurley | prairie dog antlers | trevco | boscia | especially for kids | exofficio | nyc | lyons / hit ent. | ask | classic accessories | z cavaricci | orla kiely | essentials | famosa america | dazzle multimedia | hayabusa | she and sky | lampe berger | lilli ann | 8732 apparel | reach | flavia | rodd & gunn | inov- | camilia | peripera | ben davis | t&j designs | lite brix | charles tyrwhitt | unwired technologies | indigo palms | pure boxing | loewe | bowery supply | uncommon threads | paradox | tasso elba | red jacket | bio oil | bio spot | mammut | rosewill | ion audio | assets by sara blakely | exp computer | alex & ava | tanner mark | boomco. | pacific world corp | highlander | sensodyne | inspire | dc sports | elixir | pro line | bioworld merchandising | pink fizz | marisa christina | dragon | educational insights | peruvian connection | popular | flamingo | wagner lighting | savannah | jaco | little lass | baratza | baker & taylor | great expectations | budge | tadashi shoji | stitch's | fly london | hilfiger denim | fairway | max & mia | terry lewis | lavazza | canali | osprey | kate aspen | kathy lee | glo-brite | john hardy | b-low the belt | evisu | northwest territory | hard candy cosmetics | all saints | bananafish | finders keepers | krush | dale of norway | tony & tina | n.y.l.a. | letarte | giorgio brutini | notify | alia | taverniti | shell | eastessence | old glory | animal adventure | fathead | tricots st. raphael | combi | one industries | vissla | freshman | imagine | permatex | toy monster | tile | wallis | gbx | intrigue | air zone | bondi band | maison jules | spigen | greenleaf dollhouses | together | believe | wb games | dragonfly | hugo | studio ease | red valentino | mam | zanella | chapstick | sugoi | tildon | jump | mineral fusion | tangle teezer | wall pops | lumisource | akris | men's warehouse | simply be | hunt club | mylec | white diamond | harriton | weaver leather | bang & olufsen | ghast | koman | dvs | camilla | china glaze co. ltd. | gottex | tiglio | keekaroo | rbk | sony electronics | ultima ii | tailorbyrd | xtreme couture | zoli | lucky dog | naked & famous | tickled pink tees | wd.ny | fabulous frannie | kdlinks | bonworth | comptoir sud pacifique | denim riders | reader's digest | thom browne | deltana | memorex | croota | cdc clothing | turnbull & asser | upspring | albert nipon | hikari | motto | religion | fuda | schwarzkopf | kensington | spool 72 | fashionomics | super stroke | chann luu | pearhead | commonwealth toys | clean & clear | powerbolt | mad engine | j workshop | zen group | lulu guinness | estes | gear | kms california | curel | aqua clear | rocktape | blind | doris | myths | coed sportwear | red haute | maxtor | kiyonna | david brooks | katia | riviera | brazilroxx | especially for baby | generra | lasko | jonathan adler | road rippers | buckley supply co. | propet | howard miller | valco baby | k. bell | silver star | eden | motor trend | sonia rykiel | castle | elie saab | key | tinker bell | alexander kalifano | bloomfield | west coast choppers | telebrands | super sunglasses | plenty by tracy reese | sue devitt | lillie rubin | margarita | latique | j. mclaughlin | fashion junkee | amphibious outfitters | tylenol | porsche design | lyons hit entertainment | azo | lipstick bandit | tonner doll company | jen's pirate booty | love riche | remain | magnolia | add down | leota | beverly hills md | bejeweled | pinnacle systems | rage broadheads | smoky mountain | california scents | phillips 66 | sorel | irobot | avanti | dessy collection | candle-lite | buxton leather goods | blauer | marcelo burlon county of milan | 1byone | the freshnes | cookie lee | storkcraft | midland | ravebsburger | merle norman cosmetics | district | midwest | maxine of hollywood | christine alexander | ferrecci | twilight gypsy collective | stuhrling original | cyrus | walter hagen | a.b.s. by allen schwartz | monterey club | winner's circle | frame denim | exuviance | vittorio st. angelo | pastry shoe collection | heirloom collectibles | showtime | american tourister | exergen | natural expressions | cecico | pillsbury | each x other | living dead souls | dainese | black halo | hanky panky | dazzle | the noco company | solar | puritan | play mg | poleci | bari jay | kay unger | mac & jac | jamaica bay | dorman | nursery fresh | bepuzzled | winterland | mitsubishi | millau | first wave | attends | la prairie | yvolution | smart games | cordani shoes | smart gear | lucasarts entertainment | anama | akris punto | paradise found | monistat | escante | frank & oak | bad boy | outset media | emson | ergodyne | tecnica | square | tee shop | frigidaire | dorel | kaplan md | austin clothing co. | meme | puma se | miller's forge | for bare feet | cutie pie baby | finish line | for joseph | excell | walt disney studios entertainment | ca by vitamin a | fellowes | marc ecko enterprises | geiger | white mountaineering | zimmerman | tocca | robert talbott | blank | animal alley | fanatics | salt works | petit tresor | creative designs | korres | jones jeans | luca luca | koala baby boutique | denso | neighborhood | anne fontaine | delong | complyright | lowa | primo emporio | preggers | makeup forever | mediasonic | geotrax | reunion | recoton | khombu | perception sport | nubian heritage | matt bernson | daks | petrageous designs | ecotools | la redoute | koss | vanilla sugar | lipstick boutique | nothing but love | babies r us infant | st. tropez tanning essentials | skin inc. | nyko | funtasma | swedish hasbeens | anna kostrova | little gifts | mag-float | karen neuburger | twiggy | melissa odabash | andrea by sadek | rusk | hampshire studio | tacori | dri duck | cooper | nabisco variety | bon bebe | casetify | azules | boss black | oxbow | famous catalog | first aid beauty | maternal america | true light | yigal azrouel | evriholder | 7 diamonds | ellemenno | dogswell | curvy couture | automotive innovations | wit & wisdom | seeyou | motorola consumer radios | j g hook | silhouettes | punch studio | klorane | mcguire denim | maya | yes to | rowan | kids headquarters | stefano ricci | g.m. specialties | gigatent | all sport | hudson baby | palm grove | franklin electronics | vitakraft | joe rocket | palm beach | foot traffic | bernzomatic | renew life | borrelli | hart & huntington | american weigh | bowflex | north end | palladium boots | tolly tots | cambio | bachrach | cos | obagi | music little people | nor cal | siwy jeans | agetec | buxton | topshop petite | vivid imaginations | thames & kosmos | elite hockey | stonebridge | polycom | privilege | ingear | oris | francesco biasia | endless rose | serenity | choppers | sport savvy | scosche | meow mix | technics | kuhl | serta | wonderworld | cior | ultimate ears | request | wildkin | mag 1 | blanqi | c. o. bigelow | sangean | stephen webster | kinderglo | hein werner | dubble bubble | creature | fluxus | shock absorber | cassandra stone | john henry | rails | publish | rj story | peanut shell | tommy john | at&t | caruso | ivy crew | dr. hauschka | devon & jones | ambi | aqua lung sport | anderson bean | chromatm | raven denim | case logic | lojas riachuelo | fergie | on the fly | david carey | eshakti | nicklaus | dittos | scunci | eminence | lucy brand | briefly stated | protege | la roche-posay | canterbury | enjoi | towncraft | red ape | gunne sax | citron santa monica | desitin | badger | everly | prabal gurung for target | pleasure party | shenanigans | gigi new york | reed | red engine | lot | accutron | triple five soul | ole henricksen | kristen blake | paradise kids | shane company | stone cold fox | pebble beach | longines | amsoil | miss elaine | wembley | longitude | cotton heritage | simms | best friends by sheri | pure color | hustler | silverlit | lafayette  new york | breckenridge | sonix | bitten | hill's ideal balance | boogie wipes | iron man | paul & joe | coby electronics | splat | ixcc | aerolatte | iris & ivy | brioni | garfield & marks | the peanut shell | baleaf | midtronics | splash | savane | hypertech | lodis | simplicity | julie brown | guard master | beautifly | sky organics | thelees | hde | woot | allen solly | st. croix | sutton studio | edu science | code bleu | dentek | auto ventshade | deco mesh | m missoni | lauren moshi | sun river | fast lane | speeco | alan flusser | imperial motion | tess | carol anderson | jostar | vollrath | mehron | charles klein | essence of beauty | begin again | taylor dresses | 191 unlimited | nurture by lamaze | nordstrom baby | home depot | sarah spencer | riff stars | united colors of benetton | unik | drybar | steadfast brand | island shores | niteline | renuzit | neatnik | underscore | gossard | harrington | five four | zyxel | blue nile | astroglide | cumberland bay | kids only \""
      ]
     },
     "execution_count": 7,
     "metadata": {},
     "output_type": "execute_result"
    }
   ],
   "source": [
    "# checking if it's possible to impute some missing brands using the text from name and description\n",
    "product_listings_mercari['name'] = product_listings_mercari['name'].map(normalize_text)\n",
    "product_listings_mercari['brand_name'] = product_listings_mercari['brand_name'].map(normalize_text)\n",
    "\n",
    "unique_brands = list(product_listings_mercari['brand_name'].unique())\n",
    "unique_brands.remove('missing')\n",
    "contains_filter = ' | '.join(unique_brands)\n",
    "\n",
    "contains_filter = ' ' + contains_filter + ' '\n",
    "contains_filter"
   ]
  },
  {
   "cell_type": "code",
   "execution_count": 9,
   "id": "26373539",
   "metadata": {},
   "outputs": [
    {
     "data": {
      "text/html": [
       "<div>\n",
       "<style scoped>\n",
       "    .dataframe tbody tr th:only-of-type {\n",
       "        vertical-align: middle;\n",
       "    }\n",
       "\n",
       "    .dataframe tbody tr th {\n",
       "        vertical-align: top;\n",
       "    }\n",
       "\n",
       "    .dataframe thead th {\n",
       "        text-align: right;\n",
       "    }\n",
       "</style>\n",
       "<table border=\"1\" class=\"dataframe\">\n",
       "  <thead>\n",
       "    <tr style=\"text-align: right;\">\n",
       "      <th></th>\n",
       "      <th>train_id</th>\n",
       "      <th>name</th>\n",
       "      <th>item_condition_id</th>\n",
       "      <th>brand_name</th>\n",
       "      <th>price</th>\n",
       "      <th>shipping</th>\n",
       "      <th>item_description</th>\n",
       "      <th>main_cat</th>\n",
       "      <th>sub_cat1</th>\n",
       "      <th>sub_cat2</th>\n",
       "      <th>preprocessed_name</th>\n",
       "      <th>preprocessed_description</th>\n",
       "    </tr>\n",
       "  </thead>\n",
       "  <tbody>\n",
       "    <tr>\n",
       "      <th>0</th>\n",
       "      <td>0</td>\n",
       "      <td>mlb cincinnati reds t shirt size xl</td>\n",
       "      <td>3</td>\n",
       "      <td>missing</td>\n",
       "      <td>10.0</td>\n",
       "      <td>1</td>\n",
       "      <td>No description yet</td>\n",
       "      <td>men</td>\n",
       "      <td>tops</td>\n",
       "      <td>t-shirts</td>\n",
       "      <td>mlb cincinnati reds shirt size xl</td>\n",
       "      <td>description yet</td>\n",
       "    </tr>\n",
       "    <tr>\n",
       "      <th>17</th>\n",
       "      <td>17</td>\n",
       "      <td>new: baby k'tan active baby carrier</td>\n",
       "      <td>1</td>\n",
       "      <td>missing</td>\n",
       "      <td>29.0</td>\n",
       "      <td>1</td>\n",
       "      <td>Brand new in box Size: Medium Color: Coral Ret...</td>\n",
       "      <td>kids</td>\n",
       "      <td>gear</td>\n",
       "      <td>backpacks &amp; carriers</td>\n",
       "      <td>new baby k tan active baby carrier</td>\n",
       "      <td>brand new box size medium color coral retails ...</td>\n",
       "    </tr>\n",
       "    <tr>\n",
       "      <th>31</th>\n",
       "      <td>31</td>\n",
       "      <td>new lularoe os leggings, stars</td>\n",
       "      <td>1</td>\n",
       "      <td>missing</td>\n",
       "      <td>50.0</td>\n",
       "      <td>1</td>\n",
       "      <td>No description yet</td>\n",
       "      <td>women</td>\n",
       "      <td>athletic apparel</td>\n",
       "      <td>pants, tights, leggings</td>\n",
       "      <td>new lularoe os leggings stars</td>\n",
       "      <td>description yet</td>\n",
       "    </tr>\n",
       "    <tr>\n",
       "      <th>34</th>\n",
       "      <td>34</td>\n",
       "      <td>four puppy dog stuffed animal ty</td>\n",
       "      <td>3</td>\n",
       "      <td>missing</td>\n",
       "      <td>5.0</td>\n",
       "      <td>1</td>\n",
       "      <td>2 beanie babies pugsley wrinkles Puppy with pu...</td>\n",
       "      <td>kids</td>\n",
       "      <td>toys</td>\n",
       "      <td>stuffed animals &amp; plush</td>\n",
       "      <td>four puppy dog stuffed animal ty</td>\n",
       "      <td>2 beanie babies pugsley wrinkles puppy pumpkin...</td>\n",
       "    </tr>\n",
       "    <tr>\n",
       "      <th>43</th>\n",
       "      <td>43</td>\n",
       "      <td>apricot beige stick foundation!!</td>\n",
       "      <td>1</td>\n",
       "      <td>missing</td>\n",
       "      <td>12.0</td>\n",
       "      <td>1</td>\n",
       "      <td>Great quality!!! Fast free shipping!! You can ...</td>\n",
       "      <td>beauty</td>\n",
       "      <td>makeup</td>\n",
       "      <td>face</td>\n",
       "      <td>apricot beige stick foundation</td>\n",
       "      <td>great quality fast free shipping find beautifu...</td>\n",
       "    </tr>\n",
       "    <tr>\n",
       "      <th>...</th>\n",
       "      <td>...</td>\n",
       "      <td>...</td>\n",
       "      <td>...</td>\n",
       "      <td>...</td>\n",
       "      <td>...</td>\n",
       "      <td>...</td>\n",
       "      <td>...</td>\n",
       "      <td>...</td>\n",
       "      <td>...</td>\n",
       "      <td>...</td>\n",
       "      <td>...</td>\n",
       "      <td>...</td>\n",
       "    </tr>\n",
       "    <tr>\n",
       "      <th>1481644</th>\n",
       "      <td>1482518</td>\n",
       "      <td>brooches: lot of 5 assorted (1 coro)</td>\n",
       "      <td>3</td>\n",
       "      <td>missing</td>\n",
       "      <td>10.0</td>\n",
       "      <td>1</td>\n",
       "      <td>3 appear to be VTG. The pink one is Coro.</td>\n",
       "      <td>vintage &amp; collectibles</td>\n",
       "      <td>jewelry</td>\n",
       "      <td>brooch</td>\n",
       "      <td>brooches lot 5 assorted 1 coro</td>\n",
       "      <td>3 appear vtg pink one coro</td>\n",
       "    </tr>\n",
       "    <tr>\n",
       "      <th>1481648</th>\n",
       "      <td>1482522</td>\n",
       "      <td>lg k7/tribute 5 hybrid case</td>\n",
       "      <td>1</td>\n",
       "      <td>missing</td>\n",
       "      <td>8.0</td>\n",
       "      <td>1</td>\n",
       "      <td>Perfect Design for LG Tribute 5 / LG K7, NOT f...</td>\n",
       "      <td>electronics</td>\n",
       "      <td>cell phones &amp; accessories</td>\n",
       "      <td>cases, covers &amp; skins</td>\n",
       "      <td>lg k7/tribute 5 hybrid case</td>\n",
       "      <td>perfect design lg tribute 5 / lg k7 fit lg tri...</td>\n",
       "    </tr>\n",
       "    <tr>\n",
       "      <th>1481653</th>\n",
       "      <td>1482527</td>\n",
       "      <td>blk/white ribbed mock neck bodysuit m</td>\n",
       "      <td>1</td>\n",
       "      <td>missing</td>\n",
       "      <td>10.0</td>\n",
       "      <td>1</td>\n",
       "      <td>Brand new black and white ribbed mock neck bod...</td>\n",
       "      <td>women</td>\n",
       "      <td>tops &amp; blouses</td>\n",
       "      <td>blouse</td>\n",
       "      <td>blk/white ribbed mock neck bodysuit</td>\n",
       "      <td>brand new black white ribbed mock neck bodysuit</td>\n",
       "    </tr>\n",
       "    <tr>\n",
       "      <th>1481658</th>\n",
       "      <td>1482532</td>\n",
       "      <td>21 day fix containers and eating plan</td>\n",
       "      <td>2</td>\n",
       "      <td>missing</td>\n",
       "      <td>12.0</td>\n",
       "      <td>0</td>\n",
       "      <td>Used once or twice, still in great shape.</td>\n",
       "      <td>sports &amp; outdoors</td>\n",
       "      <td>exercise</td>\n",
       "      <td>fitness accessories</td>\n",
       "      <td>21 day fix containers eating plan</td>\n",
       "      <td>used twice still great shape</td>\n",
       "    </tr>\n",
       "    <tr>\n",
       "      <th>1481660</th>\n",
       "      <td>1482534</td>\n",
       "      <td>brand new lux de ville wallet</td>\n",
       "      <td>1</td>\n",
       "      <td>missing</td>\n",
       "      <td>22.0</td>\n",
       "      <td>0</td>\n",
       "      <td>New with tag, red with sparkle. Firm price, no...</td>\n",
       "      <td>women</td>\n",
       "      <td>women's accessories</td>\n",
       "      <td>wallets</td>\n",
       "      <td>brand new lux de ville wallet</td>\n",
       "      <td>new tag red sparkle firm price free shipping</td>\n",
       "    </tr>\n",
       "  </tbody>\n",
       "</table>\n",
       "<p>292013 rows × 12 columns</p>\n",
       "</div>"
      ],
      "text/plain": [
       "         train_id                                     name  item_condition_id  \\\n",
       "0               0     mlb cincinnati reds t shirt size xl                   3   \n",
       "17             17     new: baby k'tan active baby carrier                   1   \n",
       "31             31          new lularoe os leggings, stars                   1   \n",
       "34             34        four puppy dog stuffed animal ty                   3   \n",
       "43             43        apricot beige stick foundation!!                   1   \n",
       "...           ...                                      ...                ...   \n",
       "1481644   1482518    brooches: lot of 5 assorted (1 coro)                   3   \n",
       "1481648   1482522             lg k7/tribute 5 hybrid case                   1   \n",
       "1481653   1482527   blk/white ribbed mock neck bodysuit m                   1   \n",
       "1481658   1482532   21 day fix containers and eating plan                   2   \n",
       "1481660   1482534           brand new lux de ville wallet                   1   \n",
       "\n",
       "        brand_name  price  shipping  \\\n",
       "0          missing   10.0         1   \n",
       "17         missing   29.0         1   \n",
       "31         missing   50.0         1   \n",
       "34         missing    5.0         1   \n",
       "43         missing   12.0         1   \n",
       "...            ...    ...       ...   \n",
       "1481644    missing   10.0         1   \n",
       "1481648    missing    8.0         1   \n",
       "1481653    missing   10.0         1   \n",
       "1481658    missing   12.0         0   \n",
       "1481660    missing   22.0         0   \n",
       "\n",
       "                                          item_description  \\\n",
       "0                                       No description yet   \n",
       "17       Brand new in box Size: Medium Color: Coral Ret...   \n",
       "31                                      No description yet   \n",
       "34       2 beanie babies pugsley wrinkles Puppy with pu...   \n",
       "43       Great quality!!! Fast free shipping!! You can ...   \n",
       "...                                                    ...   \n",
       "1481644          3 appear to be VTG. The pink one is Coro.   \n",
       "1481648  Perfect Design for LG Tribute 5 / LG K7, NOT f...   \n",
       "1481653  Brand new black and white ribbed mock neck bod...   \n",
       "1481658          Used once or twice, still in great shape.   \n",
       "1481660  New with tag, red with sparkle. Firm price, no...   \n",
       "\n",
       "                       main_cat                   sub_cat1  \\\n",
       "0                           men                       tops   \n",
       "17                         kids                       gear   \n",
       "31                        women           athletic apparel   \n",
       "34                         kids                       toys   \n",
       "43                       beauty                     makeup   \n",
       "...                         ...                        ...   \n",
       "1481644  vintage & collectibles                    jewelry   \n",
       "1481648             electronics  cell phones & accessories   \n",
       "1481653                   women             tops & blouses   \n",
       "1481658       sports & outdoors                   exercise   \n",
       "1481660                   women        women's accessories   \n",
       "\n",
       "                        sub_cat2                    preprocessed_name  \\\n",
       "0                       t-shirts    mlb cincinnati reds shirt size xl   \n",
       "17          backpacks & carriers   new baby k tan active baby carrier   \n",
       "31       pants, tights, leggings        new lularoe os leggings stars   \n",
       "34       stuffed animals & plush     four puppy dog stuffed animal ty   \n",
       "43                          face       apricot beige stick foundation   \n",
       "...                          ...                                  ...   \n",
       "1481644                   brooch       brooches lot 5 assorted 1 coro   \n",
       "1481648    cases, covers & skins          lg k7/tribute 5 hybrid case   \n",
       "1481653                   blouse  blk/white ribbed mock neck bodysuit   \n",
       "1481658      fitness accessories    21 day fix containers eating plan   \n",
       "1481660                  wallets        brand new lux de ville wallet   \n",
       "\n",
       "                                  preprocessed_description  \n",
       "0                                          description yet  \n",
       "17       brand new box size medium color coral retails ...  \n",
       "31                                         description yet  \n",
       "34       2 beanie babies pugsley wrinkles puppy pumpkin...  \n",
       "43       great quality fast free shipping find beautifu...  \n",
       "...                                                    ...  \n",
       "1481644                         3 appear vtg pink one coro  \n",
       "1481648  perfect design lg tribute 5 / lg k7 fit lg tri...  \n",
       "1481653    brand new black white ribbed mock neck bodysuit  \n",
       "1481658                       used twice still great shape  \n",
       "1481660       new tag red sparkle firm price free shipping  \n",
       "\n",
       "[292013 rows x 12 columns]"
      ]
     },
     "execution_count": 9,
     "metadata": {},
     "output_type": "execute_result"
    }
   ],
   "source": [
    "# listings where brand is missing but the description includes an existing brand\n",
    "df = product_listings_mercari.copy()\n",
    "df['name'] = df['name'].apply(lambda x: x.center(len(x)+2))                                   \n",
    "df.loc[df['brand_name']=='missing'][df['name'].str.contains(contains_filter)]"
   ]
  },
  {
   "cell_type": "code",
   "execution_count": 10,
   "id": "33348758",
   "metadata": {},
   "outputs": [],
   "source": [
    "# it looks llike some missing values could be imputed from the listings name\n",
    "# I will only check in name because item_description might include comparison with other brands and introduce noise"
   ]
  },
  {
   "cell_type": "code",
   "execution_count": 11,
   "id": "0e456e12",
   "metadata": {},
   "outputs": [],
   "source": [
    "# dict of brand with frequency\n",
    "brand_freq = dict(product_listings_mercari[\"brand_name\"].value_counts())\n",
    "exclude_brand = ['missing', 'so', 'pink', 'and', 'all', 'key', 'x', 'm', 'ring', 'lot', 'bike', 'ball', 'complete', 'silver', 'duo', 'pro', 'boots']\n",
    "\n",
    "for b in exclude_brand:\n",
    "    brand_freq.pop(b)\n",
    "\n",
    "# list of brands sorted by frequency\n",
    "unique_brands = sorted(brand_freq, key=brand_freq.get, reverse=True)"
   ]
  },
  {
   "cell_type": "code",
   "execution_count": 12,
   "id": "c205237d",
   "metadata": {},
   "outputs": [],
   "source": [
    "# approach 1: impute brand by checking if text contains an existing brand\n",
    "def impute_brand1(row, unique_brands):\n",
    "    # adding ' ' to avoid matching 'x' in 'mix', for example.\n",
    "    brand_name = row['brand_name']\n",
    "\n",
    "    # impute only if current brand_name is 'missing'\n",
    "    if(brand_name=='missing'):\n",
    "        listing_name = ' ' + row['name'] + ' '\n",
    "        #item_description = ' ' + row['item_description'] + ' '\n",
    "        \n",
    "        for brand in unique_brands:\n",
    "            brand = ' ' + brand + ' '\n",
    "            if(brand in listing_name):\n",
    "                brand_name = brand.strip()\n",
    "                break\n",
    "                \n",
    "    return brand_name"
   ]
  },
  {
   "cell_type": "code",
   "execution_count": 307,
   "id": "c66044f9",
   "metadata": {},
   "outputs": [
    {
     "data": {
      "application/vnd.jupyter.widget-view+json": {
       "model_id": "3138e17ef92d4d80bc303126030d652b",
       "version_major": 2,
       "version_minor": 0
      },
      "text/plain": [
       "Pandas Apply:   0%|          | 0/1481661 [00:00<?, ?it/s]"
      ]
     },
     "metadata": {},
     "output_type": "display_data"
    },
    {
     "name": "stdout",
     "output_type": "stream",
     "text": [
      "CPU times: user 4min 50s, sys: 2.15 s, total: 4min 52s\n",
      "Wall time: 4min 52s\n"
     ]
    }
   ],
   "source": [
    "%time product_listings_mercari['brand_approach1'] = product_listings_mercari.swifter.apply(lambda row: impute_brand1(row, unique_brands), axis=1)"
   ]
  },
  {
   "cell_type": "code",
   "execution_count": 308,
   "id": "77fd4afb",
   "metadata": {},
   "outputs": [
    {
     "data": {
      "text/html": [
       "<div>\n",
       "<style scoped>\n",
       "    .dataframe tbody tr th:only-of-type {\n",
       "        vertical-align: middle;\n",
       "    }\n",
       "\n",
       "    .dataframe tbody tr th {\n",
       "        vertical-align: top;\n",
       "    }\n",
       "\n",
       "    .dataframe thead th {\n",
       "        text-align: right;\n",
       "    }\n",
       "</style>\n",
       "<table border=\"1\" class=\"dataframe\">\n",
       "  <thead>\n",
       "    <tr style=\"text-align: right;\">\n",
       "      <th></th>\n",
       "      <th>train_id</th>\n",
       "      <th>name</th>\n",
       "      <th>item_condition_id</th>\n",
       "      <th>brand_name</th>\n",
       "      <th>price</th>\n",
       "      <th>shipping</th>\n",
       "      <th>item_description</th>\n",
       "      <th>main_cat</th>\n",
       "      <th>sub_cat1</th>\n",
       "      <th>sub_cat2</th>\n",
       "      <th>preprocessed_name</th>\n",
       "      <th>preprocessed_description</th>\n",
       "      <th>brand_approach1</th>\n",
       "      <th>brand_approach222</th>\n",
       "      <th>brand_approach3</th>\n",
       "    </tr>\n",
       "  </thead>\n",
       "  <tbody>\n",
       "    <tr>\n",
       "      <th>0</th>\n",
       "      <td>0</td>\n",
       "      <td>mlb cincinnati reds t shirt size xl</td>\n",
       "      <td>3</td>\n",
       "      <td>missing</td>\n",
       "      <td>10.0</td>\n",
       "      <td>1</td>\n",
       "      <td>no description yet</td>\n",
       "      <td>men</td>\n",
       "      <td>tops</td>\n",
       "      <td>t-shirts</td>\n",
       "      <td>mlb cincinnati reds shirt size xl</td>\n",
       "      <td>description yet</td>\n",
       "      <td>mlb</td>\n",
       "      <td>mlb</td>\n",
       "      <td>mlb</td>\n",
       "    </tr>\n",
       "    <tr>\n",
       "      <th>1</th>\n",
       "      <td>1</td>\n",
       "      <td>razer blackwidow chroma keyboard</td>\n",
       "      <td>3</td>\n",
       "      <td>razer</td>\n",
       "      <td>52.0</td>\n",
       "      <td>0</td>\n",
       "      <td>this keyboard is in great condition and works ...</td>\n",
       "      <td>electronics</td>\n",
       "      <td>computers &amp; tablets</td>\n",
       "      <td>components &amp; parts</td>\n",
       "      <td>razer blackwidow chroma keyboard</td>\n",
       "      <td>keyboard great condition works like came box p...</td>\n",
       "      <td>razer</td>\n",
       "      <td>razer</td>\n",
       "      <td>razer</td>\n",
       "    </tr>\n",
       "    <tr>\n",
       "      <th>2</th>\n",
       "      <td>2</td>\n",
       "      <td>ava-viv blouse</td>\n",
       "      <td>1</td>\n",
       "      <td>target</td>\n",
       "      <td>10.0</td>\n",
       "      <td>1</td>\n",
       "      <td>adorable top with a hint of lace and a key hol...</td>\n",
       "      <td>women</td>\n",
       "      <td>tops &amp; blouses</td>\n",
       "      <td>blouse</td>\n",
       "      <td>ava viv blouse</td>\n",
       "      <td>adorable top hint lace key hole back pale pink...</td>\n",
       "      <td>target</td>\n",
       "      <td>target</td>\n",
       "      <td>target</td>\n",
       "    </tr>\n",
       "    <tr>\n",
       "      <th>3</th>\n",
       "      <td>3</td>\n",
       "      <td>leather horse statues</td>\n",
       "      <td>1</td>\n",
       "      <td>missing</td>\n",
       "      <td>35.0</td>\n",
       "      <td>1</td>\n",
       "      <td>new with tags. leather horses. retail for [rm]...</td>\n",
       "      <td>home</td>\n",
       "      <td>home decor</td>\n",
       "      <td>home decor accents</td>\n",
       "      <td>leather horse statues</td>\n",
       "      <td>new tags leather horses retail stand foot high...</td>\n",
       "      <td>missing</td>\n",
       "      <td>missing</td>\n",
       "      <td>missing</td>\n",
       "    </tr>\n",
       "    <tr>\n",
       "      <th>4</th>\n",
       "      <td>4</td>\n",
       "      <td>24k gold plated rose</td>\n",
       "      <td>1</td>\n",
       "      <td>missing</td>\n",
       "      <td>44.0</td>\n",
       "      <td>0</td>\n",
       "      <td>complete with certificate of authenticity</td>\n",
       "      <td>women</td>\n",
       "      <td>jewelry</td>\n",
       "      <td>necklaces</td>\n",
       "      <td>24k gold plated rose</td>\n",
       "      <td>complete certificate authenticity</td>\n",
       "      <td>missing</td>\n",
       "      <td>missing</td>\n",
       "      <td>missing</td>\n",
       "    </tr>\n",
       "  </tbody>\n",
       "</table>\n",
       "</div>"
      ],
      "text/plain": [
       "   train_id                                 name  item_condition_id  \\\n",
       "0         0  mlb cincinnati reds t shirt size xl                  3   \n",
       "1         1     razer blackwidow chroma keyboard                  3   \n",
       "2         2                       ava-viv blouse                  1   \n",
       "3         3                leather horse statues                  1   \n",
       "4         4                 24k gold plated rose                  1   \n",
       "\n",
       "  brand_name  price  shipping  \\\n",
       "0    missing   10.0         1   \n",
       "1      razer   52.0         0   \n",
       "2     target   10.0         1   \n",
       "3    missing   35.0         1   \n",
       "4    missing   44.0         0   \n",
       "\n",
       "                                    item_description     main_cat  \\\n",
       "0                                 no description yet          men   \n",
       "1  this keyboard is in great condition and works ...  electronics   \n",
       "2  adorable top with a hint of lace and a key hol...        women   \n",
       "3  new with tags. leather horses. retail for [rm]...         home   \n",
       "4          complete with certificate of authenticity        women   \n",
       "\n",
       "              sub_cat1            sub_cat2                  preprocessed_name  \\\n",
       "0                 tops            t-shirts  mlb cincinnati reds shirt size xl   \n",
       "1  computers & tablets  components & parts   razer blackwidow chroma keyboard   \n",
       "2       tops & blouses              blouse                     ava viv blouse   \n",
       "3           home decor  home decor accents              leather horse statues   \n",
       "4              jewelry           necklaces               24k gold plated rose   \n",
       "\n",
       "                            preprocessed_description brand_approach1  \\\n",
       "0                                    description yet             mlb   \n",
       "1  keyboard great condition works like came box p...           razer   \n",
       "2  adorable top hint lace key hole back pale pink...          target   \n",
       "3  new tags leather horses retail stand foot high...         missing   \n",
       "4                  complete certificate authenticity         missing   \n",
       "\n",
       "  brand_approach222 brand_approach3  \n",
       "0               mlb             mlb  \n",
       "1             razer           razer  \n",
       "2            target          target  \n",
       "3           missing         missing  \n",
       "4           missing         missing  "
      ]
     },
     "execution_count": 308,
     "metadata": {},
     "output_type": "execute_result"
    }
   ],
   "source": [
    "product_listings_mercari.head()"
   ]
  },
  {
   "cell_type": "code",
   "execution_count": 299,
   "id": "ce474e1f",
   "metadata": {},
   "outputs": [],
   "source": [
    "def impute_brand2(row, brand_freq):\n",
    "    brand_name = row['brand_name']\n",
    "    \n",
    "    # impute only if current brand_name is 'missing'\n",
    "    if(brand_name=='missing'):\n",
    "        text = ' ' + row['name'] + ' ' \n",
    "        #item_description = row['item_description']\n",
    "        #text = ' ' + listing_name + ' ' + item_description + ' ' # joining to check in name and description at the same time\n",
    "\n",
    "        freq_list = {}\n",
    "        for brand in brand_freq.keys():\n",
    "            if(' ' + brand + ' ' in text): # if brand from dict is in text\n",
    "                freq_list[brand] = brand_freq[brand]\n",
    "            \n",
    "        if (len(freq_list)> 0): # at least one word is a potential brand\n",
    "                brand_name = max(freq_list, key=freq_list.get)\n",
    "    return brand_name\n",
    "\n",
    "# achieves the same result that impute_brand1 but it takes longer"
   ]
  },
  {
   "cell_type": "code",
   "execution_count": 312,
   "id": "82bfb282",
   "metadata": {},
   "outputs": [
    {
     "data": {
      "application/vnd.jupyter.widget-view+json": {
       "model_id": "cee6b5d54ba246d5974604deac10a49e",
       "version_major": 2,
       "version_minor": 0
      },
      "text/plain": [
       "Pandas Apply:   0%|          | 0/1481661 [00:00<?, ?it/s]"
      ]
     },
     "metadata": {},
     "output_type": "display_data"
    },
    {
     "name": "stdout",
     "output_type": "stream",
     "text": [
      "CPU times: user 6min 21s, sys: 2.26 s, total: 6min 24s\n",
      "Wall time: 6min 23s\n"
     ]
    }
   ],
   "source": [
    "%time product_listings_mercari['brand_approach2'] = product_listings_mercari.swifter.apply(lambda row: impute_brand2(row, brand_freq), axis=1)"
   ]
  },
  {
   "cell_type": "code",
   "execution_count": 323,
   "id": "4a48b334",
   "metadata": {},
   "outputs": [
    {
     "data": {
      "text/html": [
       "<div>\n",
       "<style scoped>\n",
       "    .dataframe tbody tr th:only-of-type {\n",
       "        vertical-align: middle;\n",
       "    }\n",
       "\n",
       "    .dataframe tbody tr th {\n",
       "        vertical-align: top;\n",
       "    }\n",
       "\n",
       "    .dataframe thead th {\n",
       "        text-align: right;\n",
       "    }\n",
       "</style>\n",
       "<table border=\"1\" class=\"dataframe\">\n",
       "  <thead>\n",
       "    <tr style=\"text-align: right;\">\n",
       "      <th></th>\n",
       "      <th>train_id</th>\n",
       "      <th>name</th>\n",
       "      <th>item_condition_id</th>\n",
       "      <th>brand_name</th>\n",
       "      <th>price</th>\n",
       "      <th>shipping</th>\n",
       "      <th>item_description</th>\n",
       "      <th>main_cat</th>\n",
       "      <th>sub_cat1</th>\n",
       "      <th>sub_cat2</th>\n",
       "      <th>preprocessed_name</th>\n",
       "      <th>preprocessed_description</th>\n",
       "      <th>brand_approach1</th>\n",
       "      <th>brand_approach2</th>\n",
       "    </tr>\n",
       "  </thead>\n",
       "  <tbody>\n",
       "  </tbody>\n",
       "</table>\n",
       "</div>"
      ],
      "text/plain": [
       "Empty DataFrame\n",
       "Columns: [train_id, name, item_condition_id, brand_name, price, shipping, item_description, main_cat, sub_cat1, sub_cat2, preprocessed_name, preprocessed_description, brand_approach1, brand_approach2]\n",
       "Index: []"
      ]
     },
     "execution_count": 323,
     "metadata": {},
     "output_type": "execute_result"
    }
   ],
   "source": [
    "product_listings_mercari[product_listings_mercari.brand_approach1 != product_listings_mercari.brand_approach2]"
   ]
  },
  {
   "cell_type": "code",
   "execution_count": 326,
   "id": "61fa3a6f",
   "metadata": {},
   "outputs": [],
   "source": [
    "product_listings_mercari.drop('brand_approach2', axis=1, inplace=True)\n",
    "product_listings_mercari.rename(columns={'brand_approach1':'brand_imputed'}, inplace=True)"
   ]
  },
  {
   "cell_type": "code",
   "execution_count": 327,
   "id": "27d33f57",
   "metadata": {},
   "outputs": [
    {
     "data": {
      "text/html": [
       "<div>\n",
       "<style scoped>\n",
       "    .dataframe tbody tr th:only-of-type {\n",
       "        vertical-align: middle;\n",
       "    }\n",
       "\n",
       "    .dataframe tbody tr th {\n",
       "        vertical-align: top;\n",
       "    }\n",
       "\n",
       "    .dataframe thead th {\n",
       "        text-align: right;\n",
       "    }\n",
       "</style>\n",
       "<table border=\"1\" class=\"dataframe\">\n",
       "  <thead>\n",
       "    <tr style=\"text-align: right;\">\n",
       "      <th></th>\n",
       "      <th>train_id</th>\n",
       "      <th>name</th>\n",
       "      <th>item_condition_id</th>\n",
       "      <th>brand_name</th>\n",
       "      <th>price</th>\n",
       "      <th>shipping</th>\n",
       "      <th>item_description</th>\n",
       "      <th>main_cat</th>\n",
       "      <th>sub_cat1</th>\n",
       "      <th>sub_cat2</th>\n",
       "      <th>preprocessed_name</th>\n",
       "      <th>preprocessed_description</th>\n",
       "      <th>brand_imputed</th>\n",
       "    </tr>\n",
       "  </thead>\n",
       "  <tbody>\n",
       "    <tr>\n",
       "      <th>0</th>\n",
       "      <td>0</td>\n",
       "      <td>mlb cincinnati reds t shirt size xl</td>\n",
       "      <td>3</td>\n",
       "      <td>missing</td>\n",
       "      <td>10.0</td>\n",
       "      <td>1</td>\n",
       "      <td>no description yet</td>\n",
       "      <td>men</td>\n",
       "      <td>tops</td>\n",
       "      <td>t-shirts</td>\n",
       "      <td>mlb cincinnati reds shirt size xl</td>\n",
       "      <td>description yet</td>\n",
       "      <td>mlb</td>\n",
       "    </tr>\n",
       "    <tr>\n",
       "      <th>1</th>\n",
       "      <td>1</td>\n",
       "      <td>razer blackwidow chroma keyboard</td>\n",
       "      <td>3</td>\n",
       "      <td>razer</td>\n",
       "      <td>52.0</td>\n",
       "      <td>0</td>\n",
       "      <td>this keyboard is in great condition and works ...</td>\n",
       "      <td>electronics</td>\n",
       "      <td>computers &amp; tablets</td>\n",
       "      <td>components &amp; parts</td>\n",
       "      <td>razer blackwidow chroma keyboard</td>\n",
       "      <td>keyboard great condition works like came box p...</td>\n",
       "      <td>razer</td>\n",
       "    </tr>\n",
       "    <tr>\n",
       "      <th>2</th>\n",
       "      <td>2</td>\n",
       "      <td>ava-viv blouse</td>\n",
       "      <td>1</td>\n",
       "      <td>target</td>\n",
       "      <td>10.0</td>\n",
       "      <td>1</td>\n",
       "      <td>adorable top with a hint of lace and a key hol...</td>\n",
       "      <td>women</td>\n",
       "      <td>tops &amp; blouses</td>\n",
       "      <td>blouse</td>\n",
       "      <td>ava viv blouse</td>\n",
       "      <td>adorable top hint lace key hole back pale pink...</td>\n",
       "      <td>target</td>\n",
       "    </tr>\n",
       "    <tr>\n",
       "      <th>3</th>\n",
       "      <td>3</td>\n",
       "      <td>leather horse statues</td>\n",
       "      <td>1</td>\n",
       "      <td>missing</td>\n",
       "      <td>35.0</td>\n",
       "      <td>1</td>\n",
       "      <td>new with tags. leather horses. retail for [rm]...</td>\n",
       "      <td>home</td>\n",
       "      <td>home decor</td>\n",
       "      <td>home decor accents</td>\n",
       "      <td>leather horse statues</td>\n",
       "      <td>new tags leather horses retail stand foot high...</td>\n",
       "      <td>missing</td>\n",
       "    </tr>\n",
       "    <tr>\n",
       "      <th>4</th>\n",
       "      <td>4</td>\n",
       "      <td>24k gold plated rose</td>\n",
       "      <td>1</td>\n",
       "      <td>missing</td>\n",
       "      <td>44.0</td>\n",
       "      <td>0</td>\n",
       "      <td>complete with certificate of authenticity</td>\n",
       "      <td>women</td>\n",
       "      <td>jewelry</td>\n",
       "      <td>necklaces</td>\n",
       "      <td>24k gold plated rose</td>\n",
       "      <td>complete certificate authenticity</td>\n",
       "      <td>missing</td>\n",
       "    </tr>\n",
       "  </tbody>\n",
       "</table>\n",
       "</div>"
      ],
      "text/plain": [
       "   train_id                                 name  item_condition_id  \\\n",
       "0         0  mlb cincinnati reds t shirt size xl                  3   \n",
       "1         1     razer blackwidow chroma keyboard                  3   \n",
       "2         2                       ava-viv blouse                  1   \n",
       "3         3                leather horse statues                  1   \n",
       "4         4                 24k gold plated rose                  1   \n",
       "\n",
       "  brand_name  price  shipping  \\\n",
       "0    missing   10.0         1   \n",
       "1      razer   52.0         0   \n",
       "2     target   10.0         1   \n",
       "3    missing   35.0         1   \n",
       "4    missing   44.0         0   \n",
       "\n",
       "                                    item_description     main_cat  \\\n",
       "0                                 no description yet          men   \n",
       "1  this keyboard is in great condition and works ...  electronics   \n",
       "2  adorable top with a hint of lace and a key hol...        women   \n",
       "3  new with tags. leather horses. retail for [rm]...         home   \n",
       "4          complete with certificate of authenticity        women   \n",
       "\n",
       "              sub_cat1            sub_cat2                  preprocessed_name  \\\n",
       "0                 tops            t-shirts  mlb cincinnati reds shirt size xl   \n",
       "1  computers & tablets  components & parts   razer blackwidow chroma keyboard   \n",
       "2       tops & blouses              blouse                     ava viv blouse   \n",
       "3           home decor  home decor accents              leather horse statues   \n",
       "4              jewelry           necklaces               24k gold plated rose   \n",
       "\n",
       "                            preprocessed_description brand_imputed  \n",
       "0                                    description yet           mlb  \n",
       "1  keyboard great condition works like came box p...         razer  \n",
       "2  adorable top hint lace key hole back pale pink...        target  \n",
       "3  new tags leather horses retail stand foot high...       missing  \n",
       "4                  complete certificate authenticity       missing  "
      ]
     },
     "execution_count": 327,
     "metadata": {},
     "output_type": "execute_result"
    }
   ],
   "source": [
    "product_listings_mercari.head()"
   ]
  },
  {
   "cell_type": "markdown",
   "id": "96b53967",
   "metadata": {},
   "source": [
    "### Exploring Imputed Brands"
   ]
  },
  {
   "cell_type": "code",
   "execution_count": 328,
   "id": "390dcf86",
   "metadata": {},
   "outputs": [
    {
     "data": {
      "text/plain": [
       "count     1481661\n",
       "unique       4802\n",
       "top       missing\n",
       "freq       424901\n",
       "Name: brand_imputed, dtype: object"
      ]
     },
     "metadata": {},
     "output_type": "display_data"
    }
   ],
   "source": [
    "# brand\n",
    "product_listings_mercari['brand_imputed'].describe()"
   ]
  },
  {
   "cell_type": "code",
   "execution_count": 330,
   "id": "9e503e57",
   "metadata": {},
   "outputs": [
    {
     "name": "stdout",
     "output_type": "stream",
     "text": [
      "67.19544672452619\n",
      "28.67734252301977\n"
     ]
    }
   ],
   "source": [
    "print(424901/632336*100)\n",
    "print(424901/1481661*100)\n",
    "\n",
    "# from 632,336 missing values in brand_name, 67% was imputed using name\n",
    "# the % of missing values in the data was reduced from ~42.7% to ~28.7%"
   ]
  },
  {
   "cell_type": "code",
   "execution_count": 332,
   "id": "92aaf1ed",
   "metadata": {},
   "outputs": [
    {
     "data": {
      "image/png": "[encoded data removed]",
      "text/plain": [
       "<Figure size 1008x864 with 2 Axes>"
      ]
     },
     "metadata": {
      "needs_background": "light"
     },
     "output_type": "display_data"
    }
   ],
   "source": [
    "# mean and median price of the first 20 subcategories_1\n",
    "fig,ax = plt.subplots(2, 1, figsize=(14,12), gridspec_kw={'hspace': 0.8})\n",
    "# median price\n",
    "product_listings_mercari.groupby('brand_imputed')['price'].median().round(2)[:20].plot.bar(rot=80, title='Median of 20 brand_imputed', ax=ax[0]) \n",
    "# mean price\n",
    "product_listings_mercari.groupby('brand_imputed')['price'].mean().round(2)[:20].plot.bar(rot=80, title='Mean of 20 brand_imputed', ax=ax[1])\n",
    "\n",
    "for i in range(len(ax)):\n",
    "    ax[i].bar_label(ax[i].containers[0])\n",
    "\n",
    "plt.show()"
   ]
  },
  {
   "cell_type": "code",
   "execution_count": 335,
   "id": "65c13bd3",
   "metadata": {},
   "outputs": [
    {
     "data": {
      "text/plain": [
       "<AxesSubplot:xlabel='brand_imputed', ylabel='price'>"
      ]
     },
     "execution_count": 335,
     "metadata": {},
     "output_type": "execute_result"
    },
    {
     "data": {
      "image/png": "[encoded data removed]",
      "text/plain": [
       "<Figure size 720x576 with 1 Axes>"
      ]
     },
     "metadata": {},
     "output_type": "display_data"
    }
   ],
   "source": [
    "exp_brand = product_listings_mercari.sort_values(by='price', ascending=False)['brand_imputed'].dropna().unique()[:10]\n",
    "\n",
    "# analyzing expensive brands and price\n",
    "exp_brands = product_listings_mercari['brand_imputed'].where(product_listings_mercari['brand_imputed'].isin(exp_brand))\n",
    "\n",
    "# plotting main categories and price\n",
    "fig, ax =plt.subplots(figsize=(10,8))\n",
    "ax.set_yscale(\"log\")\n",
    "ax.set_xticklabels(ax.get_xticklabels(), rotation=40, ha=\"right\")\n",
    "sns.set_style(\"whitegrid\")\n",
    "sns.boxplot(y='price', x=exp_brands, data=product_listings_mercari)"
   ]
  },
  {
   "cell_type": "code",
   "execution_count": 350,
   "id": "7d1f136f",
   "metadata": {},
   "outputs": [
    {
     "data": {
      "text/plain": [
       "<AxesSubplot:title={'center':'Mean Price - Category: home'}, ylabel='brand_imputed'>"
      ]
     },
     "execution_count": 350,
     "metadata": {},
     "output_type": "execute_result"
    },
    {
     "data": {
      "image/png": "[encoded data removed]",
      "text/plain": [
       "<Figure size 648x504 with 1 Axes>"
      ]
     },
     "metadata": {},
     "output_type": "display_data"
    },
    {
     "data": {
      "image/png": "[encoded data removed]",
      "text/plain": [
       "<Figure size 648x504 with 1 Axes>"
      ]
     },
     "metadata": {},
     "output_type": "display_data"
    }
   ],
   "source": [
    "unique_main_cat = product_listings_mercari.main_cat.unique()\n",
    "\n",
    "category = unique_main_cat[3] # choosing a category from the list\n",
    "\n",
    "product_listings_mercari[product_listings_mercari['main_cat']==category].groupby('brand_imputed').median()['price'].reset_index()[:20].plot.barh(x='brand_imputed', figsize=(9,7), title='Median Price - Category: %s' %category)\n",
    "                                                                                                         \n",
    "product_listings_mercari[product_listings_mercari['main_cat']==category].groupby('brand_imputed').mean()['price'].reset_index()[:20].plot.barh(x='brand_imputed', figsize=(9,7), title='Mean Price - Category: %s' %category)"
   ]
  },
  {
   "cell_type": "markdown",
   "id": "d4061712",
   "metadata": {},
   "source": [
    "- there is a high variation in prices based on the brand.\n",
    "- even within the same category or subcategory the prices then may vary according to the brand"
   ]
  },
  {
   "cell_type": "code",
   "execution_count": 311,
   "id": "031bf92d",
   "metadata": {},
   "outputs": [
    {
     "name": "stdout",
     "output_type": "stream",
     "text": [
      "<class 'pandas.core.frame.DataFrame'>\n",
      "RangeIndex: 1481661 entries, 0 to 1481660\n",
      "Data columns (total 11 columns):\n",
      " #   Column             Non-Null Count    Dtype  \n",
      "---  ------             --------------    -----  \n",
      " 0   train_id           1481661 non-null  int64  \n",
      " 1   name               1481661 non-null  object \n",
      " 2   item_condition_id  1481661 non-null  int64  \n",
      " 3   category_name      1475347 non-null  object \n",
      " 4   brand_name         849325 non-null   object \n",
      " 5   price              1481661 non-null  float64\n",
      " 6   shipping           1481661 non-null  int64  \n",
      " 7   item_description   1481661 non-null  object \n",
      " 8   main_cat           1481661 non-null  object \n",
      " 9   sub_cat1           1481661 non-null  object \n",
      " 10  sub_cat2           1481661 non-null  object \n",
      "dtypes: float64(1), int64(3), object(7)\n",
      "memory usage: 124.3+ MB\n"
     ]
    }
   ],
   "source": [
    "product_listings_mercari.info()"
   ]
  },
  {
   "cell_type": "code",
   "execution_count": null,
   "id": "0865a62e",
   "metadata": {},
   "outputs": [],
   "source": [
    "# exporting cleaned dataset for next stage\n",
    "product_listings_mercari.to_csv(data_path+\"mercari_cleaned_brand_imputed.csv\", index=False)"
   ]
  }
 ],
 "metadata": {
  "kernelspec": {
   "display_name": "Python 3 (ipykernel)",
   "language": "python",
   "name": "python3"
  },
  "language_info": {
   "codemirror_mode": {
    "name": "ipython",
    "version": 3
   },
   "file_extension": ".py",
   "mimetype": "text/x-python",
   "name": "python",
   "nbconvert_exporter": "python",
   "pygments_lexer": "ipython3",
   "version": "3.9.7"
  }
 },
 "nbformat": 4,
 "nbformat_minor": 5
}
